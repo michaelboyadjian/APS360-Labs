{
  "nbformat": 4,
  "nbformat_minor": 0,
  "metadata": {
    "colab": {
      "name": "Lab_5_Spam_Detection.ipynb",
      "provenance": [],
      "collapsed_sections": []
    },
    "kernelspec": {
      "display_name": "Python 3",
      "language": "python",
      "name": "python3"
    },
    "language_info": {
      "codemirror_mode": {
        "name": "ipython",
        "version": 3
      },
      "file_extension": ".py",
      "mimetype": "text/x-python",
      "name": "python",
      "nbconvert_exporter": "python",
      "pygments_lexer": "ipython3",
      "version": "3.7.4"
    }
  },
  "cells": [
    {
      "cell_type": "markdown",
      "metadata": {
        "id": "_bphECiUa9zw"
      },
      "source": [
        "# Lab 5: Spam Detection\n",
        "\n",
        "**Deadline**: Thursday, Nov 5, 11:59pm\n",
        "\n",
        "**Late Penalty**: There is a penalty-free grace period of one hour past the deadline. Any work that is submitted between 1 hour and 24 hours past the deadline will receive a 20% grade deduction. No other late work is accepted. Quercus submission time will be used, not your local computer time. You can submit your labs as many times as you want before the deadline, so please submit often and early.\n",
        "\n",
        "**TA**: Geoff Donoghue \n",
        "\n",
        "In this assignment, we will build a recurrent neural network to classify a SMS text message\n",
        "as \"spam\" or \"not spam\". In the process, you will\n",
        "    \n",
        "1. Clean and process text data for machine learning.\n",
        "2. Understand and implement a character-level recurrent neural network.\n",
        "3. Use torchtext to build recurrent neural network models.\n",
        "4. Understand batching for a recurrent neural network, and use torchtext to implement RNN batching.\n",
        "\n",
        "### What to submit\n",
        "\n",
        "Submit a PDF file containing all your code, outputs, and write-up. You can produce a PDF of your Google Colab file by going to File > Print and then save as PDF. The Colab instructions have more information (.html files are also acceptable).\n",
        "\n",
        "Do not submit any other files produced by your code.\n",
        "\n",
        "Include a link to your colab file in your submission."
      ]
    },
    {
      "cell_type": "markdown",
      "metadata": {
        "id": "rWiUqJJTa9z6"
      },
      "source": [
        "## Colab Link\n",
        "\n",
        "Include a link to your Colab file here. If you would like the TA to look at your\n",
        "Colab file in case your solutions are cut off, **please make sure that your Colab\n",
        "file is publicly accessible at the time of submission**.\n",
        "\n",
        "Colab Link: https://colab.research.google.com/drive/17GUFxCO97PeeNIVYvCylX04fz7bNoF_h?authuser=1#scrollTo=M0jLI9LBa90C"
      ]
    },
    {
      "cell_type": "code",
      "metadata": {
        "id": "HgfNOUaPa9z8"
      },
      "source": [
        "import torch\n",
        "import torch.nn as nn\n",
        "import torch.nn.functional as F\n",
        "import torch.optim as optim\n",
        "import numpy as np"
      ],
      "execution_count": null,
      "outputs": []
    },
    {
      "cell_type": "markdown",
      "metadata": {
        "id": "M0jLI9LBa90C"
      },
      "source": [
        "## Part 1. Data Cleaning [15 pt]\n",
        "\n",
        "We will be using the \"SMS Spam Collection Data Set\" available at http://archive.ics.uci.edu/ml/datasets/SMS+Spam+Collection\n",
        "\n",
        "There is a link to download the \"Data Folder\" at the very top of the webpage. Download the zip file, unzip it, and upload the file `SMSSpamCollection` to Colab.    "
      ]
    },
    {
      "cell_type": "markdown",
      "metadata": {
        "id": "sSuF7C_Ga90E"
      },
      "source": [
        "### Part (a) [2 pt]\n",
        "\n",
        "Open up the file in Python, and print out one example of a spam SMS, and one example of a non-spam SMS.\n",
        "\n",
        "What is the label value for a spam message, and what is the label value for a non-spam message?"
      ]
    },
    {
      "cell_type": "code",
      "metadata": {
        "id": "RJt9Wezqkgxg",
        "colab": {
          "base_uri": "https://localhost:8080/"
        },
        "outputId": "444aaa54-64fb-441b-c8f1-01dca31fc2d4"
      },
      "source": [
        "from google.colab import drive\n",
        "drive.mount('/content/drive')"
      ],
      "execution_count": null,
      "outputs": [
        {
          "output_type": "stream",
          "text": [
            "Mounted at /content/drive\n"
          ],
          "name": "stdout"
        }
      ]
    },
    {
      "cell_type": "code",
      "metadata": {
        "id": "I_IfXHeTa90F",
        "colab": {
          "base_uri": "https://localhost:8080/"
        },
        "outputId": "d7e3d8da-59ba-4e39-b329-81232516c954"
      },
      "source": [
        "master_path = '/content/drive/My Drive/EngSci Year3/APS360/Labs/Lab 5/SMSSpamCollection'\n",
        "\n",
        "printedH = False\n",
        "printedS = False\n",
        "for line in open(master_path):\n",
        "  if line[0:3] == \"ham\" and not printedH:\n",
        "    print(line)\n",
        "    printedH = True\n",
        "  if line[0:4] == \"spam\" and not printedS:\n",
        "    print(line)\n",
        "    printedS = True\n",
        "  if printedS and printedH:\n",
        "    break\n",
        "\n"
      ],
      "execution_count": null,
      "outputs": [
        {
          "output_type": "stream",
          "text": [
            "ham\tGo until jurong point, crazy.. Available only in bugis n great world la e buffet... Cine there got amore wat...\n",
            "\n",
            "spam\tFree entry in 2 a wkly comp to win FA Cup final tkts 21st May 2005. Text FA to 87121 to receive entry question(std txt rate)T&C's apply 08452810075over18's\n",
            "\n"
          ],
          "name": "stdout"
        }
      ]
    },
    {
      "cell_type": "markdown",
      "metadata": {
        "id": "LRMQvdVToSBB"
      },
      "source": [
        "*   Spam messages are labelled \"spam\"\n",
        "*   Non-spam messages are labelled \"ham\"\n",
        "\n"
      ]
    },
    {
      "cell_type": "markdown",
      "metadata": {
        "id": "AukA6vMVa90d"
      },
      "source": [
        "### Part (b) [1 pt]\n",
        "\n",
        "How many spam messages are there in the data set?\n",
        "How many non-spam messages are there in the data set?\n"
      ]
    },
    {
      "cell_type": "code",
      "metadata": {
        "id": "LgsqyemVa90e",
        "colab": {
          "base_uri": "https://localhost:8080/"
        },
        "outputId": "c25d328f-e015-4989-e8b6-98a39a00a1a3"
      },
      "source": [
        "HamCnt = 0\n",
        "SpamCnt = 0\n",
        "\n",
        "for line in open(master_path):\n",
        "  if line[0:3] == \"ham\":\n",
        "    HamCnt += 1\n",
        "  if line[0:4] == \"spam\":\n",
        "    SpamCnt += 1\n",
        "\n",
        "print(\"There are %d spam messages in the data set\" % SpamCnt)\n",
        "print(\"There are %d non-spam messages in the data set\" % HamCnt)"
      ],
      "execution_count": null,
      "outputs": [
        {
          "output_type": "stream",
          "text": [
            "There are 747 spam messages in the data set\n",
            "There are 4827 non-spam messages in the data set\n"
          ],
          "name": "stdout"
        }
      ]
    },
    {
      "cell_type": "markdown",
      "metadata": {
        "id": "d1WXxVt6a90h"
      },
      "source": [
        "### Part (c) [4 pt]\n",
        "\n",
        "We will be using the package `torchtext` to load, process, and batch the data.\n",
        "A tutorial to torchtext is available below. This tutorial uses the same\n",
        "Sentiment140 data set that we explored during lecture.\n",
        "\n",
        "https://medium.com/@sonicboom8/sentiment-analysis-torchtext-55fb57b1fab8\n",
        "\n",
        "Unlike what we did during lecture, we will be building a **character level RNN**.\n",
        "That is, we will treat each **character** as a token in our sequence,\n",
        "rather than each **word**.\n",
        "\n",
        "Identify two advantages and two disadvantages of modelling SMS text\n",
        "messages as a sequence of characters rather than a sequence of words."
      ]
    },
    {
      "cell_type": "markdown",
      "metadata": {
        "id": "hydFAm5spHCi"
      },
      "source": [
        "**Advantages of Sequences of Characters:**\n",
        "1.   There is more flexibility in handelling random characters, punctuations, etc\n",
        "2.   Less unique characters than words\n",
        "\n",
        "**Disadvantages of Sequences of Characters:**\n",
        "1.   More parameters would be required so it would be more computationally expensive\n",
        "2.   More difficult to capture long distinct dependencies\n"
      ]
    },
    {
      "cell_type": "markdown",
      "metadata": {
        "id": "ie_D0bv9a90k"
      },
      "source": [
        "### Part (d) [1 pt]\n",
        "\n",
        "We will be loading our data set using `torchtext.data.TabularDataset`. The\n",
        "constructor will read directly from the `SMSSpamCollection` file. \n",
        "\n",
        "For the data file to be read successfuly, we\n",
        "need to specify the **fields** (columns) in the file. \n",
        "In our case, the dataset has two fields: \n",
        "\n",
        "- a text field containing the sms messages,\n",
        "- a label field which will be converted into a binary label.\n",
        "\n",
        "Split the dataset into `train`, `valid`, and `test`. Use a 60-20-20 split.\n",
        "You may find this torchtext API page helpful:\n",
        "https://torchtext.readthedocs.io/en/latest/data.html#dataset\n",
        "\n",
        "Hint: There is a `Dataset` method that can perform the random split for you."
      ]
    },
    {
      "cell_type": "code",
      "metadata": {
        "id": "P_Y6Puz9a90l"
      },
      "source": [
        "import torchtext\n",
        "\n",
        "text_field = torchtext.data.Field(sequential=True,      # text sequence\n",
        "                                  tokenize=lambda x: x, # because are building a character-RNN\n",
        "                                  include_lengths=True, # to track the length of sequences, for batching\n",
        "                                  batch_first=True,\n",
        "                                  use_vocab=True)       # to turn each character into an integer index\n",
        "label_field = torchtext.data.Field(sequential=False,    # not a sequence\n",
        "                                   use_vocab=False,     # don't need to track vocabulary\n",
        "                                   is_target=True,      \n",
        "                                   batch_first=True,\n",
        "                                   preprocessing=lambda x: int(x == 'spam')) # convert text to 0 and 1\n",
        "\n",
        "fields = [('label', label_field), ('sms', text_field)]\n",
        "dataset = torchtext.data.TabularDataset(master_path, \"tsv\", fields)\n",
        "test, valid, train = dataset.split(split_ratio=[0.6, 0.2, 0.2])"
      ],
      "execution_count": null,
      "outputs": []
    },
    {
      "cell_type": "markdown",
      "metadata": {
        "id": "v6nP0Ks_a90o"
      },
      "source": [
        "### Part (e) [2 pt]\n",
        "\n",
        "You saw in part (b) that there are many more non-spam messages than spam messages.\n",
        "This **imbalance** in our training data will be problematic for training.\n",
        "We can fix this disparity by duplicating spam messages in the training set,\n",
        "so that the training set is roughly **balanced**.\n",
        "\n",
        "Explain why having a balanced training set is helpful for training our neural network.\n",
        "\n",
        "Note: if you are not sure, try removing the below code and train your model."
      ]
    },
    {
      "cell_type": "code",
      "metadata": {
        "id": "FWvx9_rka90p"
      },
      "source": [
        "# save the original training examples\n",
        "old_train_examples = train.examples\n",
        "# get all the spam messages in `train`\n",
        "train_spam = []\n",
        "for item in train.examples:\n",
        "    if item.label == 1:\n",
        "        train_spam.append(item)\n",
        "# duplicate each spam message 6 more times\n",
        "train.examples = old_train_examples + train_spam * 6"
      ],
      "execution_count": null,
      "outputs": []
    },
    {
      "cell_type": "markdown",
      "metadata": {
        "id": "1WTzLacoComc"
      },
      "source": [
        "It is important for the training set to balanced as you want relatively equal exposure to spam and non-spam messages, so that the model is capable of detecting both with similar accuracy. If we have a training set with a disproportianate amount of samples, then it is likely that the testing accuracy may be disproportionate as well."
      ]
    },
    {
      "cell_type": "markdown",
      "metadata": {
        "id": "j7eUmBEva90r"
      },
      "source": [
        "### Part (f) [1 pt]\n",
        "\n",
        "We need to build the vocabulary on the training data by running the below code.\n",
        "This finds all the possible character tokens in the training set.\n",
        "\n",
        "Explain what the variables `text_field.vocab.stoi` and `text_field.vocab.itos` represent."
      ]
    },
    {
      "cell_type": "code",
      "metadata": {
        "id": "8CQM8flKa90s",
        "colab": {
          "base_uri": "https://localhost:8080/"
        },
        "outputId": "948e151b-4ec0-4675-ae6f-610a6b0094ce"
      },
      "source": [
        "text_field.build_vocab(train)\n",
        "print(text_field.vocab.stoi)\n",
        "print(text_field.vocab.itos)"
      ],
      "execution_count": null,
      "outputs": [
        {
          "output_type": "stream",
          "text": [
            "defaultdict(<function _default_unk_index at 0x7f0001e3cbf8>, {'<unk>': 0, '<pad>': 1, ' ': 2, 'e': 3, 'o': 4, 't': 5, 'a': 6, 'n': 7, 'r': 8, 'i': 9, 's': 10, 'l': 11, 'u': 12, 'h': 13, '0': 14, 'd': 15, 'c': 16, '.': 17, 'm': 18, 'w': 19, 'y': 20, 'p': 21, 'g': 22, '1': 23, 'f': 24, '8': 25, 'b': 26, '2': 27, 'k': 28, 'v': 29, 'T': 30, '5': 31, 'C': 32, 'E': 33, '4': 34, '7': 35, 'S': 36, 'I': 37, '3': 38, 'O': 39, '6': 40, 'x': 41, 'N': 42, '!': 43, 'R': 44, 'A': 45, ',': 46, 'W': 47, '9': 48, 'M': 49, 'P': 50, 'U': 51, 'L': 52, 'H': 53, 'B': 54, 'D': 55, '/': 56, 'Y': 57, 'F': 58, 'G': 59, \"'\": 60, '?': 61, '-': 62, '£': 63, '&': 64, 'V': 65, ':': 66, 'z': 67, 'j': 68, ')': 69, 'X': 70, 'K': 71, '+': 72, 'J': 73, ';': 74, '(': 75, '*': 76, 'q': 77, '>': 78, '#': 79, 'Q': 80, '\"': 81, '@': 82, '=': 83, 'ü': 84, 'Z': 85, '<': 86, '\\x93': 87, '\\x92': 88, '$': 89, 'Ü': 90, '[': 91, ']': 92, '“': 93, '‘': 94, '_': 95, '\\x94': 96, '–': 97, '…': 98, '~': 99, 'è': 100, 'ì': 101})\n",
            "['<unk>', '<pad>', ' ', 'e', 'o', 't', 'a', 'n', 'r', 'i', 's', 'l', 'u', 'h', '0', 'd', 'c', '.', 'm', 'w', 'y', 'p', 'g', '1', 'f', '8', 'b', '2', 'k', 'v', 'T', '5', 'C', 'E', '4', '7', 'S', 'I', '3', 'O', '6', 'x', 'N', '!', 'R', 'A', ',', 'W', '9', 'M', 'P', 'U', 'L', 'H', 'B', 'D', '/', 'Y', 'F', 'G', \"'\", '?', '-', '£', '&', 'V', ':', 'z', 'j', ')', 'X', 'K', '+', 'J', ';', '(', '*', 'q', '>', '#', 'Q', '\"', '@', '=', 'ü', 'Z', '<', '\\x93', '\\x92', '$', 'Ü', '[', ']', '“', '‘', '_', '\\x94', '–', '…', '~', 'è', 'ì']\n"
          ],
          "name": "stdout"
        }
      ]
    },
    {
      "cell_type": "markdown",
      "metadata": {
        "id": "pBs71TrmF9Xs"
      },
      "source": [
        "*   **text_field.voab.stoi** is a dictionary mapping characters to numbers\n",
        "*   **text_field.voab.stoi** is an array of the characters indexed by their numerical identifiers"
      ]
    },
    {
      "cell_type": "markdown",
      "metadata": {
        "id": "TC8WVE8Ua90u"
      },
      "source": [
        "### Part (g) [2 pt]\n",
        "\n",
        "The tokens `<unk>` and `<pad>` were not in our SMS text messages.\n",
        "What do these two values represent?"
      ]
    },
    {
      "cell_type": "markdown",
      "metadata": {
        "id": "F5maCEBtGjlF"
      },
      "source": [
        "*   **unk** represents unknown characters\n",
        "*   **pad** represents padding characters"
      ]
    },
    {
      "cell_type": "markdown",
      "metadata": {
        "id": "Ff5CNk7Qa90y"
      },
      "source": [
        "### Part (h) [2 pt]\n",
        "\n",
        "Since text sequences are of variable length, `torchtext` provides a `BucketIterator` data loader,\n",
        "which batches similar length sequences together. The iterator also provides functionalities to\n",
        "pad sequences automatically.\n",
        "\n",
        "Take a look at 10 batches in `train_iter`. What is the maximum length of the\n",
        "input sequence in each batch? How many `<pad>` tokens are used in each of the 10\n",
        "batches?"
      ]
    },
    {
      "cell_type": "code",
      "metadata": {
        "id": "V8N8qLWOa90y"
      },
      "source": [
        "train_iter = torchtext.data.BucketIterator(train,\n",
        "                                           batch_size=32,\n",
        "                                           sort_key=lambda x: len(x.sms), # to minimize padding\n",
        "                                           sort_within_batch=True,        # sort within each batch\n",
        "                                           repeat=False)                  # repeat the iterator for many epochs"
      ],
      "execution_count": null,
      "outputs": []
    },
    {
      "cell_type": "code",
      "metadata": {
        "id": "Qwz-rOaha902",
        "colab": {
          "base_uri": "https://localhost:8080/"
        },
        "outputId": "b7790e38-18c1-40f9-ff63-94f3d6d2ebf1"
      },
      "source": [
        "count = 1\n",
        "for batch in train_iter:\n",
        "    print(str(count) + \" Maximum Length of the Input Sequence: \", batch.sms[1].max())\n",
        "    print(str(count) + \" Number of <pad> tokens used in batch: \", -1 * (batch.sms[1] - batch.sms[1].max()).sum())\n",
        "    print(\"\\n\")\n",
        "    if count == 10: \n",
        "        break\n",
        "    count += 1"
      ],
      "execution_count": null,
      "outputs": [
        {
          "output_type": "stream",
          "text": [
            "1 Maximum Length of the Input Sequence:  tensor(90)\n",
            "1 Number of <pad> tokens used in batch:  tensor(57)\n",
            "\n",
            "\n",
            "2 Maximum Length of the Input Sequence:  tensor(28)\n",
            "2 Number of <pad> tokens used in batch:  tensor(33)\n",
            "\n",
            "\n",
            "3 Maximum Length of the Input Sequence:  tensor(145)\n",
            "3 Number of <pad> tokens used in batch:  tensor(0)\n",
            "\n",
            "\n",
            "4 Maximum Length of the Input Sequence:  tensor(68)\n",
            "4 Number of <pad> tokens used in batch:  tensor(67)\n",
            "\n",
            "\n",
            "5 Maximum Length of the Input Sequence:  tensor(54)\n",
            "5 Number of <pad> tokens used in batch:  tensor(45)\n",
            "\n",
            "\n",
            "6 Maximum Length of the Input Sequence:  tensor(161)\n",
            "6 Number of <pad> tokens used in batch:  tensor(23)\n",
            "\n",
            "\n",
            "7 Maximum Length of the Input Sequence:  tensor(142)\n",
            "7 Number of <pad> tokens used in batch:  tensor(44)\n",
            "\n",
            "\n",
            "8 Maximum Length of the Input Sequence:  tensor(154)\n",
            "8 Number of <pad> tokens used in batch:  tensor(41)\n",
            "\n",
            "\n",
            "9 Maximum Length of the Input Sequence:  tensor(76)\n",
            "9 Number of <pad> tokens used in batch:  tensor(58)\n",
            "\n",
            "\n",
            "10 Maximum Length of the Input Sequence:  tensor(136)\n",
            "10 Number of <pad> tokens used in batch:  tensor(27)\n",
            "\n",
            "\n"
          ],
          "name": "stdout"
        }
      ]
    },
    {
      "cell_type": "markdown",
      "metadata": {
        "id": "y7HnqP6_a904"
      },
      "source": [
        "## Part 2. Model Building [8 pt]\n",
        "\n",
        "Build a recurrent neural network model, using an architecture of your choosing. \n",
        "Use the one-hot embedding of each character as input to your recurrent network.\n",
        "Use one or more fully-connected layers to make the prediction based on your\n",
        "recurrent network output.\n",
        "\n",
        "Instead of using the RNN output value for the final token, another often used\n",
        "strategy is to max-pool over the entire output array. That is, instead of calling\n",
        "something like:\n",
        "\n",
        "```\n",
        "out, _ = self.rnn(x)\n",
        "self.fc(out[:, -1, :])\n",
        "```\n",
        "\n",
        "where `self.rnn` is an `nn.RNN`, `nn.GRU`, or `nn.LSTM` module, and `self.fc` is a \n",
        "fully-connected \n",
        "layer, we use:\n",
        "\n",
        "```\n",
        "out, _ = self.rnn(x)\n",
        "self.fc(torch.max(out, dim=1)[0])\n",
        "```\n",
        "\n",
        "This works reasonably in practice. An even better alternative is to concatenate the\n",
        "max-pooling and average-pooling of the RNN outputs:\n",
        "\n",
        "```\n",
        "out, _ = self.rnn(x)\n",
        "out = torch.cat([torch.max(out, dim=1)[0], \n",
        "                 torch.mean(out, dim=1)], dim=1)\n",
        "self.fc(out)\n",
        "```\n",
        "\n",
        "We encourage you to try out all these options. The way you pool the RNN outputs\n",
        "is one of the \"hyperparameters\" that you can choose to tune later on."
      ]
    },
    {
      "cell_type": "code",
      "metadata": {
        "id": "jHl1p_Wwa905",
        "colab": {
          "base_uri": "https://localhost:8080/"
        },
        "outputId": "78d980b8-ff62-45c3-b20f-486e1e00b6ea"
      },
      "source": [
        "# You might find this code helpful for obtaining\n",
        "# PyTorch one-hot vectors.\n",
        "\n",
        "ident = torch.eye(10)\n",
        "print(ident[0]) # one-hot vector\n",
        "print(ident[1]) # one-hot vector\n",
        "x = torch.tensor([[1, 2], [3, 4]])\n",
        "print(ident[x]) # one-hot vectors"
      ],
      "execution_count": null,
      "outputs": [
        {
          "output_type": "stream",
          "text": [
            "tensor([1., 0., 0., 0., 0., 0., 0., 0., 0., 0.])\n",
            "tensor([0., 1., 0., 0., 0., 0., 0., 0., 0., 0.])\n",
            "tensor([[[0., 1., 0., 0., 0., 0., 0., 0., 0., 0.],\n",
            "         [0., 0., 1., 0., 0., 0., 0., 0., 0., 0.]],\n",
            "\n",
            "        [[0., 0., 0., 1., 0., 0., 0., 0., 0., 0.],\n",
            "         [0., 0., 0., 0., 1., 0., 0., 0., 0., 0.]]])\n"
          ],
          "name": "stdout"
        }
      ]
    },
    {
      "cell_type": "code",
      "metadata": {
        "id": "4LTQ7zFka909"
      },
      "source": [
        "class smsRNN(nn.Module):\n",
        "\n",
        "    def __init__(self, input_size, hidden_size, num_classes):\n",
        "        super(smsRNN, self).__init__()\n",
        "        self.emb = torch.eye(input_size)\n",
        "        self.hidden_size = hidden_size\n",
        "        self.rnn = nn.RNN(input_size, hidden_size, batch_first=True)\n",
        "        self.fc = nn.Linear(2 * hidden_size, num_classes)\n",
        "    \n",
        "    def forward(self, x):\n",
        "        x = self.emb[x]\n",
        "        h0 = torch.zeros(1, x.size(0), self.hidden_size)\n",
        "        out, _ = self.rnn(x, h0)\n",
        "        out, _ = self.rnn(x)\n",
        "        out = torch.cat([torch.max(out, dim=1)[0], torch.mean(out, dim=1)], dim=1)\n",
        "        out = self.fc(out)\n",
        "        return out"
      ],
      "execution_count": null,
      "outputs": []
    },
    {
      "cell_type": "markdown",
      "metadata": {
        "id": "vKIYPl_Ba90_"
      },
      "source": [
        "## Part 3. Training [16 pt]\n",
        "\n",
        "### Part (a) [4 pt]\n",
        "\n",
        "Complete the `get_accuracy` function, which will compute the\n",
        "accuracy (rate) of your model across a dataset (e.g. validation set).\n",
        "You may modify `torchtext.data.BucketIterator` to make your computation\n",
        "faster."
      ]
    },
    {
      "cell_type": "code",
      "metadata": {
        "id": "pvNfhGD6a91A"
      },
      "source": [
        "def get_accuracy(model, data_loader):\n",
        "    correct, total = 0, 0\n",
        "    for batch in data_loader:\n",
        "        output = model(batch.sms[0])\n",
        "\n",
        "        soft_out = torch.softmax(output, dim = 1)\n",
        "        pred = torch.argmax(soft_out, axis = 1)\n",
        "\n",
        "        correct += pred.eq(batch.label.view_as(pred)).sum().item()\n",
        "        total += len(batch)\n",
        "    return correct / total"
      ],
      "execution_count": null,
      "outputs": []
    },
    {
      "cell_type": "markdown",
      "metadata": {
        "id": "TlxlcAC1a91C"
      },
      "source": [
        "### Part (b) [4 pt]\n",
        "\n",
        "Train your model. Plot the training curve of your final model. \n",
        "Your training curve should have the training/validation loss and\n",
        "accuracy plotted periodically.\n",
        "\n",
        "Note: Not all of your batches will have the same batch size.\n",
        "In particular, if your training set does not divide evenly by\n",
        "your batch size, there will be a batch that is smaller than\n",
        "the rest. "
      ]
    },
    {
      "cell_type": "code",
      "metadata": {
        "id": "CVtf7CJCa91D"
      },
      "source": [
        "import matplotlib.pyplot as plt\n",
        "def train_rnn_network(model, train, valid, num_epochs=5, learning_rate=1e-5):\n",
        "    criterion = nn.CrossEntropyLoss()\n",
        "    optimizer = torch.optim.Adam(model.parameters(), lr=learning_rate)\n",
        "    losses, train_acc, valid_acc = [], [], []\n",
        "    epochs = []\n",
        "    for epoch in range(num_epochs):\n",
        "        for batch in train:\n",
        "            sms = batch.sms[0]\n",
        "            labels  = batch.label\n",
        "            optimizer.zero_grad()\n",
        "            pred = model(sms)\n",
        "            loss = criterion(pred, labels)\n",
        "            loss.backward()\n",
        "            optimizer.step()\n",
        "        losses.append(float(loss))\n",
        "\n",
        "        epochs.append(epoch)\n",
        "        train_acc.append(get_accuracy(model, train))\n",
        "        valid_acc.append(get_accuracy(model, valid))\n",
        "        print(\"Epoch %d | Loss %f | Train Acc %f | Val Acc %f\" % (\n",
        "              epoch+1, loss, train_acc[-1], valid_acc[-1]))\n",
        "    # plotting\n",
        "    plt.title(\"Training Curve\")\n",
        "    plt.plot(losses, label=\"Train\")\n",
        "    plt.xlabel(\"Epoch\")\n",
        "    plt.ylabel(\"Loss\")\n",
        "    plt.show()\n",
        "\n",
        "    plt.title(\"Training Curve\")\n",
        "    plt.plot(epochs, train_acc, label=\"Train\")\n",
        "    plt.plot(epochs, valid_acc, label=\"Validation\")\n",
        "    plt.xlabel(\"Epoch\")\n",
        "    plt.ylabel(\"Accuracy\")\n",
        "    plt.legend(loc='best')\n",
        "    plt.show()"
      ],
      "execution_count": null,
      "outputs": []
    },
    {
      "cell_type": "markdown",
      "metadata": {
        "id": "fE3eRkDAa91F"
      },
      "source": [
        "### Part (c) [4 pt]\n",
        "\n",
        "Choose at least 4 hyperparameters to tune. Explain how you tuned the hyperparameters.\n",
        "You don't need to include your training curve for every model you trained.\n",
        "Instead, explain what hyperparemters you tuned, what the best validation accuracy was,\n",
        "and the reasoning behind the hyperparameter decisions you made.\n",
        "\n",
        "For this assignment, you should tune more than just your learning rate and epoch. \n",
        "Choose at least 2 hyperparameters that are unrelated to the optimizer."
      ]
    },
    {
      "cell_type": "code",
      "metadata": {
        "id": "A2GEWfDca91G",
        "colab": {
          "base_uri": "https://localhost:8080/",
          "height": 913
        },
        "outputId": "a9de38f3-2da8-4671-a806-7c4c8cfdab6c"
      },
      "source": [
        "train_iter = torchtext.data.BucketIterator(train,\n",
        "                                           batch_size=32,\n",
        "                                           sort_key=lambda x: len(x.sms), # to minimize padding\n",
        "                                           sort_within_batch=True,        # sort within each batch\n",
        "                                           repeat=False)                  # repeat the iterator for many epochs\n",
        "\n",
        "val_iter = torchtext.data.BucketIterator(valid,\n",
        "                                         batch_size=32,\n",
        "                                         sort_key=lambda x: len(x.sms), # to minimize padding\n",
        "                                         sort_within_batch=True,        # sort within each batch\n",
        "                                         repeat=False)                  # repeat the iterator for many epochs\n",
        "\n",
        "model = smsRNN(input_size=len(text_field.vocab.itos), hidden_size=50, num_classes=2)\n",
        "\n",
        "train_rnn_network(model, train_iter, val_iter, num_epochs=20, learning_rate=1e-4)"
      ],
      "execution_count": null,
      "outputs": [
        {
          "output_type": "stream",
          "text": [
            "Epoch 1 | Loss 0.692320 | Train Acc 0.519681 | Val Acc 0.771300\n",
            "Epoch 2 | Loss 0.676098 | Train Acc 0.619494 | Val Acc 0.236771\n",
            "Epoch 3 | Loss 0.641335 | Train Acc 0.559044 | Val Acc 0.127354\n",
            "Epoch 4 | Loss 0.594955 | Train Acc 0.559044 | Val Acc 0.126457\n",
            "Epoch 5 | Loss 0.670700 | Train Acc 0.562793 | Val Acc 0.130942\n",
            "Epoch 6 | Loss 0.774585 | Train Acc 0.562324 | Val Acc 0.130045\n",
            "Epoch 7 | Loss 0.591092 | Train Acc 0.566073 | Val Acc 0.142601\n",
            "Epoch 8 | Loss 0.526278 | Train Acc 0.565604 | Val Acc 0.142601\n",
            "Epoch 9 | Loss 0.681045 | Train Acc 0.582006 | Val Acc 0.182063\n",
            "Epoch 10 | Loss 0.519446 | Train Acc 0.781631 | Val Acc 0.646637\n",
            "Epoch 11 | Loss 0.586592 | Train Acc 0.920337 | Val Acc 0.904933\n",
            "Epoch 12 | Loss 0.317554 | Train Acc 0.928304 | Val Acc 0.916592\n",
            "Epoch 13 | Loss 0.495360 | Train Acc 0.937207 | Val Acc 0.947982\n",
            "Epoch 14 | Loss 0.089494 | Train Acc 0.815370 | Val Acc 0.691480\n",
            "Epoch 15 | Loss 0.683135 | Train Acc 0.886598 | Val Acc 0.952466\n",
            "Epoch 16 | Loss 0.216564 | Train Acc 0.935333 | Val Acc 0.952466\n",
            "Epoch 17 | Loss 0.133823 | Train Acc 0.937676 | Val Acc 0.947085\n",
            "Epoch 18 | Loss 0.108629 | Train Acc 0.932521 | Val Acc 0.929148\n",
            "Epoch 19 | Loss 0.397100 | Train Acc 0.942362 | Val Acc 0.947982\n",
            "Epoch 20 | Loss 0.088811 | Train Acc 0.940956 | Val Acc 0.947982\n"
          ],
          "name": "stdout"
        },
        {
          "output_type": "display_data",
          "data": {
            "image/png": "[encoded data removed]",
            "text/plain": [
              "<Figure size 432x288 with 1 Axes>"
            ]
          },
          "metadata": {
            "tags": [],
            "needs_background": "light"
          }
        },
        {
          "output_type": "display_data",
          "data": {
            "image/png": "[encoded data removed]",
            "text/plain": [
              "<Figure size 432x288 with 1 Axes>"
            ]
          },
          "metadata": {
            "tags": [],
            "needs_background": "light"
          }
        }
      ]
    },
    {
      "cell_type": "markdown",
      "metadata": {
        "id": "kdOqlWy-LESi"
      },
      "source": [
        "1. **train_rnn_network(model, train_iter, val_iter, num_epochs=10, learning_rate=1e-4), bs=32, hs=50** -  Accuracy was very chaotic with no clear trend, more epochs definitely required\n",
        "\n",
        "2. **train_rnn_network(model, train_iter, val_iter, num_epochs=20, learning_rate=1e-4), bs=32, hs=50** - Produced the best results, the loss decreased significantly over each epoch and the training and validation accuracies also converged closer to 20 epochs.\n",
        "\n",
        "3. **train_rnn_network(model, train_iter, val_iter, num_epochs=20, learning_rate=1e-5), bs=64, hs=100** - Some oscillations with the accuracy, was very up and down with no clear pattern\n",
        "\n",
        "4. **train_rnn_network(model, train_iter, val_iter, num_epochs=20, learning_rate=1e-5), bs=64, hs=50** - No real improvement, large batch size could be the issue, smaller batch size yielded better results.\n",
        "\n"
      ]
    },
    {
      "cell_type": "markdown",
      "metadata": {
        "id": "v7DY56rKa91I"
      },
      "source": [
        "### Part (d) [2 pt]\n",
        "\n",
        "Before we deploy a machine learning model, we usually want to have a better understanding\n",
        "of how our model performs beyond its validation accuracy. An important metric to track is\n",
        "*how well our model performs in certain subsets of the data*.\n",
        "\n",
        "In particular, what is the model's error rate amongst data with negative labels?\n",
        "This is called the **false positive rate**.\n",
        "\n",
        "What about the model's error rate amongst data with positive labels?\n",
        "This is called the **false negative rate**.\n",
        "\n",
        "Report your final model's false positive and false negative rate across the\n",
        "validation set."
      ]
    },
    {
      "cell_type": "code",
      "metadata": {
        "id": "7ggbQSdba91J"
      },
      "source": [
        "# Create a Dataset of only spam validation examples\n",
        "valid_spam = torchtext.data.Dataset(\n",
        "    [e for e in valid.examples if e.label == 1],\n",
        "    valid.fields)\n",
        "# Create a Dataset of only non-spam validation examples\n",
        "valid_nospam = None # TODO"
      ],
      "execution_count": null,
      "outputs": []
    },
    {
      "cell_type": "markdown",
      "metadata": {
        "id": "N1iRteb3a91O"
      },
      "source": [
        "### Part (e) [2 pt]\n",
        "\n",
        "The impact of a false positive vs a false negative can be drastically different.\n",
        "If our spam detection algorithm was deployed on your phone, what is the impact\n",
        "of a false positive on the phone's user? What is the impact of a false negative?"
      ]
    },
    {
      "cell_type": "markdown",
      "metadata": {
        "id": "A0vHdF2pMWe8"
      },
      "source": [
        "A **false positive** would mean that a real message would be marked as spam. The impact of this is that you would miss this message when it may be useful if sent directly to spam.\n",
        "\n",
        "A **false negative** would mean that a spam message would be marked as real. The impact of this is that you're inbox may receive undesired spam messages when you think that the spam detection is preventing this. Although this would be a nuisance, the impact wouldn't be as severe as a false positive, since you would potentially be missing an important message in that case.\n"
      ]
    },
    {
      "cell_type": "markdown",
      "metadata": {
        "id": "Gznefulsa91V"
      },
      "source": [
        "## Part 4. Evaluation [11 pt]\n",
        "\n",
        "### Part (a) [1 pt]\n",
        "\n",
        "Report the final test accuracy of your model."
      ]
    },
    {
      "cell_type": "code",
      "metadata": {
        "id": "D5L5D-A1a91W",
        "colab": {
          "base_uri": "https://localhost:8080/"
        },
        "outputId": "52ab14a5-9571-42d8-d813-45d59c3c443d"
      },
      "source": [
        "test_iter = torchtext.data.BucketIterator(test,\n",
        "                                           batch_size=64,\n",
        "                                           sort_key=lambda x: len(x.sms), # to minimize padding\n",
        "                                           sort_within_batch=True,        # sort within each batch\n",
        "                                           repeat=False)                  # repeat the iterator for many epochs\n",
        "\n",
        "test_accuracy = get_accuracy(model, test_iter)\n",
        "print(\"TEST ACCURACY = \", round(test_accuracy * 100, 2), \"%\")"
      ],
      "execution_count": null,
      "outputs": [
        {
          "output_type": "stream",
          "text": [
            "TEST ACCURACY =  94.23 %\n"
          ],
          "name": "stdout"
        }
      ]
    },
    {
      "cell_type": "markdown",
      "metadata": {
        "id": "6Hjmd8rca91Y"
      },
      "source": [
        "### Part (b) [3 pt]\n",
        "\n",
        "Report the false positive rate and false negative rate of your model across the test set."
      ]
    },
    {
      "cell_type": "code",
      "metadata": {
        "id": "GFiAKztJa91Z",
        "colab": {
          "base_uri": "https://localhost:8080/"
        },
        "outputId": "27aa1eb0-0c9c-42ff-ae92-5b21fc0d9259"
      },
      "source": [
        "# DATASET of ALL SPAM\n",
        "test_spam = torchtext.data.Dataset( [e for e in test.examples if e.label == 1], \n",
        "                                   test.fields)\n",
        "\n",
        "test_spam_iter = torchtext.data.BucketIterator(test_spam,\n",
        "                                           batch_size=64,\n",
        "                                           sort_key=lambda x: len(x.sms), # to minimize padding\n",
        "                                           sort_within_batch=True,        # sort within each batch\n",
        "                                           repeat=False)                  # repeat the iterator for many epochs\n",
        "\n",
        "spam_acc = get_accuracy(model, test_spam_iter)\n",
        "print(\"FALSE NEGATIVE RATE: \", round((1 - spam_acc) * 100, 2), \"%\")\n",
        "\n",
        "\n",
        "# DATASET of NON SPAM\n",
        "test_nospam = torchtext.data.Dataset([e for e in test.examples if e.label == 0],\n",
        "                                     test.fields) \n",
        "\n",
        "test_nospam_iter = torchtext.data.BucketIterator(test_nospam,\n",
        "                                           batch_size=64,\n",
        "                                           sort_key=lambda x: len(x.sms), # to minimize padding\n",
        "                                           sort_within_batch=True,        # sort within each batch\n",
        "                                           repeat=False)                  # repeat the iterator for many epochs\n",
        "\n",
        "nospam_acc = get_accuracy(model, test_nospam_iter)\n",
        "print(\"FALSE POSITIVE RATE: \", round((1 - nospam_acc) * 100, 2), \"%\")"
      ],
      "execution_count": null,
      "outputs": [
        {
          "output_type": "stream",
          "text": [
            "FALSE NEGATIVE RATE:  11.39 %\n",
            "FALSE POSITIVE RATE:  5.03 %\n"
          ],
          "name": "stdout"
        }
      ]
    },
    {
      "cell_type": "markdown",
      "metadata": {
        "id": "0jGHtQFpa91b"
      },
      "source": [
        "### Part (c) [3 pt]\n",
        "\n",
        "What is your model's prediction of the **probability** that\n",
        "the SMS message \"machine learning is sooo cool!\" is spam?\n",
        "\n",
        "Hint: To begin, use `text_field.vocab.stoi` to look up the index\n",
        "of each character in the vocabulary."
      ]
    },
    {
      "cell_type": "code",
      "metadata": {
        "id": "h_2nSJq8a91b",
        "colab": {
          "base_uri": "https://localhost:8080/"
        },
        "outputId": "5d6749fe-0a0b-4f26-c857-f69ced5643bd"
      },
      "source": [
        "msg = \"machine learning is sooo cool!\"\n",
        "\n",
        "characters = []\n",
        "for i in msg:\n",
        "  characters += [text_field.vocab.stoi[char]]\n",
        "\n",
        "characters = torch.tensor(characters)\n",
        "characters = characters.reshape(1, len(characters))\n",
        "\n",
        "out = model(characters)\n",
        "soft_out = torch.softmax(out, dim = 1)\n",
        "pred = torch.argmax(soft_out, axis = 1)\n",
        "\n",
        "if pred == 0:\n",
        "  print(\"this msg is not spam\")\n",
        "elif pred == 1:\n",
        "  print(\"this msg is spam\")"
      ],
      "execution_count": null,
      "outputs": [
        {
          "output_type": "stream",
          "text": [
            "this msg is spam\n"
          ],
          "name": "stdout"
        }
      ]
    },
    {
      "cell_type": "markdown",
      "metadata": {
        "id": "QD1zgYJpa91f"
      },
      "source": [
        "### Part (d) [4 pt]\n",
        "\n",
        "Do you think detecting spam is an easy or difficult task?\n",
        "\n",
        "Since machine learning models are expensive to train and deploy, it is very\n",
        "important to compare our models against baseline models: a simple\n",
        "model that is easy to build and inexpensive to run that we can compare our\n",
        "recurrent neural network model against.\n",
        "\n",
        "Explain how you might build a simple baseline model. This baseline model\n",
        "can be a simple neural network (with very few weights), a hand-written algorithm,\n",
        "or any other strategy that is easy to build and test.\n",
        "\n",
        "**Do not actually build a baseline model. Instead, provide instructions on\n",
        "how to build it.**"
      ]
    },
    {
      "cell_type": "markdown",
      "metadata": {
        "id": "j2r9L_g2FlOr"
      },
      "source": [
        "I think detecting spam would be a difficult task as vocabulary evolves rapidly and people have done a good job of masking messages to appear not as spam. It becomes increasingly difficult to detect these messages as a result.\n",
        "\n",
        "A simple baseline model that may be applied is a logistic regression. A logistic regression can serve as a binary classifier since it maps values to either 0 or 1. In this context, it could definitely apply since we only need to differentiate between spam and not spam. Essentially, we would just need to normalize the data between 0 and 1 and then run the regressor. Given an input message, if the resulting output is 1, we consider this as spam, and if the output is 0, we consider it not spam."
      ]
    }
  ]
}