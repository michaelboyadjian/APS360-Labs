{
  "nbformat": 4,
  "nbformat_minor": 0,
  "metadata": {
    "colab": {
      "name": "Lab_3_Gesture_Recognition.ipynb",
      "provenance": [],
      "collapsed_sections": []
    },
    "kernelspec": {
      "display_name": "Python 3",
      "language": "python",
      "name": "python3"
    },
    "language_info": {
      "codemirror_mode": {
        "name": "ipython",
        "version": 3
      },
      "file_extension": ".py",
      "mimetype": "text/x-python",
      "name": "python",
      "nbconvert_exporter": "python",
      "pygments_lexer": "ipython3",
      "version": "3.7.4"
    },
    "widgets": {
      "application/vnd.jupyter.widget-state+json": {
        "9e8ea05848f84ada9088e3a333731f47": {
          "model_module": "@jupyter-widgets/controls",
          "model_name": "HBoxModel",
          "state": {
            "_view_name": "HBoxView",
            "_dom_classes": [],
            "_model_name": "HBoxModel",
            "_view_module": "@jupyter-widgets/controls",
            "_model_module_version": "1.5.0",
            "_view_count": null,
            "_view_module_version": "1.5.0",
            "box_style": "",
            "layout": "IPY_MODEL_b4c40c15261f411ab942c800f7737677",
            "_model_module": "@jupyter-widgets/controls",
            "children": [
              "IPY_MODEL_acf80ec16ff5410da88551fc24a56803",
              "IPY_MODEL_5fd24e6c2b09475db045d8d405b7f4cc"
            ]
          }
        },
        "b4c40c15261f411ab942c800f7737677": {
          "model_module": "@jupyter-widgets/base",
          "model_name": "LayoutModel",
          "state": {
            "_view_name": "LayoutView",
            "grid_template_rows": null,
            "right": null,
            "justify_content": null,
            "_view_module": "@jupyter-widgets/base",
            "overflow": null,
            "_model_module_version": "1.2.0",
            "_view_count": null,
            "flex_flow": null,
            "width": null,
            "min_width": null,
            "border": null,
            "align_items": null,
            "bottom": null,
            "_model_module": "@jupyter-widgets/base",
            "top": null,
            "grid_column": null,
            "overflow_y": null,
            "overflow_x": null,
            "grid_auto_flow": null,
            "grid_area": null,
            "grid_template_columns": null,
            "flex": null,
            "_model_name": "LayoutModel",
            "justify_items": null,
            "grid_row": null,
            "max_height": null,
            "align_content": null,
            "visibility": null,
            "align_self": null,
            "height": null,
            "min_height": null,
            "padding": null,
            "grid_auto_rows": null,
            "grid_gap": null,
            "max_width": null,
            "order": null,
            "_view_module_version": "1.2.0",
            "grid_template_areas": null,
            "object_position": null,
            "object_fit": null,
            "grid_auto_columns": null,
            "margin": null,
            "display": null,
            "left": null
          }
        },
        "acf80ec16ff5410da88551fc24a56803": {
          "model_module": "@jupyter-widgets/controls",
          "model_name": "FloatProgressModel",
          "state": {
            "_view_name": "ProgressView",
            "style": "IPY_MODEL_f34e2c022ab74250ba57f2e7cc339318",
            "_dom_classes": [],
            "description": "100%",
            "_model_name": "FloatProgressModel",
            "bar_style": "success",
            "max": 244418560,
            "_view_module": "@jupyter-widgets/controls",
            "_model_module_version": "1.5.0",
            "value": 244418560,
            "_view_count": null,
            "_view_module_version": "1.5.0",
            "orientation": "horizontal",
            "min": 0,
            "description_tooltip": null,
            "_model_module": "@jupyter-widgets/controls",
            "layout": "IPY_MODEL_ce6ede5be9e04872a74b998e5c0ac480"
          }
        },
        "5fd24e6c2b09475db045d8d405b7f4cc": {
          "model_module": "@jupyter-widgets/controls",
          "model_name": "HTMLModel",
          "state": {
            "_view_name": "HTMLView",
            "style": "IPY_MODEL_e0ce714818014a03b95d4a4fd78ac040",
            "_dom_classes": [],
            "description": "",
            "_model_name": "HTMLModel",
            "placeholder": "​",
            "_view_module": "@jupyter-widgets/controls",
            "_model_module_version": "1.5.0",
            "value": " 233M/233M [00:14&lt;00:00, 17.0MB/s]",
            "_view_count": null,
            "_view_module_version": "1.5.0",
            "description_tooltip": null,
            "_model_module": "@jupyter-widgets/controls",
            "layout": "IPY_MODEL_4d3b76c8314f41efbd54ae8554078a51"
          }
        },
        "f34e2c022ab74250ba57f2e7cc339318": {
          "model_module": "@jupyter-widgets/controls",
          "model_name": "ProgressStyleModel",
          "state": {
            "_view_name": "StyleView",
            "_model_name": "ProgressStyleModel",
            "description_width": "initial",
            "_view_module": "@jupyter-widgets/base",
            "_model_module_version": "1.5.0",
            "_view_count": null,
            "_view_module_version": "1.2.0",
            "bar_color": null,
            "_model_module": "@jupyter-widgets/controls"
          }
        },
        "ce6ede5be9e04872a74b998e5c0ac480": {
          "model_module": "@jupyter-widgets/base",
          "model_name": "LayoutModel",
          "state": {
            "_view_name": "LayoutView",
            "grid_template_rows": null,
            "right": null,
            "justify_content": null,
            "_view_module": "@jupyter-widgets/base",
            "overflow": null,
            "_model_module_version": "1.2.0",
            "_view_count": null,
            "flex_flow": null,
            "width": null,
            "min_width": null,
            "border": null,
            "align_items": null,
            "bottom": null,
            "_model_module": "@jupyter-widgets/base",
            "top": null,
            "grid_column": null,
            "overflow_y": null,
            "overflow_x": null,
            "grid_auto_flow": null,
            "grid_area": null,
            "grid_template_columns": null,
            "flex": null,
            "_model_name": "LayoutModel",
            "justify_items": null,
            "grid_row": null,
            "max_height": null,
            "align_content": null,
            "visibility": null,
            "align_self": null,
            "height": null,
            "min_height": null,
            "padding": null,
            "grid_auto_rows": null,
            "grid_gap": null,
            "max_width": null,
            "order": null,
            "_view_module_version": "1.2.0",
            "grid_template_areas": null,
            "object_position": null,
            "object_fit": null,
            "grid_auto_columns": null,
            "margin": null,
            "display": null,
            "left": null
          }
        },
        "e0ce714818014a03b95d4a4fd78ac040": {
          "model_module": "@jupyter-widgets/controls",
          "model_name": "DescriptionStyleModel",
          "state": {
            "_view_name": "StyleView",
            "_model_name": "DescriptionStyleModel",
            "description_width": "",
            "_view_module": "@jupyter-widgets/base",
            "_model_module_version": "1.5.0",
            "_view_count": null,
            "_view_module_version": "1.2.0",
            "_model_module": "@jupyter-widgets/controls"
          }
        },
        "4d3b76c8314f41efbd54ae8554078a51": {
          "model_module": "@jupyter-widgets/base",
          "model_name": "LayoutModel",
          "state": {
            "_view_name": "LayoutView",
            "grid_template_rows": null,
            "right": null,
            "justify_content": null,
            "_view_module": "@jupyter-widgets/base",
            "overflow": null,
            "_model_module_version": "1.2.0",
            "_view_count": null,
            "flex_flow": null,
            "width": null,
            "min_width": null,
            "border": null,
            "align_items": null,
            "bottom": null,
            "_model_module": "@jupyter-widgets/base",
            "top": null,
            "grid_column": null,
            "overflow_y": null,
            "overflow_x": null,
            "grid_auto_flow": null,
            "grid_area": null,
            "grid_template_columns": null,
            "flex": null,
            "_model_name": "LayoutModel",
            "justify_items": null,
            "grid_row": null,
            "max_height": null,
            "align_content": null,
            "visibility": null,
            "align_self": null,
            "height": null,
            "min_height": null,
            "padding": null,
            "grid_auto_rows": null,
            "grid_gap": null,
            "max_width": null,
            "order": null,
            "_view_module_version": "1.2.0",
            "grid_template_areas": null,
            "object_position": null,
            "object_fit": null,
            "grid_auto_columns": null,
            "margin": null,
            "display": null,
            "left": null
          }
        }
      }
    }
  },
  "cells": [
    {
      "cell_type": "markdown",
      "metadata": {
        "id": "X6WDvajSqIDs"
      },
      "source": [
        "# Lab 3: Gesture Recognition using Convolutional Neural Networks\n",
        "\n",
        "**Deadlines**: \n",
        "\n",
        "- Lab 3 Part A: Oct 15, 11:59pm\n",
        "- Lab 3 Part B: Oct 22, 11:59pm\n",
        "\n",
        "**Late Penalty**: There is a penalty-free grace period of one hour past the deadline. Any work that is submitted between 1 hour and 24 hours past the deadline will receive a 20% grade deduction. No other late work is accepted. Quercus submission time will be used, not your local computer time. You can submit your labs as many times as you want before the deadline, so please submit often and early.\n",
        "\n",
        "**Grading TAs**: \n",
        "- Lab 3 Part A: Geoff Donoghue  \n",
        "- Lab 3 Part B: Geoff Donoghue\n",
        "\n",
        "This lab is based on an assignment developed by Prof. Lisa Zhang.\n",
        "\n",
        "This lab will be completed in two parts. In Part A you will you will gain experience gathering your own data set (specifically images of hand gestures), and understand the challenges involved in the data cleaning process. In Part B you will train a convolutional neural network to make classifications on different hand gestures. By the end of the lab, you should be able to:\n",
        "\n",
        "1. Generate and preprocess your own data\n",
        "2. Load and split data for training, validation and testing\n",
        "3. Train a Convolutional Neural Network\n",
        "4. Apply transfer learning to improve your model\n",
        "\n",
        "Note that for this lab we will not be providing you with any starter code. You should be able to take the code used in previous labs, tutorials and lectures and modify it accordingly to complete the tasks outlined below.\n",
        "\n",
        "### What to submit\n",
        "\n",
        "**Submission for Part A:**  \n",
        "Submit a zip file containing your images. Three images each of American Sign Language gestures for letters A - I (total of 27 images). You will be required to clean the images before submitting them. Details are provided under Part A of the handout.\n",
        "\n",
        "Individual image file names should follow the convention of student-number_Alphabet_file-number.jpg\n",
        "(e.g. 100343434_A_1.jpg).\n",
        "\n",
        "\n",
        "**Submission for Part B:**  \n",
        "Submit a PDF file containing all your code, outputs, and write-up\n",
        "from parts 1-5. You can produce a PDF of your Google Colab file by\n",
        "going to **File > Print** and then save as PDF. The Colab instructions\n",
        "has more information. Make sure to review the PDF submission to ensure that your answers are easy to read. Make sure that your text is not cut off at the margins. \n",
        "\n",
        "**Do not submit any other files produced by your code.**\n",
        "\n",
        "Include a link to your colab file in your submission.\n",
        "\n",
        "Please use Google Colab to complete this assignment. If you want to use Jupyter Notebook, please complete the assignment and upload your Jupyter Notebook file to Google Colab for submission. "
      ]
    },
    {
      "cell_type": "markdown",
      "metadata": {
        "id": "LfiFE_WOqIDu"
      },
      "source": [
        "## Colab Link\n",
        "\n",
        "Include a link to your colab file here\n",
        "\n",
        "Colab Link: https://colab.research.google.com/drive/1mTHU07VKwhM-LiherjUCk6B5tsQJQ1wx?authuser=1#scrollTo=2dtx1z5951fS"
      ]
    },
    {
      "cell_type": "markdown",
      "metadata": {
        "id": "kvTXpH_kqIDy"
      },
      "source": [
        "## Part A. Data Collection [10 pt]\n",
        "\n",
        "So far, we have worked with data sets that have been collected, cleaned, and curated by machine learning\n",
        "researchers and practitioners. Datasets like MNIST and CIFAR are often used as toy examples, both by\n",
        "students and by researchers testing new machine learning models.\n",
        "\n",
        "In the real world, getting a clean data set is never that easy. More than half the work in applying machine\n",
        "learning is finding, gathering, cleaning, and formatting your data set.\n",
        "\n",
        "The purpose of this lab is to help you gain experience gathering your own data set, and understand the\n",
        "challenges involved in the data cleaning process.\n",
        "\n",
        "### American Sign Language\n",
        "\n",
        "American Sign Language (ASL) is a complete, complex language that employs signs made by moving the\n",
        "hands combined with facial expressions and postures of the body. It is the primary language of many\n",
        "North Americans who are deaf and is one of several communication options used by people who are deaf or\n",
        "hard-of-hearing.\n",
        "\n",
        "The hand gestures representing English alphabet are shown below. This lab focuses on classifying a subset\n",
        "of these hand gesture images using convolutional neural networks. Specifically, given an image of a hand\n",
        "showing one of the letters A-I, we want to detect which letter is being represented.\n",
        "\n",
        "![alt text](https://www.disabled-world.com/pics/1/asl-alphabet.jpg)\n",
        "\n",
        "\n",
        "### Generating Data\n",
        "We will produce the images required for this lab by ourselves. Each student will collect, clean and submit\n",
        "three images each of Americal Sign Language gestures for letters A - I (total of 27 images)\n",
        "Steps involved in data collection\n",
        "\n",
        "1. Familiarize yourself with American Sign Language gestures for letters from A - I (9 letters).\n",
        "2. Take three pictures at slightly different orientation for each letter gesture using your\n",
        "mobile phone.\n",
        " - Ensure adequate lighting while you are capturing the images.\n",
        " - Use a white wall as your background.\n",
        " - Use your right hand to create gestures (for consistency).\n",
        " - Keep your right hand fairly apart from your body and any other obstructions.\n",
        " - Avoid having shadows on parts of your hand.\n",
        "3. Transfer the images to your laptop for cleaning.\n",
        "\n",
        "### Cleaning Data\n",
        "To simplify the machine learning the task, we will standardize the training images. We will make sure that\n",
        "all our images are of the same size (224 x 224 pixels RGB), and have the hand in the center of the cropped\n",
        "regions.\n",
        "\n",
        "You may use the following applications to crop and resize your images:\n",
        "\n",
        "**Mac**\n",
        "- Use Preview:\n",
        "– Holding down CMD + Shift will keep a square aspect ratio while selecting the hand area.\n",
        "– Resize to 224x224 pixels.\n",
        "\n",
        "**Windows 10**\n",
        "- Use Photos app to edit and crop the image and keep the aspect ratio a square.\n",
        "- Use Paint to resize the image to the final image size of 224x224 pixels.\n",
        "\n",
        "**Linux**\n",
        "- You can use GIMP, imagemagick, or other tools of your choosing.\n",
        "You may also use online tools such as http://picresize.com\n",
        "All the above steps are illustrative only. You need not follow these steps but following these will ensure that\n",
        "you produce a good quality dataset. You will be judged based on the quality of the images alone.\n",
        "Please do not edit your photos in any other way. You should not need to change the aspect ratio of your\n",
        "image. You also should not digitally remove the background or shadows—instead, take photos with a white\n",
        "background and minimal shadows.\n",
        "\n",
        "### Accepted Images\n",
        "Images will be accepted and graded based on the criteria below\n",
        "1. The final image should be size 224x224 pixels (RGB).\n",
        "2. The file format should be a .jpg file.\n",
        "3. The hand should be approximately centered on the frame.\n",
        "4. The hand should not be obscured or cut off.\n",
        "5. The photos follows the ASL gestures posted earlier.\n",
        "6. The photos were not edited in any other way (e.g. no electronic removal of shadows or background).\n",
        "\n",
        "### Submission\n",
        "Submit a zip file containing your images. There should be a total of 27 images (3 for each category)\n",
        "1. Individual image file names should follow the convention of student-number_Alphabet_file-number.jpg\n",
        "(e.g. 100343434_A_1.jpg)\n",
        "2. Zip all the images together and name it with the following convention: last-name_student-number.zip\n",
        "(e.g. last-name_100343434.zip).\n",
        "3. Submit the zipped folder.\n",
        "We will be anonymizing and combining the images that everyone submits. We will announce when the\n",
        "combined data set will be available for download.\n",
        "\n",
        "![alt text](https://github.com/UTNeural/APS360/blob/master/Gesture%20Images.PNG?raw=true)"
      ]
    },
    {
      "cell_type": "markdown",
      "metadata": {
        "id": "bJxMgWGNqID2"
      },
      "source": [
        "## Part B. Building a CNN [50 pt]\n",
        "\n",
        "For this lab, we are not going to give you any starter code. You will be writing a convolutional neural network\n",
        "from scratch. You are welcome to use any code from previous labs, lectures and tutorials. You should also\n",
        "write your own code.\n",
        "\n",
        "You may use the PyTorch documentation freely. You might also find online tutorials helpful. However, all\n",
        "code that you submit must be your own.\n",
        "\n",
        "Make sure that your code is vectorized, and does not contain obvious inefficiencies (for example, unecessary\n",
        "for loops, or unnecessary calls to unsqueeze()). Ensure enough comments are included in the code so that\n",
        "your TA can understand what you are doing. It is your responsibility to show that you understand what you\n",
        "write.\n",
        "\n",
        "**This is much more challenging and time-consuming than the previous labs.** Make sure that you\n",
        "give yourself plenty of time by starting early."
      ]
    },
    {
      "cell_type": "code",
      "metadata": {
        "id": "zdqxqdxUVknR"
      },
      "source": [
        "import numpy as np\n",
        "import time\n",
        "import torch\n",
        "import torch.nn as nn\n",
        "import torch.nn.functional as F\n",
        "import torch.optim as optim\n",
        "import torchvision\n",
        "from torch.utils.data.sampler import SubsetRandomSampler\n",
        "import torchvision.transforms as transforms\n",
        "import time\n",
        "import os\n",
        "import numpy as np\n",
        "\n",
        "import torchvision\n",
        "from torchvision import datasets, models\n",
        "import matplotlib.pyplot as plt"
      ],
      "execution_count": null,
      "outputs": []
    },
    {
      "cell_type": "code",
      "metadata": {
        "id": "uAl3-gLhoAw6",
        "colab": {
          "base_uri": "https://localhost:8080/",
          "height": 34
        },
        "outputId": "f6dbe5b6-7b83-40a2-f5c9-a3c89679278d"
      },
      "source": [
        "from google.colab import drive\n",
        "drive.mount('/content/drive')"
      ],
      "execution_count": null,
      "outputs": [
        {
          "output_type": "stream",
          "text": [
            "Mounted at /content/drive\n"
          ],
          "name": "stdout"
        }
      ]
    },
    {
      "cell_type": "markdown",
      "metadata": {
        "id": "MiDuQaAh56sT"
      },
      "source": [
        "### 1. Data Loading and Splitting [5 pt]\n",
        "\n",
        "Download the anonymized data provided on Quercus. To allow you to get a heads start on this project we will provide you with sample data from previous years. Split the data into training, validation, and test sets.\n",
        "\n",
        "Note: Data splitting is not as trivial in this lab. We want our test set to closely resemble the setting in which\n",
        "our model will be used. In particular, our test set should contain hands that are never seen in training!\n",
        "\n",
        "Explain how you split the data, either by describing what you did, or by showing the code that you used.\n",
        "Justify your choice of splitting strategy. How many training, validation, and test images do you have?\n",
        "\n",
        "For loading the data, you can use plt.imread as in Lab 1, or any other method that you choose. You may find\n",
        "torchvision.datasets.ImageFolder helpful. (see https://pytorch.org/docs/stable/torchvision/datasets.html?highlight=image%20folder#torchvision.datasets.ImageFolder\n",
        ") "
      ]
    },
    {
      "cell_type": "code",
      "metadata": {
        "id": "WBrH5kBqRLa6"
      },
      "source": [
        "# location on Google Drive\n",
        "master_path = '/content/drive/My Drive/EngSci Year3/APS360/Labs/Lab 3/'\n",
        "\n",
        "# Transform Settings - Do not use RandomResizedCrop\n",
        "transform = transforms.Compose([transforms.Resize((224,224)), \n",
        "                                transforms.ToTensor()])\n",
        "\n",
        "# Load data from Google Drive\n",
        "train_data = torchvision.datasets.ImageFolder(master_path + 'Lab_3b_Gesture_Dataset_Training', transform=transform)\n",
        "val_data = torchvision.datasets.ImageFolder(master_path + 'Lab_3b_Gesture_Dataset_Validation', transform=transform)\n",
        "test_data = torchvision.datasets.ImageFolder(master_path + 'Lab_3b_Gesture_Dataset_Testing', transform=transform)\n",
        "overfit_data = torchvision.datasets.ImageFolder(master_path + 'Lab_3b_Gesture_Dataset_Overfit', transform=transform)\n",
        "\n",
        "train_loader = torch.utils.data.DataLoader(train_data, batch_size=27, num_workers=4 , \n",
        "                                           shuffle=True)\n",
        "val_loader = torch.utils.data.DataLoader(val_data, batch_size=27, num_workers=4, \n",
        "                                           shuffle=True)\n",
        "test_loader = torch.utils.data.DataLoader(test_data, batch_size=27, num_workers=4 , \n",
        "                                           shuffle=True)\n",
        "overfit_loader = torch.utils.data.DataLoader(overfit_data, batch_size=27, num_workers=4 , \n",
        "                                           shuffle=True)\n"
      ],
      "execution_count": null,
      "outputs": []
    },
    {
      "cell_type": "markdown",
      "metadata": {
        "id": "5VWX4DGY5gQE"
      },
      "source": [
        "### 2. Model Building and Sanity Checking [15 pt]\n",
        "\n",
        "### Part (a) Convolutional Network - 5 pt\n",
        "\n",
        "Build a convolutional neural network model that takes the (224x224 RGB) image as input, and predicts the gesture\n",
        "letter. Your model should be a subclass of nn.Module. Explain your choice of neural network architecture: how\n",
        "many layers did you choose? What types of layers did you use? Were they fully-connected or convolutional?\n",
        "What about other decisions like pooling layers, activation functions, number of channels / hidden units?"
      ]
    },
    {
      "cell_type": "code",
      "metadata": {
        "id": "2dtx1z5951fS"
      },
      "source": [
        "import torch\n",
        "import torch.nn as nn\n",
        "import torch.nn.functional as F\n",
        "\n",
        "import matplotlib.pyplot as plt \n",
        "import torch.optim as optim\n",
        "\n",
        "torch.manual_seed(1) \n",
        "\n",
        "class CNNClassifier(nn.Module):\n",
        "    def __init__(self):\n",
        "\n",
        "        super(CNNClassifier, self).__init__()\n",
        "        self.name = \"model\"\n",
        "        self.conv1 = nn.Conv2d(3, 5, 5)\n",
        "        self.pool = nn.MaxPool2d(2, 2)\n",
        "        self.conv2 = nn.Conv2d(5, 10, 5)\n",
        "        self.fc1 = nn.Linear(10 * 53 * 53, 244)\n",
        "        self.fc2 = nn.Linear(244, 9)\n",
        "\n",
        "    def forward(self, img):\n",
        "        x = self.pool(F.relu(self.conv1(img)))\n",
        "        x = self.pool(F.relu(self.conv2(x)))\n",
        "        x = x.view(-1, 10 * 53 * 53)\n",
        "        x = F.relu(self.fc1(x))\n",
        "        x = self.fc2(x)\n",
        "        return x"
      ],
      "execution_count": null,
      "outputs": []
    },
    {
      "cell_type": "markdown",
      "metadata": {
        "id": "vOhOdW2oaQ6C"
      },
      "source": [
        "Decided to use an architecture similar to what was presented in lecture. There are two convolutional layers and a pooling layer in between each, then two fully connected layers at the end, with a Relu activation function. "
      ]
    },
    {
      "cell_type": "markdown",
      "metadata": {
        "id": "XeGvelvb515e"
      },
      "source": [
        "### Part (b) Training Code - 5 pt\n",
        "\n",
        "Write code that trains your neural network given some training data. Your training code should make it easy\n",
        "to tweak the usual hyperparameters, like batch size, learning rate, and the model object itself. Make sure\n",
        "that you are checkpointing your models from time to time (the frequency is up to you). Explain your choice\n",
        "of loss function and optimizer."
      ]
    },
    {
      "cell_type": "code",
      "metadata": {
        "id": "17YTQv4l54W1"
      },
      "source": [
        "def train(model, train_loader, val_loader, batch_size=27, num_epochs=1, learn_rate = 0.001):\n",
        "\n",
        "    torch.manual_seed(1000)\n",
        "    criterion = nn.CrossEntropyLoss()\n",
        "    optimizer = optim.Adam(model.parameters(), lr=learn_rate)\n",
        "\n",
        "    # Array to hold error and loss\n",
        "    train_err = np.zeros(num_epochs)\n",
        "    train_loss = np.zeros(num_epochs)\n",
        "    val_err = np.zeros(num_epochs)\n",
        "    val_loss = np.zeros(num_epochs)\n",
        "\n",
        "    # Start Training \n",
        "    print (\"Training Started...\")\n",
        "    n = 0 # Iteration number\n",
        "    for epoch in range(num_epochs):\n",
        "        total_train_loss = 0.0\n",
        "        for imgs, labels in iter(train_loader):\n",
        "\n",
        "            if torch.cuda.is_available():\n",
        "                imgs = imgs.cuda()\n",
        "                labels = labels.cuda()\n",
        "\n",
        "            out = model(imgs)                # forward pass\n",
        "            loss = criterion(out, labels)    # compute the total loss\n",
        "            loss.backward()                  # backward pass (compute parameter updates)\n",
        "            optimizer.step()                 # make the updates for each parameter\n",
        "            optimizer.zero_grad()            # a clean up step for PyTorch\n",
        "            total_train_loss += loss.item()\n",
        "\n",
        "        train_err[epoch] = get_error(model, train_loader)\n",
        "        train_loss[epoch] = float(total_train_loss) / (len(train_loader))\n",
        "        val_err[epoch] = get_error(model, val_loader)\n",
        "        val_loss[epoch] = get_loss(model, val_loader, criterion)\n",
        "\n",
        "        print((\"Epoch {}: Train err: {}, Train loss: {} |\"+\n",
        "               \"Validation err: {}, Validation loss: {}\").format(\n",
        "                   epoch + 1,\n",
        "                   train_err[epoch],\n",
        "                   train_loss[epoch],\n",
        "                   val_err[epoch],\n",
        "                   val_loss[epoch]))\n",
        "        \n",
        "        # Save the current model (checkpoint) to a file\n",
        "        model_path = get_model_name(model.name, batch_size, learn_rate, epoch)\n",
        "        torch.save(model.state_dict(), model_path)\n",
        "    \n",
        "    print('Finished Training')\n",
        "\n",
        "    # Write the train/test loss/err into CSV file for plotting later\n",
        "\n",
        "    epochs = np.arange(1, num_epochs + 1)\n",
        "\n",
        "    np.savetxt(\"{}_train_err.csv\".format(model_path), train_err)\n",
        "    np.savetxt(\"{}_train_loss.csv\".format(model_path), train_loss)\n",
        "    np.savetxt(\"{}_val_err.csv\".format(model_path), val_err)\n",
        "    np.savetxt(\"{}_val_loss.csv\".format(model_path), val_loss)\n",
        "\n",
        "    plot_training_curve(model_path) \n",
        "\n",
        "    return True\n",
        "\n",
        "\n",
        "def get_accuracy(model, data_loader):\n",
        "    correct = 0\n",
        "    total = 0\n",
        "\n",
        "    for imgs, labels in data_loader:\n",
        "\n",
        "        if torch.cuda.is_available():\n",
        "          imgs = imgs.cuda()\n",
        "          labels = labels.cuda()\n",
        "\n",
        "        output = model(imgs)\n",
        "        pred = output.max(1, keepdim=True)[1]\n",
        "        correct += pred.eq(labels.view_as(pred)).sum().item()\n",
        "        total += imgs.shape[0]\n",
        "\n",
        "    return correct / total\n",
        "\n",
        "def get_error(model, data_loader):\n",
        "    correct = 0\n",
        "    total = 0\n",
        "    eval_mod = model.eval()\n",
        "    for imgs, labels in data_loader:\n",
        "\n",
        "        if torch.cuda.is_available():\n",
        "          imgs = imgs.cuda()\n",
        "          labels = labels.cuda()\n",
        "\n",
        "        out = eval_mod(imgs)   \n",
        "        #select index with maximum prediction score\n",
        "        pred = out.max(1, keepdim=True)[1]\n",
        "        correct += pred.eq(labels.view_as(pred)).sum().item()\n",
        "        total += imgs.shape[0]\n",
        "    return (total-correct) / total\n",
        "\n",
        "def get_loss(model, data_loader, criterion):\n",
        "    loss = 0.0\n",
        "    total_loss = 0.0\n",
        "    eval_mod = model.eval()\n",
        "    for imgs, labels in data_loader:\n",
        "\n",
        "      if torch.cuda.is_available():\n",
        "          imgs = imgs.cuda()\n",
        "          labels = labels.cuda()\n",
        "  \n",
        "      out = eval_mod(imgs)            \n",
        "      loss = criterion(out, labels)\n",
        "      total_loss += loss.item()\n",
        "\n",
        "    loss = float(total_loss) / (len(data_loader))\n",
        "    return loss\n",
        "\n",
        "\n",
        "# Code from Lab 2 for plotting the training curve\n",
        "\n",
        "def get_model_name(name, batch_size, learn_rate, epoch):\n",
        "    \"\"\" Generate a name for the model consisting of all the hyperparameter values\n",
        "\n",
        "    Args:\n",
        "        config: Configuration object containing the hyperparameters\n",
        "    Returns:\n",
        "        path: A string with the hyperparameter name and value concatenated\n",
        "    \"\"\"\n",
        "    path = \"model_{0}_bs{1}_lr{2}_epoch{3}\".format(name,\n",
        "                                                   batch_size,\n",
        "                                                   learn_rate,\n",
        "                                                   epoch)\n",
        "    return path\n",
        "    \n",
        "def plot_training_curve(path):\n",
        "    \"\"\" Plots the training curve for a model run, given the csv files\n",
        "    containing the train/validation error/loss.\n",
        "\n",
        "    Args:\n",
        "        path: The base path of the csv files produced during training\n",
        "    \"\"\"\n",
        "    import matplotlib.pyplot as plt\n",
        "    train_err = np.loadtxt(\"{}_train_err.csv\".format(path))\n",
        "    val_err = np.loadtxt(\"{}_val_err.csv\".format(path))\n",
        "    train_loss = np.loadtxt(\"{}_train_loss.csv\".format(path))\n",
        "    val_loss = np.loadtxt(\"{}_val_loss.csv\".format(path))\n",
        "    plt.title(\"Train vs Validation Error\")\n",
        "    n = len(train_err) # number of epochs\n",
        "    plt.plot(range(1,n+1), train_err, label=\"Train\")\n",
        "    plt.plot(range(1,n+1), val_err, label=\"Validation\")\n",
        "    plt.xlabel(\"Epoch\")\n",
        "    plt.ylabel(\"Error\")\n",
        "    plt.legend(loc='best')\n",
        "    plt.show()\n",
        "    plt.title(\"Train vs Validation Loss\")\n",
        "    plt.plot(range(1,n+1), train_loss, label=\"Train\")\n",
        "    plt.plot(range(1,n+1), val_loss, label=\"Validation\")\n",
        "    plt.xlabel(\"Epoch\")\n",
        "    plt.ylabel(\"Loss\")\n",
        "    plt.legend(loc='best')\n",
        "    plt.show()"
      ],
      "execution_count": null,
      "outputs": []
    },
    {
      "cell_type": "markdown",
      "metadata": {
        "id": "4RB37snPaWLl"
      },
      "source": [
        "Choice of loss function is Cross Entropy and optimizer was Adam. We've used these previously in lectures / labs and they've been proven to work, so it was a relatively easy choice. "
      ]
    },
    {
      "cell_type": "markdown",
      "metadata": {
        "id": "bk1RNgAj54rZ"
      },
      "source": [
        "### Part (c) “Overfit” to a Small Dataset - 5 pt\n",
        "\n",
        "One way to sanity check our neural network model and training code is to check whether the model is capable\n",
        "of “overfitting” or “memorizing” a small dataset. A properly constructed CNN with correct training code\n",
        "should be able to memorize the answers to a small number of images quickly.\n",
        "\n",
        "Construct a small dataset (e.g. just the images that you have collected). Then show that your model and\n",
        "training code is capable of memorizing the labels of this small data set.\n",
        "\n",
        "With a large batch size (e.g. the entire small dataset) and learning rate that is not too high, You should be\n",
        "able to obtain a 100% training accuracy on that small dataset relatively quickly (within 200 iterations)."
      ]
    },
    {
      "cell_type": "code",
      "metadata": {
        "id": "lXYRBhQO6d3u",
        "colab": {
          "base_uri": "https://localhost:8080/",
          "height": 1000
        },
        "outputId": "a5bcb47c-e2dd-422f-ddda-d47a0a48bb7d"
      },
      "source": [
        "model = CNNClassifier()\n",
        "train(model, overfit_loader, overfit_loader, num_epochs=30, batch_size=27, learn_rate=0.001)"
      ],
      "execution_count": null,
      "outputs": [
        {
          "output_type": "stream",
          "text": [
            "Training Started...\n",
            "Epoch 1: Train err: 0.8888888888888888, Train loss: 2.198395252227783 |Validation err: 0.8888888888888888, Validation loss: 2.103696346282959\n",
            "Epoch 2: Train err: 0.5925925925925926, Train loss: 2.103696346282959 |Validation err: 0.5925925925925926, Validation loss: 2.0793697834014893\n",
            "Epoch 3: Train err: 0.7407407407407407, Train loss: 2.07936954498291 |Validation err: 0.7407407407407407, Validation loss: 1.8556764125823975\n",
            "Epoch 4: Train err: 0.48148148148148145, Train loss: 1.8556761741638184 |Validation err: 0.48148148148148145, Validation loss: 1.6201947927474976\n",
            "Epoch 5: Train err: 0.2962962962962963, Train loss: 1.620194435119629 |Validation err: 0.2962962962962963, Validation loss: 1.394993543624878\n",
            "Epoch 6: Train err: 0.0, Train loss: 1.3949934244155884 |Validation err: 0.0, Validation loss: 1.0728504657745361\n",
            "Epoch 7: Train err: 0.2962962962962963, Train loss: 1.0728503465652466 |Validation err: 0.2962962962962963, Validation loss: 0.9294429421424866\n",
            "Epoch 8: Train err: 0.07407407407407407, Train loss: 0.9294429421424866 |Validation err: 0.07407407407407407, Validation loss: 0.6727781891822815\n",
            "Epoch 9: Train err: 0.1111111111111111, Train loss: 0.6727782487869263 |Validation err: 0.1111111111111111, Validation loss: 0.5611490607261658\n",
            "Epoch 10: Train err: 0.1111111111111111, Train loss: 0.5611490607261658 |Validation err: 0.1111111111111111, Validation loss: 0.4113965332508087\n",
            "Epoch 11: Train err: 0.037037037037037035, Train loss: 0.4113965332508087 |Validation err: 0.037037037037037035, Validation loss: 0.27624839544296265\n",
            "Epoch 12: Train err: 0.037037037037037035, Train loss: 0.27624839544296265 |Validation err: 0.037037037037037035, Validation loss: 0.21527551114559174\n",
            "Epoch 13: Train err: 0.0, Train loss: 0.21527551114559174 |Validation err: 0.0, Validation loss: 0.11121434718370438\n",
            "Epoch 14: Train err: 0.0, Train loss: 0.11121435463428497 |Validation err: 0.0, Validation loss: 0.09935353696346283\n",
            "Epoch 15: Train err: 0.0, Train loss: 0.09935352206230164 |Validation err: 0.0, Validation loss: 0.05267351493239403\n",
            "Epoch 16: Train err: 0.0, Train loss: 0.05267351493239403 |Validation err: 0.0, Validation loss: 0.04873690381646156\n",
            "Epoch 17: Train err: 0.0, Train loss: 0.04873690381646156 |Validation err: 0.0, Validation loss: 0.01994461752474308\n",
            "Epoch 18: Train err: 0.0, Train loss: 0.01994461566209793 |Validation err: 0.0, Validation loss: 0.011994666419923306\n",
            "Epoch 19: Train err: 0.0, Train loss: 0.011994666419923306 |Validation err: 0.0, Validation loss: 0.010477623902261257\n",
            "Epoch 20: Train err: 0.0, Train loss: 0.010477623902261257 |Validation err: 0.0, Validation loss: 0.005946031771600246\n",
            "Epoch 21: Train err: 0.0, Train loss: 0.005946031771600246 |Validation err: 0.0, Validation loss: 0.0035295288544148207\n",
            "Epoch 22: Train err: 0.0, Train loss: 0.0035295288544148207 |Validation err: 0.0, Validation loss: 0.0022617517970502377\n",
            "Epoch 23: Train err: 0.0, Train loss: 0.0022617517970502377 |Validation err: 0.0, Validation loss: 0.0021144594065845013\n",
            "Epoch 24: Train err: 0.0, Train loss: 0.0021144594065845013 |Validation err: 0.0, Validation loss: 0.003134218044579029\n",
            "Epoch 25: Train err: 0.0, Train loss: 0.003134218044579029 |Validation err: 0.0, Validation loss: 0.002741385716944933\n",
            "Epoch 26: Train err: 0.0, Train loss: 0.002741385716944933 |Validation err: 0.0, Validation loss: 0.0012461831793189049\n",
            "Epoch 27: Train err: 0.0, Train loss: 0.0012461831793189049 |Validation err: 0.0, Validation loss: 0.0006353482604026794\n",
            "Epoch 28: Train err: 0.0, Train loss: 0.0006353482021950185 |Validation err: 0.0, Validation loss: 0.00040689297020435333\n",
            "Epoch 29: Train err: 0.0, Train loss: 0.00040689297020435333 |Validation err: 0.0, Validation loss: 0.00030287992558442056\n",
            "Epoch 30: Train err: 0.0, Train loss: 0.00030288001289591193 |Validation err: 0.0, Validation loss: 0.00023972804774530232\n",
            "Finished Training\n",
            "Total time elapsed: 102.89 seconds\n"
          ],
          "name": "stdout"
        },
        {
          "output_type": "display_data",
          "data": {
            "image/png": "[encoded data removed]",
            "text/plain": [
              "<Figure size 432x288 with 1 Axes>"
            ]
          },
          "metadata": {
            "tags": [],
            "needs_background": "light"
          }
        },
        {
          "output_type": "display_data",
          "data": {
            "image/png": "[encoded data removed]",
            "text/plain": [
              "<Figure size 432x288 with 1 Axes>"
            ]
          },
          "metadata": {
            "tags": [],
            "needs_background": "light"
          }
        },
        {
          "output_type": "execute_result",
          "data": {
            "text/plain": [
              "True"
            ]
          },
          "metadata": {
            "tags": []
          },
          "execution_count": 96
        }
      ]
    },
    {
      "cell_type": "markdown",
      "metadata": {
        "id": "nvDLw-Vz6eVS"
      },
      "source": [
        "### 3. Hyperparameter Search [10 pt]\n",
        "\n",
        "### Part (a) - 1 pt\n",
        "\n",
        "List 3 hyperparameters that you think are most worth tuning. Choose at least one hyperparameter related to\n",
        "the model architecture."
      ]
    },
    {
      "cell_type": "markdown",
      "metadata": {
        "id": "EhT4uUAuQq3v"
      },
      "source": [
        "- **LEARNING RATE**\n",
        "\n",
        "\n",
        "- **NUMBER OF LAYERS**\n",
        "\n",
        "\n",
        "- **BATCH SIZE**\n",
        "\n"
      ]
    },
    {
      "cell_type": "markdown",
      "metadata": {
        "id": "zeD6EzPB6kSW"
      },
      "source": [
        "### Part (b) - 5 pt\n",
        "\n",
        "Tune the hyperparameters you listed in Part (a), trying as many values as you need to until you feel satisfied\n",
        "that you are getting a good model. Plot the training curve of at least 4 different hyperparameter settings."
      ]
    },
    {
      "cell_type": "code",
      "metadata": {
        "id": "UkvdR-cB6nzm",
        "colab": {
          "base_uri": "https://localhost:8080/",
          "height": 1000
        },
        "outputId": "dffd91c8-7ad8-4129-9998-0b068ec90f88"
      },
      "source": [
        "## Changing the learning rate to 0.01\n",
        "model_a = CNNClassifier()\n",
        "train(model_a, train_loader, test_loader, num_epochs=30, batch_size=27, learn_rate=0.01)"
      ],
      "execution_count": null,
      "outputs": [
        {
          "output_type": "stream",
          "text": [
            "Training Started...\n",
            "Epoch 1: Train err: 0.8812729498164015, Train loss: 3.883439697203089 |Validation err: 0.8863636363636364, Validation loss: 2.195730177561442\n",
            "Epoch 2: Train err: 0.8855569155446756, Train loss: 2.197297721612649 |Validation err: 0.8863636363636364, Validation loss: 2.195641565322876\n",
            "Epoch 3: Train err: 0.8812729498164015, Train loss: 2.1913064307853825 |Validation err: 0.8813131313131313, Validation loss: 2.1903379758199057\n",
            "Epoch 4: Train err: 0.8212974296205631, Train loss: 2.163627784760272 |Validation err: 0.8686868686868687, Validation loss: 2.1790741443634034\n",
            "Epoch 5: Train err: 0.780905752753978, Train loss: 2.1106573480074524 |Validation err: 0.8611111111111112, Validation loss: 2.1605093320210775\n",
            "Epoch 6: Train err: 0.8353733170134638, Train loss: 1.9886944704368466 |Validation err: 0.8686868686868687, Validation loss: 2.1899356842041016\n",
            "Epoch 7: Train err: 0.6468788249694002, Train loss: 1.8120292581495692 |Validation err: 0.7777777777777778, Validation loss: 2.0813329855600995\n",
            "Epoch 8: Train err: 0.38555691554467564, Train loss: 1.4848247649239712 |Validation err: 0.5202020202020202, Validation loss: 1.553511118888855\n",
            "Epoch 9: Train err: 0.32558139534883723, Train loss: 1.0923851083536618 |Validation err: 0.5126262626262627, Validation loss: 1.5259693304697672\n",
            "Epoch 10: Train err: 0.16585067319461444, Train loss: 0.8254213606724974 |Validation err: 0.3787878787878788, Validation loss: 1.1619489034016928\n",
            "Epoch 11: Train err: 0.11566707466340269, Train loss: 0.5446087874350001 |Validation err: 0.4065656565656566, Validation loss: 1.2789104620615641\n",
            "Epoch 12: Train err: 0.06303549571603427, Train loss: 0.34887322453690356 |Validation err: 0.39141414141414144, Validation loss: 1.4439253131548564\n",
            "Epoch 13: Train err: 0.030599755201958383, Train loss: 0.21807356053566346 |Validation err: 0.3787878787878788, Validation loss: 1.504197323322296\n",
            "Epoch 14: Train err: 0.016523867809057527, Train loss: 0.11567529127551396 |Validation err: 0.34595959595959597, Validation loss: 1.585317281881968\n",
            "Epoch 15: Train err: 0.006731946144430845, Train loss: 0.058102373573852735 |Validation err: 0.3409090909090909, Validation loss: 1.7427248120307923\n",
            "Epoch 16: Train err: 0.009179926560587515, Train loss: 0.05232602194882929 |Validation err: 0.3712121212121212, Validation loss: 1.9967697461446126\n",
            "Epoch 17: Train err: 0.0036719706242350062, Train loss: 0.028980220895123164 |Validation err: 0.3055555555555556, Validation loss: 2.1887550950050354\n",
            "Epoch 18: Train err: 0.0006119951040391676, Train loss: 0.01139270599414289 |Validation err: 0.3282828282828283, Validation loss: 2.1821603258450826\n",
            "Epoch 19: Train err: 0.0208078335373317, Train loss: 0.10518224325868851 |Validation err: 0.3560606060606061, Validation loss: 2.2199991861979167\n",
            "Epoch 20: Train err: 0.006119951040391677, Train loss: 0.14986874909735606 |Validation err: 0.3383838383838384, Validation loss: 2.145385656754176\n",
            "Epoch 21: Train err: 0.020195838433292534, Train loss: 0.054474393590964135 |Validation err: 0.3560606060606061, Validation loss: 2.5151196757952374\n",
            "Epoch 22: Train err: 0.0006119951040391676, Train loss: 0.0579340694266797 |Validation err: 0.3383838383838384, Validation loss: 2.1787834564844766\n",
            "Epoch 23: Train err: 0.015299877600979192, Train loss: 0.05393651101860355 |Validation err: 0.3560606060606061, Validation loss: 2.3123947779337564\n",
            "Epoch 24: Train err: 0.0012239902080783353, Train loss: 0.037270690510564745 |Validation err: 0.33585858585858586, Validation loss: 2.365136416753133\n",
            "Epoch 25: Train err: 0.0018359853121175031, Train loss: 0.030989773386133238 |Validation err: 0.3661616161616162, Validation loss: 2.4884677012761434\n",
            "Epoch 26: Train err: 0.004283965728274173, Train loss: 0.024947592475834172 |Validation err: 0.37626262626262624, Validation loss: 3.048661804199219\n",
            "Epoch 27: Train err: 0.0055079559363525096, Train loss: 0.03960497896553191 |Validation err: 0.3661616161616162, Validation loss: 2.898392407099406\n",
            "Epoch 28: Train err: 0.0018359853121175031, Train loss: 0.03835800639973938 |Validation err: 0.3611111111111111, Validation loss: 2.6717484394709268\n",
            "Epoch 29: Train err: 0.0018359853121175031, Train loss: 0.012708701442772776 |Validation err: 0.3181818181818182, Validation loss: 2.699268428484599\n",
            "Epoch 30: Train err: 0.0, Train loss: 0.0036034458673503784 |Validation err: 0.3383838383838384, Validation loss: 2.7117370406786603\n",
            "Finished Training\n"
          ],
          "name": "stdout"
        },
        {
          "output_type": "display_data",
          "data": {
            "image/png": "[encoded data removed]",
            "text/plain": [
              "<Figure size 432x288 with 1 Axes>"
            ]
          },
          "metadata": {
            "tags": [],
            "needs_background": "light"
          }
        },
        {
          "output_type": "display_data",
          "data": {
            "image/png": "[encoded data removed]",
            "text/plain": [
              "<Figure size 432x288 with 1 Axes>"
            ]
          },
          "metadata": {
            "tags": [],
            "needs_background": "light"
          }
        },
        {
          "output_type": "execute_result",
          "data": {
            "text/plain": [
              "True"
            ]
          },
          "metadata": {
            "tags": []
          },
          "execution_count": 23
        }
      ]
    },
    {
      "cell_type": "code",
      "metadata": {
        "id": "kky74jHFkWDM",
        "colab": {
          "base_uri": "https://localhost:8080/",
          "height": 1000
        },
        "outputId": "e34adcac-0909-4804-96a7-70933a342873"
      },
      "source": [
        "## Changing the batch size to 54\n",
        "model = CNNClassifier()\n",
        "train(model, train_loader, test_loader, num_epochs=30, batch_size=54, learn_rate=0.001)"
      ],
      "execution_count": null,
      "outputs": [
        {
          "output_type": "stream",
          "text": [
            "Training Started...\n",
            "Epoch 1: Train err: 0.6162790697674418, Train loss: 2.156655469878775 |Validation err: 0.6262626262626263, Validation loss: 1.7395352681477865\n",
            "Epoch 2: Train err: 0.4094247246022032, Train loss: 1.463434971746851 |Validation err: 0.43686868686868685, Validation loss: 1.250795849164327\n",
            "Epoch 3: Train err: 0.2711138310893513, Train loss: 1.0670740721655674 |Validation err: 0.30808080808080807, Validation loss: 1.020679235458374\n",
            "Epoch 4: Train err: 0.21481028151774786, Train loss: 0.8164005978185622 |Validation err: 0.30303030303030304, Validation loss: 0.9840620001157124\n",
            "Epoch 5: Train err: 0.20501835985312117, Train loss: 0.6647578419231978 |Validation err: 0.32575757575757575, Validation loss: 0.9322472333908081\n",
            "Epoch 6: Train err: 0.1266829865361077, Train loss: 0.5156981903510015 |Validation err: 0.2904040404040404, Validation loss: 0.965199867884318\n",
            "Epoch 7: Train err: 0.08078335373317014, Train loss: 0.39805564919456105 |Validation err: 0.2828282828282828, Validation loss: 0.9635916988054911\n",
            "Epoch 8: Train err: 0.0740514075887393, Train loss: 0.3190006225324068 |Validation err: 0.30303030303030304, Validation loss: 0.966363658507665\n",
            "Epoch 9: Train err: 0.03427172582619339, Train loss: 0.24667043703012778 |Validation err: 0.2777777777777778, Validation loss: 1.0280658423900604\n",
            "Epoch 10: Train err: 0.021419828641370868, Train loss: 0.1615355356794889 |Validation err: 0.24494949494949494, Validation loss: 0.9605831066767375\n",
            "Epoch 11: Train err: 0.01835985312117503, Train loss: 0.1381153751958589 |Validation err: 0.2803030303030303, Validation loss: 1.15337642232577\n",
            "Epoch 12: Train err: 0.0073439412484700125, Train loss: 0.07847368097711416 |Validation err: 0.25252525252525254, Validation loss: 1.066038711865743\n",
            "Epoch 13: Train err: 0.0006119951040391676, Train loss: 0.04921662350200483 |Validation err: 0.2398989898989899, Validation loss: 1.1455381333827972\n",
            "Epoch 14: Train err: 0.0, Train loss: 0.024922716667967252 |Validation err: 0.24494949494949494, Validation loss: 1.2562176704406738\n",
            "Epoch 15: Train err: 0.0030599755201958386, Train loss: 0.01710179706531592 |Validation err: 0.25757575757575757, Validation loss: 1.3411900599797566\n",
            "Epoch 16: Train err: 0.0006119951040391676, Train loss: 0.014043184718666751 |Validation err: 0.24242424242424243, Validation loss: 1.4267284989356994\n",
            "Epoch 17: Train err: 0.0006119951040391676, Train loss: 0.007683927076868713 |Validation err: 0.23232323232323232, Validation loss: 1.4222919782002768\n",
            "Epoch 18: Train err: 0.0006119951040391676, Train loss: 0.014130139525895785 |Validation err: 0.24242424242424243, Validation loss: 1.3305837278564772\n",
            "Epoch 19: Train err: 0.00795593635250918, Train loss: 0.028010992194453375 |Validation err: 0.25252525252525254, Validation loss: 1.4944108724594116\n",
            "Epoch 20: Train err: 0.01591187270501836, Train loss: 0.061894260453762576 |Validation err: 0.28535353535353536, Validation loss: 1.4309767087300618\n",
            "Epoch 21: Train err: 0.021419828641370868, Train loss: 0.1238669753990701 |Validation err: 0.2803030303030303, Validation loss: 1.3570688883463542\n",
            "Epoch 22: Train err: 0.02631578947368421, Train loss: 0.05910272922244717 |Validation err: 0.29797979797979796, Validation loss: 1.7682488958040874\n",
            "Epoch 23: Train err: 0.016523867809057527, Train loss: 0.07393161142168597 |Validation err: 0.25252525252525254, Validation loss: 1.5091168840726217\n",
            "Epoch 24: Train err: 0.0073439412484700125, Train loss: 0.07632803390581222 |Validation err: 0.25252525252525254, Validation loss: 1.3260877132415771\n",
            "Epoch 25: Train err: 0.0018359853121175031, Train loss: 0.041997930021635946 |Validation err: 0.2601010101010101, Validation loss: 1.2333210428555808\n",
            "Epoch 26: Train err: 0.0024479804161566705, Train loss: 0.032362567763737415 |Validation err: 0.25252525252525254, Validation loss: 1.5183724681536357\n",
            "Epoch 27: Train err: 0.0, Train loss: 0.002549393894771099 |Validation err: 0.2474747474747475, Validation loss: 1.6911608676115673\n",
            "Epoch 28: Train err: 0.0, Train loss: 0.0007434915580651264 |Validation err: 0.24494949494949494, Validation loss: 1.7327581524848938\n",
            "Epoch 29: Train err: 0.0, Train loss: 0.0005227731516406791 |Validation err: 0.23737373737373738, Validation loss: 1.8057571570078532\n",
            "Epoch 30: Train err: 0.0, Train loss: 0.0004251822712950477 |Validation err: 0.23484848484848486, Validation loss: 1.8246343970298766\n",
            "Finished Training\n"
          ],
          "name": "stdout"
        },
        {
          "output_type": "display_data",
          "data": {
            "image/png": "[encoded data removed]",
            "text/plain": [
              "<Figure size 432x288 with 1 Axes>"
            ]
          },
          "metadata": {
            "tags": [],
            "needs_background": "light"
          }
        },
        {
          "output_type": "display_data",
          "data": {
            "image/png": "[encoded data removed]",
            "text/plain": [
              "<Figure size 432x288 with 1 Axes>"
            ]
          },
          "metadata": {
            "tags": [],
            "needs_background": "light"
          }
        },
        {
          "output_type": "execute_result",
          "data": {
            "text/plain": [
              "True"
            ]
          },
          "metadata": {
            "tags": []
          },
          "execution_count": 18
        }
      ]
    },
    {
      "cell_type": "code",
      "metadata": {
        "id": "7GA4ZizpZ4WP",
        "colab": {
          "base_uri": "https://localhost:8080/",
          "height": 1000
        },
        "outputId": "5a1fb71c-18a0-406e-9203-aa80bdae96d9"
      },
      "source": [
        "## Changing the num epochs to 60\n",
        "model_b = CNNClassifier()\n",
        "train(model_b , train_loader, test_loader, num_epochs=60, batch_size=27, learn_rate=0.001)"
      ],
      "execution_count": null,
      "outputs": [
        {
          "output_type": "stream",
          "text": [
            "Training Started...\n",
            "Epoch 1: Train err: 0.5477356181150551, Train loss: 2.029291174450859 |Validation err: 0.5757575757575758, Validation loss: 1.4680148283640544\n",
            "Epoch 2: Train err: 0.2747858017135863, Train loss: 1.2231895464365599 |Validation err: 0.30303030303030304, Validation loss: 1.0561659574508666\n",
            "Epoch 3: Train err: 0.22643818849449204, Train loss: 0.9107245309431045 |Validation err: 0.2803030303030303, Validation loss: 0.9181120673815409\n",
            "Epoch 4: Train err: 0.19216646266829865, Train loss: 0.7116718067497504 |Validation err: 0.3207070707070707, Validation loss: 0.9530541658401489\n",
            "Epoch 5: Train err: 0.10954712362301101, Train loss: 0.5467533378816042 |Validation err: 0.26515151515151514, Validation loss: 0.8457394520441691\n",
            "Epoch 6: Train err: 0.05079559363525092, Train loss: 0.36829600153399294 |Validation err: 0.22474747474747475, Validation loss: 0.8602434118588765\n",
            "Epoch 7: Train err: 0.023255813953488372, Train loss: 0.22362572711999298 |Validation err: 0.2196969696969697, Validation loss: 0.9106228311856588\n",
            "Epoch 8: Train err: 0.01346389228886169, Train loss: 0.13621168437062717 |Validation err: 0.25, Validation loss: 0.8745184441407522\n",
            "Epoch 9: Train err: 0.00795593635250918, Train loss: 0.0730731005887272 |Validation err: 0.25252525252525254, Validation loss: 1.0261051495869955\n",
            "Epoch 10: Train err: 0.00795593635250918, Train loss: 0.07969078554420686 |Validation err: 0.22474747474747475, Validation loss: 1.22505710820357\n",
            "Epoch 11: Train err: 0.0, Train loss: 0.039202754095685285 |Validation err: 0.2474747474747475, Validation loss: 1.089865462978681\n",
            "Epoch 12: Train err: 0.0, Train loss: 0.010642448330458376 |Validation err: 0.2222222222222222, Validation loss: 1.2023740530014038\n",
            "Epoch 13: Train err: 0.0, Train loss: 0.0037315179446910617 |Validation err: 0.2297979797979798, Validation loss: 1.290791380405426\n",
            "Epoch 14: Train err: 0.0, Train loss: 0.002414580335560041 |Validation err: 0.22727272727272727, Validation loss: 1.3327378153800964\n",
            "Epoch 15: Train err: 0.0, Train loss: 0.0016887471283553168 |Validation err: 0.22474747474747475, Validation loss: 1.3514262835184734\n",
            "Epoch 16: Train err: 0.0, Train loss: 0.001399561052151467 |Validation err: 0.2297979797979798, Validation loss: 1.386861947675546\n",
            "Epoch 17: Train err: 0.0, Train loss: 0.0011443531123509051 |Validation err: 0.2297979797979798, Validation loss: 1.4447418053944905\n",
            "Epoch 18: Train err: 0.0, Train loss: 0.0009488584111124032 |Validation err: 0.23232323232323232, Validation loss: 1.4099931637446086\n",
            "Epoch 19: Train err: 0.0, Train loss: 0.0008235157812853939 |Validation err: 0.22727272727272727, Validation loss: 1.4516393343607585\n",
            "Epoch 20: Train err: 0.0, Train loss: 0.0006984740084291963 |Validation err: 0.2222222222222222, Validation loss: 1.4755391632517179\n",
            "Epoch 21: Train err: 0.0, Train loss: 0.0006294869216632281 |Validation err: 0.22474747474747475, Validation loss: 1.4903727610905966\n",
            "Epoch 22: Train err: 0.0, Train loss: 0.0005586925198869841 |Validation err: 0.22474747474747475, Validation loss: 1.5032660822073618\n",
            "Epoch 23: Train err: 0.0, Train loss: 0.0004987363288700046 |Validation err: 0.22727272727272727, Validation loss: 1.5209723631540935\n",
            "Epoch 24: Train err: 0.0, Train loss: 0.0004711294294808243 |Validation err: 0.22474747474747475, Validation loss: 1.5599140524864197\n",
            "Epoch 25: Train err: 0.0, Train loss: 0.0004087695699246203 |Validation err: 0.2297979797979798, Validation loss: 1.5387335618336995\n",
            "Epoch 26: Train err: 0.0, Train loss: 0.0003690259438938438 |Validation err: 0.22727272727272727, Validation loss: 1.5681106567382812\n",
            "Epoch 27: Train err: 0.0, Train loss: 0.0003430878610653635 |Validation err: 0.23232323232323232, Validation loss: 1.5781926482915878\n",
            "Epoch 28: Train err: 0.0, Train loss: 0.00030763736820100336 |Validation err: 0.22727272727272727, Validation loss: 1.587503683567047\n",
            "Epoch 29: Train err: 0.0, Train loss: 0.0002862584684616657 |Validation err: 0.23232323232323232, Validation loss: 1.610911387205124\n",
            "Epoch 30: Train err: 0.0, Train loss: 0.00026467330743068236 |Validation err: 0.22727272727272727, Validation loss: 1.6297777056694032\n",
            "Epoch 31: Train err: 0.0, Train loss: 0.0002426285905950535 |Validation err: 0.2297979797979798, Validation loss: 1.6408583720525105\n",
            "Epoch 32: Train err: 0.0, Train loss: 0.00022553142563813962 |Validation err: 0.23232323232323232, Validation loss: 1.6259097814559937\n",
            "Epoch 33: Train err: 0.0, Train loss: 0.00020837939602464102 |Validation err: 0.22727272727272727, Validation loss: 1.655581494172414\n",
            "Epoch 34: Train err: 0.0, Train loss: 0.0001949113194895603 |Validation err: 0.23232323232323232, Validation loss: 1.6911446392536162\n",
            "Epoch 35: Train err: 0.0, Train loss: 0.00018103063043558085 |Validation err: 0.23232323232323232, Validation loss: 1.6444739838441214\n",
            "Epoch 36: Train err: 0.0, Train loss: 0.00016799610942844532 |Validation err: 0.2297979797979798, Validation loss: 1.6905325114727021\n",
            "Epoch 37: Train err: 0.0, Train loss: 0.00015995310938899925 |Validation err: 0.23232323232323232, Validation loss: 1.6653331398963929\n",
            "Epoch 38: Train err: 0.0, Train loss: 0.00014796706496692094 |Validation err: 0.23232323232323232, Validation loss: 1.7212878306706747\n",
            "Epoch 39: Train err: 0.0, Train loss: 0.00013920897647755632 |Validation err: 0.23232323232323232, Validation loss: 1.7235423723856609\n",
            "Epoch 40: Train err: 0.0, Train loss: 0.00013041194175516987 |Validation err: 0.23232323232323232, Validation loss: 1.743142831325531\n",
            "Epoch 41: Train err: 0.0, Train loss: 0.00012444183400967616 |Validation err: 0.23232323232323232, Validation loss: 1.7342885216077168\n",
            "Epoch 42: Train err: 0.0, Train loss: 0.0001156873501310999 |Validation err: 0.2297979797979798, Validation loss: 1.7352513988812766\n",
            "Epoch 43: Train err: 0.0, Train loss: 0.00011045523832330755 |Validation err: 0.22727272727272727, Validation loss: 1.8125823895136515\n",
            "Epoch 44: Train err: 0.0, Train loss: 0.00010212453189076948 |Validation err: 0.23232323232323232, Validation loss: 1.7309620519479116\n",
            "Epoch 45: Train err: 0.0, Train loss: 9.773947445477252e-05 |Validation err: 0.23484848484848486, Validation loss: 1.802030485868454\n",
            "Epoch 46: Train err: 0.0, Train loss: 9.154144835087746e-05 |Validation err: 0.22727272727272727, Validation loss: 1.7937958598136903\n",
            "Epoch 47: Train err: 0.0, Train loss: 8.728238387194607e-05 |Validation err: 0.22727272727272727, Validation loss: 1.7712908267974854\n",
            "Epoch 48: Train err: 0.0, Train loss: 8.229352811138627e-05 |Validation err: 0.22727272727272727, Validation loss: 1.7899516264597575\n",
            "Epoch 49: Train err: 0.0, Train loss: 7.805789788167725e-05 |Validation err: 0.23232323232323232, Validation loss: 1.8118612130482992\n",
            "Epoch 50: Train err: 0.0, Train loss: 7.45207321191718e-05 |Validation err: 0.22727272727272727, Validation loss: 1.7881830304861068\n",
            "Epoch 51: Train err: 0.0, Train loss: 7.11544223614495e-05 |Validation err: 0.22727272727272727, Validation loss: 1.8033782064914703\n",
            "Epoch 52: Train err: 0.0, Train loss: 6.697222121803235e-05 |Validation err: 0.22727272727272727, Validation loss: 1.883479642868042\n",
            "Epoch 53: Train err: 0.0, Train loss: 6.341281899591702e-05 |Validation err: 0.2297979797979798, Validation loss: 1.8141291618347168\n",
            "Epoch 54: Train err: 0.0, Train loss: 6.018572808212322e-05 |Validation err: 0.22727272727272727, Validation loss: 1.8158692598342896\n",
            "Epoch 55: Train err: 0.0, Train loss: 5.73866560205447e-05 |Validation err: 0.22727272727272727, Validation loss: 1.8573991576830546\n",
            "Epoch 56: Train err: 0.0, Train loss: 5.431223390125345e-05 |Validation err: 0.22727272727272727, Validation loss: 1.8448207606871923\n",
            "Epoch 57: Train err: 0.0, Train loss: 5.211386203763007e-05 |Validation err: 0.2297979797979798, Validation loss: 1.9072679956754048\n",
            "Epoch 58: Train err: 0.0, Train loss: 4.96005276113092e-05 |Validation err: 0.2297979797979798, Validation loss: 1.8565091252326966\n",
            "Epoch 59: Train err: 0.0, Train loss: 4.764336067562938e-05 |Validation err: 0.2297979797979798, Validation loss: 1.8714863220850626\n",
            "Epoch 60: Train err: 0.0, Train loss: 4.500496989286879e-05 |Validation err: 0.22727272727272727, Validation loss: 1.8606900135676065\n",
            "Finished Training\n"
          ],
          "name": "stdout"
        },
        {
          "output_type": "display_data",
          "data": {
            "image/png": "[encoded data removed]",
            "text/plain": [
              "<Figure size 432x288 with 1 Axes>"
            ]
          },
          "metadata": {
            "tags": [],
            "needs_background": "light"
          }
        },
        {
          "output_type": "display_data",
          "data": {
            "image/png": "[encoded data removed]",
            "text/plain": [
              "<Figure size 432x288 with 1 Axes>"
            ]
          },
          "metadata": {
            "tags": [],
            "needs_background": "light"
          }
        },
        {
          "output_type": "execute_result",
          "data": {
            "text/plain": [
              "True"
            ]
          },
          "metadata": {
            "tags": []
          },
          "execution_count": 24
        }
      ]
    },
    {
      "cell_type": "code",
      "metadata": {
        "id": "EDI4SLnEZ4iN",
        "colab": {
          "base_uri": "https://localhost:8080/",
          "height": 879
        },
        "outputId": "b7af4605-e1ef-4d6d-a60e-dd8e7916e9b8"
      },
      "source": [
        "## Changing the num epochs to 15\n",
        "model_c = CNNClassifier()\n",
        "train(model_c, train_loader, test_loader, num_epochs=15, batch_size=27, learn_rate=0.001)"
      ],
      "execution_count": null,
      "outputs": [
        {
          "output_type": "stream",
          "text": [
            "Training Started...\n",
            "Epoch 1: Train err: 0.8200734394124847, Train loss: 2.245188103347528 |Validation err: 0.8181818181818182, Validation loss: 2.1828348000844318\n",
            "Epoch 2: Train err: 0.4920440636474908, Train loss: 2.01086733184877 |Validation err: 0.5202020202020202, Validation loss: 1.5261965990066528\n",
            "Epoch 3: Train err: 0.3078335373317013, Train loss: 1.3293533628104164 |Validation err: 0.32575757575757575, Validation loss: 1.1030086954434712\n",
            "Epoch 4: Train err: 0.26805385556915545, Train loss: 1.0230396272706204 |Validation err: 0.30303030303030304, Validation loss: 0.9827674786249797\n",
            "Epoch 5: Train err: 0.24112607099143207, Train loss: 0.8967079554424912 |Validation err: 0.29797979797979796, Validation loss: 0.91892569065094\n",
            "Epoch 6: Train err: 0.21481028151774786, Train loss: 0.7786020387391575 |Validation err: 0.31313131313131315, Validation loss: 0.9731648842493693\n",
            "Epoch 7: Train err: 0.19155446756425948, Train loss: 0.7003340872584797 |Validation err: 0.29292929292929293, Validation loss: 0.9921740134557088\n",
            "Epoch 8: Train err: 0.13402692778457773, Train loss: 0.5845308694683138 |Validation err: 0.25757575757575757, Validation loss: 0.846026082833608\n",
            "Epoch 9: Train err: 0.12056303549571604, Train loss: 0.500656927828906 |Validation err: 0.25252525252525254, Validation loss: 0.9160486201445261\n",
            "Epoch 10: Train err: 0.07221542227662178, Train loss: 0.3912032178190888 |Validation err: 0.25, Validation loss: 0.8800523499647777\n",
            "Epoch 11: Train err: 0.046511627906976744, Train loss: 0.3003568571121966 |Validation err: 0.25, Validation loss: 0.9430676678816478\n",
            "Epoch 12: Train err: 0.07221542227662178, Train loss: 0.21217901482567436 |Validation err: 0.29292929292929293, Validation loss: 1.086636871099472\n",
            "Epoch 13: Train err: 0.01591187270501836, Train loss: 0.14801128349099002 |Validation err: 0.2702020202020202, Validation loss: 1.0405754526456197\n",
            "Epoch 14: Train err: 0.006731946144430845, Train loss: 0.09715924362392454 |Validation err: 0.2474747474747475, Validation loss: 1.073504388332367\n",
            "Epoch 15: Train err: 0.0006119951040391676, Train loss: 0.05731013218765376 |Validation err: 0.25757575757575757, Validation loss: 1.0789532661437988\n",
            "Finished Training\n"
          ],
          "name": "stdout"
        },
        {
          "output_type": "display_data",
          "data": {
            "image/png": "[encoded data removed]",
            "text/plain": [
              "<Figure size 432x288 with 1 Axes>"
            ]
          },
          "metadata": {
            "tags": [],
            "needs_background": "light"
          }
        },
        {
          "output_type": "display_data",
          "data": {
            "image/png": "[encoded data removed]",
            "text/plain": [
              "<Figure size 432x288 with 1 Axes>"
            ]
          },
          "metadata": {
            "tags": [],
            "needs_background": "light"
          }
        },
        {
          "output_type": "execute_result",
          "data": {
            "text/plain": [
              "True"
            ]
          },
          "metadata": {
            "tags": []
          },
          "execution_count": 26
        }
      ]
    },
    {
      "cell_type": "markdown",
      "metadata": {
        "id": "H93iN5_l60BO"
      },
      "source": [
        "### Part (c) - 2 pt\n",
        "Choose the best model out of all the ones that you have trained. Justify your choice."
      ]
    },
    {
      "cell_type": "markdown",
      "metadata": {
        "id": "XfeUfsVMbejr"
      },
      "source": [
        "The best of the models was model_c with epochs=15, batch_size=27, and learn_rate=0.001. This model had both the validation error and loss begin to plateau after the 8th epoch. "
      ]
    },
    {
      "cell_type": "markdown",
      "metadata": {
        "id": "QzNA5oup67JO"
      },
      "source": [
        "### Part (d) - 2 pt\n",
        "Report the test accuracy of your best model. You should only do this step once and prior to this step you should have only used the training and validation data."
      ]
    },
    {
      "cell_type": "code",
      "metadata": {
        "id": "2eJ7AbVl6-ax",
        "colab": {
          "base_uri": "https://localhost:8080/",
          "height": 34
        },
        "outputId": "bf335a8f-0d36-4648-e772-902828c690d2"
      },
      "source": [
        "model_path = get_model_name(model_c.name, batch_size=27, learn_rate=0.001, epoch=29)\n",
        "state = torch.load(model_path)\n",
        "model_c.load_state_dict(state)\n",
        "\n",
        "criterion = nn.CrossEntropyLoss()\n",
        "test_err = get_error(model_c, test_loader)\n",
        "print(test_err)\n"
      ],
      "execution_count": null,
      "outputs": [
        {
          "output_type": "stream",
          "text": [
            "0.22727272727272727\n"
          ],
          "name": "stdout"
        }
      ]
    },
    {
      "cell_type": "markdown",
      "metadata": {
        "id": "Wrem-iXV6_Bz"
      },
      "source": [
        "### 4. Transfer Learning [15 pt]\n",
        "For many image classification tasks, it is generally not a good idea to train a very large deep neural network\n",
        "model from scratch due to the enormous compute requirements and lack of sufficient amounts of training\n",
        "data.\n",
        "\n",
        "One of the better options is to try using an existing model that performs a similar task to the one you need\n",
        "to solve. This method of utilizing a pre-trained network for other similar tasks is broadly termed **Transfer\n",
        "Learning**. In this assignment, we will use Transfer Learning to extract features from the hand gesture\n",
        "images. Then, train a smaller network to use these features as input and classify the hand gestures.\n",
        "\n",
        "As you have learned from the CNN lecture, convolution layers extract various features from the images which\n",
        "get utilized by the fully connected layers for correct classification. AlexNet architecture played a pivotal\n",
        "role in establishing Deep Neural Nets as a go-to tool for image classification problems and we will use an\n",
        "ImageNet pre-trained AlexNet model to extract features in this assignment."
      ]
    },
    {
      "cell_type": "markdown",
      "metadata": {
        "id": "rWdQJz4Q7O2F"
      },
      "source": [
        "### Part (a) - 5 pt\n",
        "Here is the code to load the AlexNet network, with pretrained weights. When you first run the code, PyTorch\n",
        "will download the pretrained weights from the internet."
      ]
    },
    {
      "cell_type": "code",
      "metadata": {
        "id": "BJKcTW9C7TZk",
        "colab": {
          "base_uri": "https://localhost:8080/",
          "height": 83,
          "referenced_widgets": [
            "9e8ea05848f84ada9088e3a333731f47",
            "b4c40c15261f411ab942c800f7737677",
            "acf80ec16ff5410da88551fc24a56803",
            "5fd24e6c2b09475db045d8d405b7f4cc",
            "f34e2c022ab74250ba57f2e7cc339318",
            "ce6ede5be9e04872a74b998e5c0ac480",
            "e0ce714818014a03b95d4a4fd78ac040",
            "4d3b76c8314f41efbd54ae8554078a51"
          ]
        },
        "outputId": "39fafbf9-86e8-4b2a-f3aa-d5b3e983f9c1"
      },
      "source": [
        "import torchvision.models\n",
        "alexnet = torchvision.models.alexnet(pretrained=True)"
      ],
      "execution_count": null,
      "outputs": [
        {
          "output_type": "stream",
          "text": [
            "Downloading: \"https://download.pytorch.org/models/alexnet-owt-4df8aa71.pth\" to /root/.cache/torch/hub/checkpoints/alexnet-owt-4df8aa71.pth\n"
          ],
          "name": "stderr"
        },
        {
          "output_type": "display_data",
          "data": {
            "application/vnd.jupyter.widget-view+json": {
              "model_id": "9e8ea05848f84ada9088e3a333731f47",
              "version_minor": 0,
              "version_major": 2
            },
            "text/plain": [
              "HBox(children=(FloatProgress(value=0.0, max=244418560.0), HTML(value='')))"
            ]
          },
          "metadata": {
            "tags": []
          }
        },
        {
          "output_type": "stream",
          "text": [
            "\n"
          ],
          "name": "stdout"
        }
      ]
    },
    {
      "cell_type": "markdown",
      "metadata": {
        "id": "NQ0GZYaP7VAR"
      },
      "source": [
        "The alexnet model is split up into two components: *alexnet.features* and *alexnet.classifier*. The\n",
        "first neural network component, *alexnet.features*, is used to compute convolutional features, which are\n",
        "taken as input in *alexnet.classifier*.\n",
        "\n",
        "The neural network alexnet.features expects an image tensor of shape Nx3x224x224 as input and it will\n",
        "output a tensor of shape Nx256x6x6 . (N = batch size).\n",
        "\n",
        "Compute the AlexNet features for each of your training, validation, and test data. Here is an example code\n",
        "snippet showing how you can compute the AlexNet features for some images (your actual code might be\n",
        "different):"
      ]
    },
    {
      "cell_type": "code",
      "metadata": {
        "id": "oX7SjVdB7XAE"
      },
      "source": [
        "# img = ... a PyTorch tensor with shape [N,3,224,224] containing hand images ...\n",
        "features = alexnet.features(img)"
      ],
      "execution_count": null,
      "outputs": []
    },
    {
      "cell_type": "markdown",
      "metadata": {
        "id": "DYcjHg_A7cCM"
      },
      "source": [
        "**Save the computed features**. You will be using these features as input to your neural network in Part\n",
        "(b), and you do not want to re-compute the features every time. Instead, run *alexnet.features* once for\n",
        "each image, and save the result."
      ]
    },
    {
      "cell_type": "code",
      "metadata": {
        "id": "TBo1BpL373LX",
        "colab": {
          "base_uri": "https://localhost:8080/",
          "height": 102
        },
        "outputId": "f22b41d3-188c-4fcf-a777-9ff5999435e0"
      },
      "source": [
        "import os\n",
        "import torchvision.models\n",
        "alexnet = torchvision.models.alexnet(pretrained=True)\n",
        "\n",
        "master_path = '/content/drive/My Drive/EngSci Year3/APS360/Labs/Lab 3/'\n",
        "\n",
        "batch_size = 1 \n",
        "num_workers = 1\n",
        "\n",
        "transform = transforms.Compose([transforms.Resize((224,224)), transforms.ToTensor()])\n",
        "\n",
        "# assumes three folders with 70% training, 15% validation and 15% testing samples\n",
        "train_dataset = torchvision.datasets.ImageFolder(master_path + 'Lab_3b_Gesture_Dataset_Training', transform=transform)\n",
        "val_dataset = torchvision.datasets.ImageFolder(master_path + 'Lab_3b_Gesture_Dataset_Validation', transform=transform)\n",
        "test_dataset = torchvision.datasets.ImageFolder(master_path + 'Lab_3b_Gesture_Dataset_Testing', transform=transform)\n",
        "\n",
        "\n",
        "train_loader = torch.utils.data.DataLoader(train_dataset, batch_size=batch_size, \n",
        "                                           num_workers=num_workers, shuffle=True)\n",
        "\n",
        "val_loader = torch.utils.data.DataLoader(val_dataset, batch_size=batch_size, \n",
        "                                           num_workers=num_workers, shuffle=True)\n",
        "\n",
        "test_loader = torch.utils.data.DataLoader(test_dataset, batch_size=batch_size, \n",
        "                                           num_workers=num_workers, shuffle=True)\n",
        "\n",
        "\n",
        "classes = ['A', 'B', 'C', 'D', 'E', 'F', 'G', 'H', 'I']\n",
        "\n",
        "master_path = '/content/drive/My Drive/EngSci Year3/APS360/Labs/Lab 3/Features_Training'\n",
        "# save features as tensors\n",
        "n = 0\n",
        "for img, label in train_loader:\n",
        "  features = alexnet.features(img)\n",
        "  features_tensor = torch.from_numpy(features.detach().numpy())\n",
        "\n",
        "  folder_name = master_path + '/' + str(classes[label])\n",
        "  if not os.path.isdir(folder_name):\n",
        "    os.mkdir(folder_name)\n",
        "  torch.save(features_tensor.squeeze(0), folder_name + '/' + str(n) + '.tensor')\n",
        "  n += 1\n",
        "\n",
        "master_path = '/content/drive/My Drive/EngSci Year3/APS360/Labs/Lab 3/Features_Validation'\n",
        "# save features as tensors\n",
        "n = 0\n",
        "for img, label in val_loader:\n",
        "  features = alexnet.features(img)\n",
        "  features_tensor = torch.from_numpy(features.detach().numpy())\n",
        "\n",
        "  folder_name = master_path + '/' + str(classes[label])\n",
        "  if not os.path.isdir(folder_name):\n",
        "    os.mkdir(folder_name)\n",
        "  torch.save(features_tensor.squeeze(0), folder_name + '/' + str(n) + '.tensor')\n",
        "  n += 1\n",
        "\n",
        "master_path = '/content/drive/My Drive/EngSci Year3/APS360/Labs/Lab 3/Features_Testing'\n",
        "# save features as tensors\n",
        "n = 0\n",
        "for img, label in test_loader:\n",
        "  features = alexnet.features(img)\n",
        "  features_tensor = torch.from_numpy(features.detach().numpy())\n",
        "\n",
        "  folder_name = master_path + '/' + str(classes[label])\n",
        "  if not os.path.isdir(folder_name):\n",
        "    os.mkdir(folder_name)\n",
        "  torch.save(features_tensor.squeeze(0), folder_name + '/' + str(n) + '.tensor')\n",
        "  n += 1\n",
        "\n",
        "\n",
        "# load features from drive\n",
        "master_path = '/content/drive/My Drive/EngSci Year3/APS360/Labs/Lab 3/Features'\n",
        "dataset_train = torchvision.datasets.DatasetFolder(master_path + '_Training', loader=torch.load, extensions=('.tensor'))\n",
        "dataset_val = torchvision.datasets.DatasetFolder(master_path + '_Validation', loader=torch.load, extensions=('.tensor'))\n",
        "dataset_test = torchvision.datasets.DatasetFolder(master_path + '_Testing', loader=torch.load, extensions=('.tensor'))\n",
        "\n",
        "batch_size = 32\n",
        "num_workers = 1\n",
        "\n",
        "feature_loader_train = torch.utils.data.DataLoader(dataset_train, batch_size=batch_size, \n",
        "                                           num_workers=num_workers, shuffle=True)\n",
        "feature_loader_val = torch.utils.data.DataLoader(dataset_val, batch_size=batch_size, \n",
        "                                           num_workers=num_workers, shuffle=True)\n",
        "feature_loader_test = torch.utils.data.DataLoader(dataset_test, batch_size=batch_size, \n",
        "                                           num_workers=num_workers, shuffle=True)"
      ],
      "execution_count": null,
      "outputs": [
        {
          "output_type": "stream",
          "text": [
            "Preparing Train Set\n",
            "Preparing Val Set\n",
            "Preparing Test Set\n",
            "torch.Size([32, 256, 6, 6])\n",
            "torch.Size([32])\n"
          ],
          "name": "stdout"
        }
      ]
    },
    {
      "cell_type": "markdown",
      "metadata": {
        "id": "OFWvvhFN73qY"
      },
      "source": [
        "### Part (b) - 3 pt\n",
        "Build a convolutional neural network model that takes as input these AlexNet features, and makes a\n",
        "prediction. Your model should be a subclass of nn.Module.\n",
        "\n",
        "Explain your choice of neural network architecture: how many layers did you choose? What types of layers\n",
        "did you use: fully-connected or convolutional? What about other decisions like pooling layers, activation\n",
        "functions, number of channels / hidden units in each layer?\n",
        "\n",
        "Here is an example of how your model may be called:"
      ]
    },
    {
      "cell_type": "code",
      "metadata": {
        "id": "oVTuHUeV78-U"
      },
      "source": [
        "\n",
        "import torch\n",
        "import torch.nn as nn\n",
        "import torch.nn.functional as F\n",
        "\n",
        "import matplotlib.pyplot as plt # for plotting\n",
        "import torch.optim as optim #for gradient descent\n",
        "\n",
        "class AlexNetCNN(nn.Module):\n",
        "    def __init__(self):\n",
        "        super(AlexNetCNN, self).__init__()\n",
        "        self.layer1 = nn.Linear(256 * 6 * 6 * 32, 30)\n",
        "        self.layer2 = nn.Linear(30, 9)\n",
        "\n",
        "    def forward(self, img):\n",
        "        flattened = img.view(-1, 256 * 6 * 6 * 32)\n",
        "        activation1 = self.layer1(flattened)\n",
        "        activation1 = F.relu(activation1)\n",
        "        activation2 = self.layer2(activation1)\n",
        "        return activation2\n",
        "\n",
        "# I used a similar structure to the CNN from earlier in this lab except with the AlexNet"
      ],
      "execution_count": null,
      "outputs": []
    },
    {
      "cell_type": "markdown",
      "metadata": {
        "id": "wVAGuURu7-9q"
      },
      "source": [
        "### Part (c) - 5 pt\n",
        "Train your new network, including any hyperparameter tuning. Plot and submit the training curve of your\n",
        "best model only.\n",
        "\n",
        "Note: Depending on how you are caching (saving) your AlexNet features, PyTorch might still be tracking\n",
        "updates to the **AlexNet weights**, which we are not tuning. One workaround is to convert your AlexNet\n",
        "feature tensor into a numpy array, and then back into a PyTorch tensor."
      ]
    },
    {
      "cell_type": "code",
      "metadata": {
        "id": "JCmiH11x7-q1"
      },
      "source": [
        "def get_accuracy(model, train=False):\n",
        "    if train:\n",
        "        data_loader = feature_loader_train\n",
        "    else:\n",
        "        data_loader = feature_loader_test\n",
        "\n",
        "    correct = 0\n",
        "    total = 0\n",
        "\n",
        "    for features, labels in data_loader:\n",
        "        features = torch.from_numpy(features.detach().numpy())\n",
        "        \n",
        "        output = model(features)\n",
        "        pred = output.max(1, keepdim=True)[1]\n",
        "        correct += pred.eq(labels.view_as(pred)).sum().item()\n",
        "        total += features.shape[0]\n",
        "    return correct / total\n",
        "\n",
        "def train(model, train_loader, val_loader, batch_size=1, num_epochs=5, learn_rate=0.001):\n",
        "    \n",
        "    criterion = nn.CrossEntropyLoss()\n",
        "    optimizer = optim.Adam(model.parameters(), lr=learn_rate)\n",
        "\n",
        "    iters, losses, train_acc, val_acc = [], [], [], []\n",
        "\n",
        "    n = 0 # the number of iterations\n",
        "    for epoch in range(num_epochs):\n",
        "        for imgs, labels in iter(train_loader):\n",
        "\n",
        "            out = model(imgs)           # forward pass\n",
        "\n",
        "            print(img.size(), labels.size(), out.size())     \n",
        "\n",
        "            loss = criterion(out, labels) # compute the total loss\n",
        "            loss.backward()               # backward pass (compute parameter updates)\n",
        "            optimizer.step()              # make the updates for each parameter\n",
        "            optimizer.zero_grad()         # a clean up step for PyTorch\n",
        "\n",
        "            # save the current training information\n",
        "            iters.append(n)\n",
        "            losses.append(float(loss)/batch_size)             # compute *average* loss\n",
        "            train_acc.append(get_accuracy(model, train=True)) # compute training accuracy \n",
        "            val_acc.append(get_accuracy(model, train=False))  # compute validation accuracy\n",
        "            n += 1\n",
        "\n",
        "    plt.title(\"Training Curve\")\n",
        "    plt.plot(iters, losses, label=\"Train\")\n",
        "    plt.xlabel(\"Iterations\")\n",
        "    plt.ylabel(\"Loss\")\n",
        "    plt.show()\n",
        "    plt.title(\"Training Curve\")\n",
        "    plt.plot(iters, train_acc, label=\"Train\")\n",
        "    plt.plot(iters, val_acc, label=\"Validation\")\n",
        "    plt.xlabel(\"Iterations\")\n",
        "    plt.ylabel(\"Training Accuracy\")\n",
        "    plt.legend(loc='best')\n",
        "    plt.show()\n",
        "\n",
        "    print(\"Final Training Accuracy: {}\".format(train_acc[-1]))\n",
        "    print(\"Final Validation Accuracy: {}\".format(val_acc[-1]))\n"
      ],
      "execution_count": null,
      "outputs": []
    },
    {
      "cell_type": "code",
      "metadata": {
        "id": "uDjHDhNz4v0R",
        "colab": {
          "base_uri": "https://localhost:8080/",
          "height": 341
        },
        "outputId": "1cd05886-c5de-4225-c809-0213920424da"
      },
      "source": [
        "alex_model = AlexNetCNN()\n",
        "train(alex_model, feature_loader_train, feature_loader_val, batch_size=32, num_epochs=1)\n",
        "\n",
        "# I'm getting the error below that the input batch_sisze does not match the target batch_size, \n",
        "# but I think the rest of the code is all fine, the next few parts have the code in place, \n",
        "# similar to the earlier parts of the lab, so would just need to be run if this were to \n",
        "# be sorted out "
      ],
      "execution_count": null,
      "outputs": [
        {
          "output_type": "stream",
          "text": [
            "torch.Size([1, 3, 224, 224]) torch.Size([32]) torch.Size([1, 9])\n"
          ],
          "name": "stdout"
        },
        {
          "output_type": "error",
          "ename": "ValueError",
          "evalue": "ignored",
          "traceback": [
            "\u001b[0;31m---------------------------------------------------------------------------\u001b[0m",
            "\u001b[0;31mValueError\u001b[0m                                Traceback (most recent call last)",
            "\u001b[0;32m<ipython-input-66-9e3470790cae>\u001b[0m in \u001b[0;36m<module>\u001b[0;34m()\u001b[0m\n\u001b[1;32m      1\u001b[0m \u001b[0malex_model\u001b[0m \u001b[0;34m=\u001b[0m \u001b[0mAlexNetCNN\u001b[0m\u001b[0;34m(\u001b[0m\u001b[0;34m)\u001b[0m\u001b[0;34m\u001b[0m\u001b[0;34m\u001b[0m\u001b[0m\n\u001b[0;32m----> 2\u001b[0;31m \u001b[0mtrain\u001b[0m\u001b[0;34m(\u001b[0m\u001b[0malex_model\u001b[0m\u001b[0;34m,\u001b[0m \u001b[0mfeature_loader_train\u001b[0m\u001b[0;34m,\u001b[0m \u001b[0mfeature_loader_val\u001b[0m\u001b[0;34m,\u001b[0m \u001b[0mbatch_size\u001b[0m\u001b[0;34m=\u001b[0m\u001b[0;36m32\u001b[0m\u001b[0;34m,\u001b[0m \u001b[0mnum_epochs\u001b[0m\u001b[0;34m=\u001b[0m\u001b[0;36m1\u001b[0m\u001b[0;34m)\u001b[0m\u001b[0;34m\u001b[0m\u001b[0;34m\u001b[0m\u001b[0m\n\u001b[0m",
            "\u001b[0;32m<ipython-input-59-de5740b09b9d>\u001b[0m in \u001b[0;36mtrain\u001b[0;34m(model, train_loader, val_loader, batch_size, num_epochs, learn_rate)\u001b[0m\n\u001b[1;32m     32\u001b[0m             \u001b[0mprint\u001b[0m\u001b[0;34m(\u001b[0m\u001b[0mimg\u001b[0m\u001b[0;34m.\u001b[0m\u001b[0msize\u001b[0m\u001b[0;34m(\u001b[0m\u001b[0;34m)\u001b[0m\u001b[0;34m,\u001b[0m \u001b[0mlabels\u001b[0m\u001b[0;34m.\u001b[0m\u001b[0msize\u001b[0m\u001b[0;34m(\u001b[0m\u001b[0;34m)\u001b[0m\u001b[0;34m,\u001b[0m \u001b[0mout\u001b[0m\u001b[0;34m.\u001b[0m\u001b[0msize\u001b[0m\u001b[0;34m(\u001b[0m\u001b[0;34m)\u001b[0m\u001b[0;34m)\u001b[0m\u001b[0;34m\u001b[0m\u001b[0;34m\u001b[0m\u001b[0m\n\u001b[1;32m     33\u001b[0m \u001b[0;34m\u001b[0m\u001b[0m\n\u001b[0;32m---> 34\u001b[0;31m             \u001b[0mloss\u001b[0m \u001b[0;34m=\u001b[0m \u001b[0mcriterion\u001b[0m\u001b[0;34m(\u001b[0m\u001b[0mout\u001b[0m\u001b[0;34m,\u001b[0m \u001b[0mlabels\u001b[0m\u001b[0;34m)\u001b[0m \u001b[0;31m# compute the total loss\u001b[0m\u001b[0;34m\u001b[0m\u001b[0;34m\u001b[0m\u001b[0m\n\u001b[0m\u001b[1;32m     35\u001b[0m             \u001b[0mloss\u001b[0m\u001b[0;34m.\u001b[0m\u001b[0mbackward\u001b[0m\u001b[0;34m(\u001b[0m\u001b[0;34m)\u001b[0m               \u001b[0;31m# backward pass (compute parameter updates)\u001b[0m\u001b[0;34m\u001b[0m\u001b[0;34m\u001b[0m\u001b[0m\n\u001b[1;32m     36\u001b[0m             \u001b[0moptimizer\u001b[0m\u001b[0;34m.\u001b[0m\u001b[0mstep\u001b[0m\u001b[0;34m(\u001b[0m\u001b[0;34m)\u001b[0m              \u001b[0;31m# make the updates for each parameter\u001b[0m\u001b[0;34m\u001b[0m\u001b[0;34m\u001b[0m\u001b[0m\n",
            "\u001b[0;32m/usr/local/lib/python3.6/dist-packages/torch/nn/modules/module.py\u001b[0m in \u001b[0;36m_call_impl\u001b[0;34m(self, *input, **kwargs)\u001b[0m\n\u001b[1;32m    720\u001b[0m             \u001b[0mresult\u001b[0m \u001b[0;34m=\u001b[0m \u001b[0mself\u001b[0m\u001b[0;34m.\u001b[0m\u001b[0m_slow_forward\u001b[0m\u001b[0;34m(\u001b[0m\u001b[0;34m*\u001b[0m\u001b[0minput\u001b[0m\u001b[0;34m,\u001b[0m \u001b[0;34m**\u001b[0m\u001b[0mkwargs\u001b[0m\u001b[0;34m)\u001b[0m\u001b[0;34m\u001b[0m\u001b[0;34m\u001b[0m\u001b[0m\n\u001b[1;32m    721\u001b[0m         \u001b[0;32melse\u001b[0m\u001b[0;34m:\u001b[0m\u001b[0;34m\u001b[0m\u001b[0;34m\u001b[0m\u001b[0m\n\u001b[0;32m--> 722\u001b[0;31m             \u001b[0mresult\u001b[0m \u001b[0;34m=\u001b[0m \u001b[0mself\u001b[0m\u001b[0;34m.\u001b[0m\u001b[0mforward\u001b[0m\u001b[0;34m(\u001b[0m\u001b[0;34m*\u001b[0m\u001b[0minput\u001b[0m\u001b[0;34m,\u001b[0m \u001b[0;34m**\u001b[0m\u001b[0mkwargs\u001b[0m\u001b[0;34m)\u001b[0m\u001b[0;34m\u001b[0m\u001b[0;34m\u001b[0m\u001b[0m\n\u001b[0m\u001b[1;32m    723\u001b[0m         for hook in itertools.chain(\n\u001b[1;32m    724\u001b[0m                 \u001b[0m_global_forward_hooks\u001b[0m\u001b[0;34m.\u001b[0m\u001b[0mvalues\u001b[0m\u001b[0;34m(\u001b[0m\u001b[0;34m)\u001b[0m\u001b[0;34m,\u001b[0m\u001b[0;34m\u001b[0m\u001b[0;34m\u001b[0m\u001b[0m\n",
            "\u001b[0;32m/usr/local/lib/python3.6/dist-packages/torch/nn/modules/loss.py\u001b[0m in \u001b[0;36mforward\u001b[0;34m(self, input, target)\u001b[0m\n\u001b[1;32m    946\u001b[0m     \u001b[0;32mdef\u001b[0m \u001b[0mforward\u001b[0m\u001b[0;34m(\u001b[0m\u001b[0mself\u001b[0m\u001b[0;34m,\u001b[0m \u001b[0minput\u001b[0m\u001b[0;34m:\u001b[0m \u001b[0mTensor\u001b[0m\u001b[0;34m,\u001b[0m \u001b[0mtarget\u001b[0m\u001b[0;34m:\u001b[0m \u001b[0mTensor\u001b[0m\u001b[0;34m)\u001b[0m \u001b[0;34m->\u001b[0m \u001b[0mTensor\u001b[0m\u001b[0;34m:\u001b[0m\u001b[0;34m\u001b[0m\u001b[0;34m\u001b[0m\u001b[0m\n\u001b[1;32m    947\u001b[0m         return F.cross_entropy(input, target, weight=self.weight,\n\u001b[0;32m--> 948\u001b[0;31m                                ignore_index=self.ignore_index, reduction=self.reduction)\n\u001b[0m\u001b[1;32m    949\u001b[0m \u001b[0;34m\u001b[0m\u001b[0m\n\u001b[1;32m    950\u001b[0m \u001b[0;34m\u001b[0m\u001b[0m\n",
            "\u001b[0;32m/usr/local/lib/python3.6/dist-packages/torch/nn/functional.py\u001b[0m in \u001b[0;36mcross_entropy\u001b[0;34m(input, target, weight, size_average, ignore_index, reduce, reduction)\u001b[0m\n\u001b[1;32m   2420\u001b[0m     \u001b[0;32mif\u001b[0m \u001b[0msize_average\u001b[0m \u001b[0;32mis\u001b[0m \u001b[0;32mnot\u001b[0m \u001b[0;32mNone\u001b[0m \u001b[0;32mor\u001b[0m \u001b[0mreduce\u001b[0m \u001b[0;32mis\u001b[0m \u001b[0;32mnot\u001b[0m \u001b[0;32mNone\u001b[0m\u001b[0;34m:\u001b[0m\u001b[0;34m\u001b[0m\u001b[0;34m\u001b[0m\u001b[0m\n\u001b[1;32m   2421\u001b[0m         \u001b[0mreduction\u001b[0m \u001b[0;34m=\u001b[0m \u001b[0m_Reduction\u001b[0m\u001b[0;34m.\u001b[0m\u001b[0mlegacy_get_string\u001b[0m\u001b[0;34m(\u001b[0m\u001b[0msize_average\u001b[0m\u001b[0;34m,\u001b[0m \u001b[0mreduce\u001b[0m\u001b[0;34m)\u001b[0m\u001b[0;34m\u001b[0m\u001b[0;34m\u001b[0m\u001b[0m\n\u001b[0;32m-> 2422\u001b[0;31m     \u001b[0;32mreturn\u001b[0m \u001b[0mnll_loss\u001b[0m\u001b[0;34m(\u001b[0m\u001b[0mlog_softmax\u001b[0m\u001b[0;34m(\u001b[0m\u001b[0minput\u001b[0m\u001b[0;34m,\u001b[0m \u001b[0;36m1\u001b[0m\u001b[0;34m)\u001b[0m\u001b[0;34m,\u001b[0m \u001b[0mtarget\u001b[0m\u001b[0;34m,\u001b[0m \u001b[0mweight\u001b[0m\u001b[0;34m,\u001b[0m \u001b[0;32mNone\u001b[0m\u001b[0;34m,\u001b[0m \u001b[0mignore_index\u001b[0m\u001b[0;34m,\u001b[0m \u001b[0;32mNone\u001b[0m\u001b[0;34m,\u001b[0m \u001b[0mreduction\u001b[0m\u001b[0;34m)\u001b[0m\u001b[0;34m\u001b[0m\u001b[0;34m\u001b[0m\u001b[0m\n\u001b[0m\u001b[1;32m   2423\u001b[0m \u001b[0;34m\u001b[0m\u001b[0m\n\u001b[1;32m   2424\u001b[0m \u001b[0;34m\u001b[0m\u001b[0m\n",
            "\u001b[0;32m/usr/local/lib/python3.6/dist-packages/torch/nn/functional.py\u001b[0m in \u001b[0;36mnll_loss\u001b[0;34m(input, target, weight, size_average, ignore_index, reduce, reduction)\u001b[0m\n\u001b[1;32m   2214\u001b[0m     \u001b[0;32mif\u001b[0m \u001b[0minput\u001b[0m\u001b[0;34m.\u001b[0m\u001b[0msize\u001b[0m\u001b[0;34m(\u001b[0m\u001b[0;36m0\u001b[0m\u001b[0;34m)\u001b[0m \u001b[0;34m!=\u001b[0m \u001b[0mtarget\u001b[0m\u001b[0;34m.\u001b[0m\u001b[0msize\u001b[0m\u001b[0;34m(\u001b[0m\u001b[0;36m0\u001b[0m\u001b[0;34m)\u001b[0m\u001b[0;34m:\u001b[0m\u001b[0;34m\u001b[0m\u001b[0;34m\u001b[0m\u001b[0m\n\u001b[1;32m   2215\u001b[0m         raise ValueError('Expected input batch_size ({}) to match target batch_size ({}).'\n\u001b[0;32m-> 2216\u001b[0;31m                          .format(input.size(0), target.size(0)))\n\u001b[0m\u001b[1;32m   2217\u001b[0m     \u001b[0;32mif\u001b[0m \u001b[0mdim\u001b[0m \u001b[0;34m==\u001b[0m \u001b[0;36m2\u001b[0m\u001b[0;34m:\u001b[0m\u001b[0;34m\u001b[0m\u001b[0;34m\u001b[0m\u001b[0m\n\u001b[1;32m   2218\u001b[0m         \u001b[0mret\u001b[0m \u001b[0;34m=\u001b[0m \u001b[0mtorch\u001b[0m\u001b[0;34m.\u001b[0m\u001b[0m_C\u001b[0m\u001b[0;34m.\u001b[0m\u001b[0m_nn\u001b[0m\u001b[0;34m.\u001b[0m\u001b[0mnll_loss\u001b[0m\u001b[0;34m(\u001b[0m\u001b[0minput\u001b[0m\u001b[0;34m,\u001b[0m \u001b[0mtarget\u001b[0m\u001b[0;34m,\u001b[0m \u001b[0mweight\u001b[0m\u001b[0;34m,\u001b[0m \u001b[0m_Reduction\u001b[0m\u001b[0;34m.\u001b[0m\u001b[0mget_enum\u001b[0m\u001b[0;34m(\u001b[0m\u001b[0mreduction\u001b[0m\u001b[0;34m)\u001b[0m\u001b[0;34m,\u001b[0m \u001b[0mignore_index\u001b[0m\u001b[0;34m)\u001b[0m\u001b[0;34m\u001b[0m\u001b[0;34m\u001b[0m\u001b[0m\n",
            "\u001b[0;31mValueError\u001b[0m: Expected input batch_size (1) to match target batch_size (32)."
          ]
        }
      ]
    },
    {
      "cell_type": "markdown",
      "metadata": {
        "id": "hQ2tvqJ68Mqb"
      },
      "source": [
        "### Part (d) - 2 pt\n",
        "Report the test accuracy of your best model. How does the test accuracy compare to Part 3(d) without transfer learning?"
      ]
    },
    {
      "cell_type": "code",
      "metadata": {
        "id": "yCp_kFSg8Q2T",
        "colab": {
          "base_uri": "https://localhost:8080/",
          "height": 392
        },
        "outputId": "dd086101-44ce-435f-92ca-3eebbfeca7a1"
      },
      "source": [
        "model_path = get_model_name(alex_model, batch_size=32, learn_rate=0.001, epoch=15)\n",
        "state = torch.load(model_path)\n",
        "alex_model.load_state_dict(state)\n",
        "\n",
        "criterion = nn.CrossEntropyLoss()\n",
        "test_err = get_error(alex_model, test_loader)"
      ],
      "execution_count": null,
      "outputs": [
        {
          "output_type": "error",
          "ename": "FileNotFoundError",
          "evalue": "ignored",
          "traceback": [
            "\u001b[0;31m---------------------------------------------------------------------------\u001b[0m",
            "\u001b[0;31mFileNotFoundError\u001b[0m                         Traceback (most recent call last)",
            "\u001b[0;32m<ipython-input-65-cd7b8617a5ee>\u001b[0m in \u001b[0;36m<module>\u001b[0;34m()\u001b[0m\n\u001b[1;32m      1\u001b[0m \u001b[0mmodel_path\u001b[0m \u001b[0;34m=\u001b[0m \u001b[0mget_model_name\u001b[0m\u001b[0;34m(\u001b[0m\u001b[0malex_model\u001b[0m\u001b[0;34m,\u001b[0m \u001b[0mbatch_size\u001b[0m\u001b[0;34m=\u001b[0m\u001b[0;36m32\u001b[0m\u001b[0;34m,\u001b[0m \u001b[0mlearn_rate\u001b[0m\u001b[0;34m=\u001b[0m\u001b[0;36m0.001\u001b[0m\u001b[0;34m,\u001b[0m \u001b[0mepoch\u001b[0m\u001b[0;34m=\u001b[0m\u001b[0;36m15\u001b[0m\u001b[0;34m)\u001b[0m\u001b[0;34m\u001b[0m\u001b[0;34m\u001b[0m\u001b[0m\n\u001b[0;32m----> 2\u001b[0;31m \u001b[0mstate\u001b[0m \u001b[0;34m=\u001b[0m \u001b[0mtorch\u001b[0m\u001b[0;34m.\u001b[0m\u001b[0mload\u001b[0m\u001b[0;34m(\u001b[0m\u001b[0mmodel_path\u001b[0m\u001b[0;34m)\u001b[0m\u001b[0;34m\u001b[0m\u001b[0;34m\u001b[0m\u001b[0m\n\u001b[0m\u001b[1;32m      3\u001b[0m \u001b[0mCNNClassifier\u001b[0m\u001b[0;34m(\u001b[0m\u001b[0;34m)\u001b[0m\u001b[0;34m.\u001b[0m\u001b[0mload_state_dict\u001b[0m\u001b[0;34m(\u001b[0m\u001b[0mstate\u001b[0m\u001b[0;34m)\u001b[0m\u001b[0;34m\u001b[0m\u001b[0;34m\u001b[0m\u001b[0m\n\u001b[1;32m      4\u001b[0m \u001b[0;34m\u001b[0m\u001b[0m\n\u001b[1;32m      5\u001b[0m \u001b[0mcriterion\u001b[0m \u001b[0;34m=\u001b[0m \u001b[0mnn\u001b[0m\u001b[0;34m.\u001b[0m\u001b[0mCrossEntropyLoss\u001b[0m\u001b[0;34m(\u001b[0m\u001b[0;34m)\u001b[0m\u001b[0;34m\u001b[0m\u001b[0;34m\u001b[0m\u001b[0m\n",
            "\u001b[0;32m/usr/local/lib/python3.6/dist-packages/torch/serialization.py\u001b[0m in \u001b[0;36mload\u001b[0;34m(f, map_location, pickle_module, **pickle_load_args)\u001b[0m\n\u001b[1;32m    569\u001b[0m         \u001b[0mpickle_load_args\u001b[0m\u001b[0;34m[\u001b[0m\u001b[0;34m'encoding'\u001b[0m\u001b[0;34m]\u001b[0m \u001b[0;34m=\u001b[0m \u001b[0;34m'utf-8'\u001b[0m\u001b[0;34m\u001b[0m\u001b[0;34m\u001b[0m\u001b[0m\n\u001b[1;32m    570\u001b[0m \u001b[0;34m\u001b[0m\u001b[0m\n\u001b[0;32m--> 571\u001b[0;31m     \u001b[0;32mwith\u001b[0m \u001b[0m_open_file_like\u001b[0m\u001b[0;34m(\u001b[0m\u001b[0mf\u001b[0m\u001b[0;34m,\u001b[0m \u001b[0;34m'rb'\u001b[0m\u001b[0;34m)\u001b[0m \u001b[0;32mas\u001b[0m \u001b[0mopened_file\u001b[0m\u001b[0;34m:\u001b[0m\u001b[0;34m\u001b[0m\u001b[0;34m\u001b[0m\u001b[0m\n\u001b[0m\u001b[1;32m    572\u001b[0m         \u001b[0;32mif\u001b[0m \u001b[0m_is_zipfile\u001b[0m\u001b[0;34m(\u001b[0m\u001b[0mopened_file\u001b[0m\u001b[0;34m)\u001b[0m\u001b[0;34m:\u001b[0m\u001b[0;34m\u001b[0m\u001b[0;34m\u001b[0m\u001b[0m\n\u001b[1;32m    573\u001b[0m             \u001b[0;31m# The zipfile reader is going to advance the current file position.\u001b[0m\u001b[0;34m\u001b[0m\u001b[0;34m\u001b[0m\u001b[0;34m\u001b[0m\u001b[0m\n",
            "\u001b[0;32m/usr/local/lib/python3.6/dist-packages/torch/serialization.py\u001b[0m in \u001b[0;36m_open_file_like\u001b[0;34m(name_or_buffer, mode)\u001b[0m\n\u001b[1;32m    227\u001b[0m \u001b[0;32mdef\u001b[0m \u001b[0m_open_file_like\u001b[0m\u001b[0;34m(\u001b[0m\u001b[0mname_or_buffer\u001b[0m\u001b[0;34m,\u001b[0m \u001b[0mmode\u001b[0m\u001b[0;34m)\u001b[0m\u001b[0;34m:\u001b[0m\u001b[0;34m\u001b[0m\u001b[0;34m\u001b[0m\u001b[0m\n\u001b[1;32m    228\u001b[0m     \u001b[0;32mif\u001b[0m \u001b[0m_is_path\u001b[0m\u001b[0;34m(\u001b[0m\u001b[0mname_or_buffer\u001b[0m\u001b[0;34m)\u001b[0m\u001b[0;34m:\u001b[0m\u001b[0;34m\u001b[0m\u001b[0;34m\u001b[0m\u001b[0m\n\u001b[0;32m--> 229\u001b[0;31m         \u001b[0;32mreturn\u001b[0m \u001b[0m_open_file\u001b[0m\u001b[0;34m(\u001b[0m\u001b[0mname_or_buffer\u001b[0m\u001b[0;34m,\u001b[0m \u001b[0mmode\u001b[0m\u001b[0;34m)\u001b[0m\u001b[0;34m\u001b[0m\u001b[0;34m\u001b[0m\u001b[0m\n\u001b[0m\u001b[1;32m    230\u001b[0m     \u001b[0;32melse\u001b[0m\u001b[0;34m:\u001b[0m\u001b[0;34m\u001b[0m\u001b[0;34m\u001b[0m\u001b[0m\n\u001b[1;32m    231\u001b[0m         \u001b[0;32mif\u001b[0m \u001b[0;34m'w'\u001b[0m \u001b[0;32min\u001b[0m \u001b[0mmode\u001b[0m\u001b[0;34m:\u001b[0m\u001b[0;34m\u001b[0m\u001b[0;34m\u001b[0m\u001b[0m\n",
            "\u001b[0;32m/usr/local/lib/python3.6/dist-packages/torch/serialization.py\u001b[0m in \u001b[0;36m__init__\u001b[0;34m(self, name, mode)\u001b[0m\n\u001b[1;32m    208\u001b[0m \u001b[0;32mclass\u001b[0m \u001b[0m_open_file\u001b[0m\u001b[0;34m(\u001b[0m\u001b[0m_opener\u001b[0m\u001b[0;34m)\u001b[0m\u001b[0;34m:\u001b[0m\u001b[0;34m\u001b[0m\u001b[0;34m\u001b[0m\u001b[0m\n\u001b[1;32m    209\u001b[0m     \u001b[0;32mdef\u001b[0m \u001b[0m__init__\u001b[0m\u001b[0;34m(\u001b[0m\u001b[0mself\u001b[0m\u001b[0;34m,\u001b[0m \u001b[0mname\u001b[0m\u001b[0;34m,\u001b[0m \u001b[0mmode\u001b[0m\u001b[0;34m)\u001b[0m\u001b[0;34m:\u001b[0m\u001b[0;34m\u001b[0m\u001b[0;34m\u001b[0m\u001b[0m\n\u001b[0;32m--> 210\u001b[0;31m         \u001b[0msuper\u001b[0m\u001b[0;34m(\u001b[0m\u001b[0m_open_file\u001b[0m\u001b[0;34m,\u001b[0m \u001b[0mself\u001b[0m\u001b[0;34m)\u001b[0m\u001b[0;34m.\u001b[0m\u001b[0m__init__\u001b[0m\u001b[0;34m(\u001b[0m\u001b[0mopen\u001b[0m\u001b[0;34m(\u001b[0m\u001b[0mname\u001b[0m\u001b[0;34m,\u001b[0m \u001b[0mmode\u001b[0m\u001b[0;34m)\u001b[0m\u001b[0;34m)\u001b[0m\u001b[0;34m\u001b[0m\u001b[0;34m\u001b[0m\u001b[0m\n\u001b[0m\u001b[1;32m    211\u001b[0m \u001b[0;34m\u001b[0m\u001b[0m\n\u001b[1;32m    212\u001b[0m     \u001b[0;32mdef\u001b[0m \u001b[0m__exit__\u001b[0m\u001b[0;34m(\u001b[0m\u001b[0mself\u001b[0m\u001b[0;34m,\u001b[0m \u001b[0;34m*\u001b[0m\u001b[0margs\u001b[0m\u001b[0;34m)\u001b[0m\u001b[0;34m:\u001b[0m\u001b[0;34m\u001b[0m\u001b[0;34m\u001b[0m\u001b[0m\n",
            "\u001b[0;31mFileNotFoundError\u001b[0m: [Errno 2] No such file or directory: 'model_AlexNetCNN(\\n  (layer1): Linear(in_features=294912, out_features=30, bias=True)\\n  (layer2): Linear(in_features=30, out_features=9, bias=True)\\n)_bs32_lr0.001_epoch15'"
          ]
        }
      ]
    },
    {
      "cell_type": "markdown",
      "metadata": {
        "id": "2ZwGCxySRR7a"
      },
      "source": [
        "### 5. Additional Testing [5 pt]\n",
        "As a final step in testing we will be revisiting the sample images that you had collected and submitted at the start of this lab. These sample images should be untouched and will be used to demonstrate how well your model works at identifying your hand guestures. \n",
        "\n",
        "Using the best transfer learning model developed in Part 4. Report the test accuracy on your sample images and how it compares to the test accuracy obtained in Part 4(d)? How well did your model do for the different hand guestures? Provide an explanation for why you think your model performed the way it did?"
      ]
    },
    {
      "cell_type": "code",
      "metadata": {
        "id": "8dUORFCwRR7a",
        "colab": {
          "base_uri": "https://localhost:8080/",
          "height": 392
        },
        "outputId": "0d513d19-10d5-44d8-8bdf-c055fdb93ecc"
      },
      "source": [
        "model_path = get_model_name(alex_model, batch_size=27, learn_rate=0.001, epoch=29)\n",
        "state = torch.load(model_path)\n",
        "alex_model.load_state_dict(state)\n",
        "\n",
        "criterion = nn.CrossEntropyLoss()\n",
        "test_err = get_error(alex_model, test_loader)\n",
        "print(test_err)"
      ],
      "execution_count": null,
      "outputs": [
        {
          "output_type": "error",
          "ename": "FileNotFoundError",
          "evalue": "ignored",
          "traceback": [
            "\u001b[0;31m---------------------------------------------------------------------------\u001b[0m",
            "\u001b[0;31mFileNotFoundError\u001b[0m                         Traceback (most recent call last)",
            "\u001b[0;32m<ipython-input-67-d6d9be1948f9>\u001b[0m in \u001b[0;36m<module>\u001b[0;34m()\u001b[0m\n\u001b[1;32m      1\u001b[0m \u001b[0mmodel_path\u001b[0m \u001b[0;34m=\u001b[0m \u001b[0mget_model_name\u001b[0m\u001b[0;34m(\u001b[0m\u001b[0malex_model\u001b[0m\u001b[0;34m,\u001b[0m \u001b[0mbatch_size\u001b[0m\u001b[0;34m=\u001b[0m\u001b[0;36m27\u001b[0m\u001b[0;34m,\u001b[0m \u001b[0mlearn_rate\u001b[0m\u001b[0;34m=\u001b[0m\u001b[0;36m0.001\u001b[0m\u001b[0;34m,\u001b[0m \u001b[0mepoch\u001b[0m\u001b[0;34m=\u001b[0m\u001b[0;36m29\u001b[0m\u001b[0;34m)\u001b[0m\u001b[0;34m\u001b[0m\u001b[0;34m\u001b[0m\u001b[0m\n\u001b[0;32m----> 2\u001b[0;31m \u001b[0mstate\u001b[0m \u001b[0;34m=\u001b[0m \u001b[0mtorch\u001b[0m\u001b[0;34m.\u001b[0m\u001b[0mload\u001b[0m\u001b[0;34m(\u001b[0m\u001b[0mmodel_path\u001b[0m\u001b[0;34m)\u001b[0m\u001b[0;34m\u001b[0m\u001b[0;34m\u001b[0m\u001b[0m\n\u001b[0m\u001b[1;32m      3\u001b[0m \u001b[0malex_model\u001b[0m\u001b[0;34m.\u001b[0m\u001b[0mload_state_dict\u001b[0m\u001b[0;34m(\u001b[0m\u001b[0mstate\u001b[0m\u001b[0;34m)\u001b[0m\u001b[0;34m\u001b[0m\u001b[0;34m\u001b[0m\u001b[0m\n\u001b[1;32m      4\u001b[0m \u001b[0;34m\u001b[0m\u001b[0m\n\u001b[1;32m      5\u001b[0m \u001b[0mcriterion\u001b[0m \u001b[0;34m=\u001b[0m \u001b[0mnn\u001b[0m\u001b[0;34m.\u001b[0m\u001b[0mCrossEntropyLoss\u001b[0m\u001b[0;34m(\u001b[0m\u001b[0;34m)\u001b[0m\u001b[0;34m\u001b[0m\u001b[0;34m\u001b[0m\u001b[0m\n",
            "\u001b[0;32m/usr/local/lib/python3.6/dist-packages/torch/serialization.py\u001b[0m in \u001b[0;36mload\u001b[0;34m(f, map_location, pickle_module, **pickle_load_args)\u001b[0m\n\u001b[1;32m    569\u001b[0m         \u001b[0mpickle_load_args\u001b[0m\u001b[0;34m[\u001b[0m\u001b[0;34m'encoding'\u001b[0m\u001b[0;34m]\u001b[0m \u001b[0;34m=\u001b[0m \u001b[0;34m'utf-8'\u001b[0m\u001b[0;34m\u001b[0m\u001b[0;34m\u001b[0m\u001b[0m\n\u001b[1;32m    570\u001b[0m \u001b[0;34m\u001b[0m\u001b[0m\n\u001b[0;32m--> 571\u001b[0;31m     \u001b[0;32mwith\u001b[0m \u001b[0m_open_file_like\u001b[0m\u001b[0;34m(\u001b[0m\u001b[0mf\u001b[0m\u001b[0;34m,\u001b[0m \u001b[0;34m'rb'\u001b[0m\u001b[0;34m)\u001b[0m \u001b[0;32mas\u001b[0m \u001b[0mopened_file\u001b[0m\u001b[0;34m:\u001b[0m\u001b[0;34m\u001b[0m\u001b[0;34m\u001b[0m\u001b[0m\n\u001b[0m\u001b[1;32m    572\u001b[0m         \u001b[0;32mif\u001b[0m \u001b[0m_is_zipfile\u001b[0m\u001b[0;34m(\u001b[0m\u001b[0mopened_file\u001b[0m\u001b[0;34m)\u001b[0m\u001b[0;34m:\u001b[0m\u001b[0;34m\u001b[0m\u001b[0;34m\u001b[0m\u001b[0m\n\u001b[1;32m    573\u001b[0m             \u001b[0;31m# The zipfile reader is going to advance the current file position.\u001b[0m\u001b[0;34m\u001b[0m\u001b[0;34m\u001b[0m\u001b[0;34m\u001b[0m\u001b[0m\n",
            "\u001b[0;32m/usr/local/lib/python3.6/dist-packages/torch/serialization.py\u001b[0m in \u001b[0;36m_open_file_like\u001b[0;34m(name_or_buffer, mode)\u001b[0m\n\u001b[1;32m    227\u001b[0m \u001b[0;32mdef\u001b[0m \u001b[0m_open_file_like\u001b[0m\u001b[0;34m(\u001b[0m\u001b[0mname_or_buffer\u001b[0m\u001b[0;34m,\u001b[0m \u001b[0mmode\u001b[0m\u001b[0;34m)\u001b[0m\u001b[0;34m:\u001b[0m\u001b[0;34m\u001b[0m\u001b[0;34m\u001b[0m\u001b[0m\n\u001b[1;32m    228\u001b[0m     \u001b[0;32mif\u001b[0m \u001b[0m_is_path\u001b[0m\u001b[0;34m(\u001b[0m\u001b[0mname_or_buffer\u001b[0m\u001b[0;34m)\u001b[0m\u001b[0;34m:\u001b[0m\u001b[0;34m\u001b[0m\u001b[0;34m\u001b[0m\u001b[0m\n\u001b[0;32m--> 229\u001b[0;31m         \u001b[0;32mreturn\u001b[0m \u001b[0m_open_file\u001b[0m\u001b[0;34m(\u001b[0m\u001b[0mname_or_buffer\u001b[0m\u001b[0;34m,\u001b[0m \u001b[0mmode\u001b[0m\u001b[0;34m)\u001b[0m\u001b[0;34m\u001b[0m\u001b[0;34m\u001b[0m\u001b[0m\n\u001b[0m\u001b[1;32m    230\u001b[0m     \u001b[0;32melse\u001b[0m\u001b[0;34m:\u001b[0m\u001b[0;34m\u001b[0m\u001b[0;34m\u001b[0m\u001b[0m\n\u001b[1;32m    231\u001b[0m         \u001b[0;32mif\u001b[0m \u001b[0;34m'w'\u001b[0m \u001b[0;32min\u001b[0m \u001b[0mmode\u001b[0m\u001b[0;34m:\u001b[0m\u001b[0;34m\u001b[0m\u001b[0;34m\u001b[0m\u001b[0m\n",
            "\u001b[0;32m/usr/local/lib/python3.6/dist-packages/torch/serialization.py\u001b[0m in \u001b[0;36m__init__\u001b[0;34m(self, name, mode)\u001b[0m\n\u001b[1;32m    208\u001b[0m \u001b[0;32mclass\u001b[0m \u001b[0m_open_file\u001b[0m\u001b[0;34m(\u001b[0m\u001b[0m_opener\u001b[0m\u001b[0;34m)\u001b[0m\u001b[0;34m:\u001b[0m\u001b[0;34m\u001b[0m\u001b[0;34m\u001b[0m\u001b[0m\n\u001b[1;32m    209\u001b[0m     \u001b[0;32mdef\u001b[0m \u001b[0m__init__\u001b[0m\u001b[0;34m(\u001b[0m\u001b[0mself\u001b[0m\u001b[0;34m,\u001b[0m \u001b[0mname\u001b[0m\u001b[0;34m,\u001b[0m \u001b[0mmode\u001b[0m\u001b[0;34m)\u001b[0m\u001b[0;34m:\u001b[0m\u001b[0;34m\u001b[0m\u001b[0;34m\u001b[0m\u001b[0m\n\u001b[0;32m--> 210\u001b[0;31m         \u001b[0msuper\u001b[0m\u001b[0;34m(\u001b[0m\u001b[0m_open_file\u001b[0m\u001b[0;34m,\u001b[0m \u001b[0mself\u001b[0m\u001b[0;34m)\u001b[0m\u001b[0;34m.\u001b[0m\u001b[0m__init__\u001b[0m\u001b[0;34m(\u001b[0m\u001b[0mopen\u001b[0m\u001b[0;34m(\u001b[0m\u001b[0mname\u001b[0m\u001b[0;34m,\u001b[0m \u001b[0mmode\u001b[0m\u001b[0;34m)\u001b[0m\u001b[0;34m)\u001b[0m\u001b[0;34m\u001b[0m\u001b[0;34m\u001b[0m\u001b[0m\n\u001b[0m\u001b[1;32m    211\u001b[0m \u001b[0;34m\u001b[0m\u001b[0m\n\u001b[1;32m    212\u001b[0m     \u001b[0;32mdef\u001b[0m \u001b[0m__exit__\u001b[0m\u001b[0;34m(\u001b[0m\u001b[0mself\u001b[0m\u001b[0;34m,\u001b[0m \u001b[0;34m*\u001b[0m\u001b[0margs\u001b[0m\u001b[0;34m)\u001b[0m\u001b[0;34m:\u001b[0m\u001b[0;34m\u001b[0m\u001b[0;34m\u001b[0m\u001b[0m\n",
            "\u001b[0;31mFileNotFoundError\u001b[0m: [Errno 2] No such file or directory: 'model_AlexNetCNN(\\n  (layer1): Linear(in_features=294912, out_features=30, bias=True)\\n  (layer2): Linear(in_features=30, out_features=9, bias=True)\\n)_bs27_lr0.001_epoch29'"
          ]
        }
      ]
    }
  ]
}