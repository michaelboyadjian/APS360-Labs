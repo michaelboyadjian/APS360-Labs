{
  "nbformat": 4,
  "nbformat_minor": 0,
  "metadata": {
    "colab": {
      "name": "Lab_4_Data_Imputation.ipynb",
      "provenance": [],
      "collapsed_sections": [
        "HwjDg1uM1pqe",
        "OEJ0Ci3l1pqh",
        "1_5ZZR_J1pqy",
        "WKk01pwx1pq_",
        "SxCTlXoV1prB",
        "h9xTwIf51prF",
        "UEe9yt6L1prM",
        "QlHu0wxh1prP",
        "DfQPgu1Q1prS",
        "p_d5uuAY1prZ",
        "fdLNA0ce1prd"
      ]
    },
    "kernelspec": {
      "display_name": "Python 3",
      "language": "python",
      "name": "python3"
    },
    "language_info": {
      "codemirror_mode": {
        "name": "ipython",
        "version": 3
      },
      "file_extension": ".py",
      "mimetype": "text/x-python",
      "name": "python",
      "nbconvert_exporter": "python",
      "pygments_lexer": "ipython3",
      "version": "3.7.4"
    }
  },
  "cells": [
    {
      "cell_type": "markdown",
      "metadata": {
        "id": "OhtOdxzd1ppr"
      },
      "source": [
        "# Lab 4: Data Imputation using an Autoencoder\n",
        "\n",
        "**Deadline**: Thursday, Oct 29, 11:59pm\n",
        "\n",
        "**Late Penalty**: There is a penalty-free grace period of one hour past the deadline. Any work that is submitted between 1 hour and 24 hours past the deadline will receive a 20% grade deduction. No other late work is accepted. Quercus submission time will be used, not your local computer time. You can submit your labs as many times as you want before the deadline, so please submit often and early.\n",
        "\n",
        "**TA**: Chris Lucasius\n",
        "\n",
        "In this lab, you will build and train an autoencoder to impute (or \"fill in\") missing data. \n",
        "\n",
        "We will be using the\n",
        "Adult Data Set provided by the UCI Machine Learning Repository [1], available \n",
        "at https://archive.ics.uci.edu/ml/datasets/adult.\n",
        "The data set contains census record files of adults, including their\n",
        "age, martial status, the type of work they do, and other features. \n",
        "\n",
        "Normally, people use this data set to build a supervised classification\n",
        "model to classify whether a person is a high income earner.\n",
        "We will not use the dataset for this original intended purpose.\n",
        "\n",
        "Instead, we will perform the task of imputing (or \"filling in\") missing values in the dataset. For example,\n",
        "we may be missing one person's martial status, and another person's age, and\n",
        "a third person's level of education. Our model will predict the missing features \n",
        "based on the information that we do have about each person.\n",
        "\n",
        "We will use a variation of a denoising autoencoder to solve this data imputation\n",
        "problem. Our autoencoder will be trained using inputs that have one categorical feature artificially\n",
        "removed, and the goal of the autoencoder is to correctly reconstruct all features,\n",
        "including the one removed from the input.\n",
        "\n",
        "In the process, you are expected to learn to:\n",
        "\n",
        "1. Clean and process continuous and categorical data for machine learning.\n",
        "2. Implement an autoencoder that takes continuous and categorical (one-hot) inputs.\n",
        "3. Tune the hyperparameters of an autoencoder.\n",
        "4. Use baseline models to help interpret model performance.\n",
        "\n",
        "[1] Dua, D. and Karra Taniskidou, E. (2017). UCI Machine Learning Repository [http://archive.ics.uci.edu/ml]. Irvine, CA: University of California, School of Information and Computer Science.\n",
        "\n",
        "\n",
        "### What to submit\n",
        "\n",
        "Submit a PDF file containing all your code, outputs, and write-up. You can produce a PDF of your Google Colab file by going to File > Print and then save as PDF. The Colab instructions have more information (.html files are also acceptable).\n",
        "\n",
        "Do not submit any other files produced by your code.\n",
        "\n",
        "Include a link to your colab file in your submission.\n"
      ]
    },
    {
      "cell_type": "markdown",
      "metadata": {
        "id": "zbnrp2ig1pps"
      },
      "source": [
        "## Colab Link\n",
        "\n",
        "Include a link to your Colab file here. If you would like the TA to look at your\n",
        "Colab file in case your solutions are cut off, **please make sure that your Colab\n",
        "file is publicly accessible at the time of submission**.\n",
        "\n",
        "Colab Link: https://colab.research.google.com/drive/1-0g74jxRpWElQY8IqzRgUESkI_ZR6w5E?authuser=1\n"
      ]
    },
    {
      "cell_type": "code",
      "metadata": {
        "id": "z3p8N43E1ppt"
      },
      "source": [
        "import csv\n",
        "import numpy as np\n",
        "import random\n",
        "import torch\n",
        "import torch.utils.data"
      ],
      "execution_count": null,
      "outputs": []
    },
    {
      "cell_type": "markdown",
      "metadata": {
        "id": "8ROwtHcz1ppx"
      },
      "source": [
        "## Part 0\n",
        "\n",
        "We will be using a package called `pandas` for this assignment. \n",
        "\n",
        "If you are using Colab, `pandas` should already be available.\n",
        "If you are using your own computer,\n",
        "installation instructions for `pandas` are available here: \n",
        "https://pandas.pydata.org/pandas-docs/stable/install.html"
      ]
    },
    {
      "cell_type": "code",
      "metadata": {
        "id": "IXQ7BP151ppz"
      },
      "source": [
        "import pandas as pd"
      ],
      "execution_count": null,
      "outputs": []
    },
    {
      "cell_type": "markdown",
      "metadata": {
        "id": "hqXihb4Q1pp2"
      },
      "source": [
        "# Part 1. Data Cleaning [15 pt]\n",
        "\n",
        "The adult.data file is available at `https://archive.ics.uci.edu/ml/machine-learning-databases/adult/adult.data`\n",
        "\n",
        "The function `pd.read_csv` loads the adult.data file into a pandas dataframe.\n",
        "You can read about the pandas documentation for `pd.read_csv` at\n",
        "https://pandas.pydata.org/pandas-docs/stable/reference/api/pandas.read_csv.html"
      ]
    },
    {
      "cell_type": "code",
      "metadata": {
        "id": "EOMItFKn1pp3"
      },
      "source": [
        "header = ['age', 'work', 'fnlwgt', 'edu', 'yredu', 'marriage', 'occupation',\n",
        " 'relationship', 'race', 'sex', 'capgain', 'caploss', 'workhr', 'country']\n",
        "df = pd.read_csv(\n",
        "    \"https://archive.ics.uci.edu/ml/machine-learning-databases/adult/adult.data\",\n",
        "    names=header,\n",
        "    index_col=False)"
      ],
      "execution_count": null,
      "outputs": []
    },
    {
      "cell_type": "code",
      "metadata": {
        "id": "62Ot405q1pp5",
        "scrolled": true,
        "colab": {
          "base_uri": "https://localhost:8080/"
        },
        "outputId": "dc02cb44-ae08-41cc-9ef8-541589352263"
      },
      "source": [
        "df.shape # there are 32561 rows (records) in the data frame, and 14 columns (features)"
      ],
      "execution_count": null,
      "outputs": [
        {
          "output_type": "execute_result",
          "data": {
            "text/plain": [
              "(32561, 14)"
            ]
          },
          "metadata": {
            "tags": []
          },
          "execution_count": 4
        }
      ]
    },
    {
      "cell_type": "markdown",
      "metadata": {
        "id": "Tr7YG-QY1pp8"
      },
      "source": [
        "### Part (a) Continuous Features [3 pt]\n",
        "\n",
        "For each of the columns `[\"age\", \"yredu\", \"capgain\", \"caploss\", \"workhr\"]`, report the minimum, maximum, and average value across the dataset. \n",
        "\n",
        "Then, normalize each of the features `[\"age\", \"yredu\", \"capgain\", \"caploss\", \"workhr\"]`\n",
        "so that their values are always between 0 and 1.\n",
        "Make sure that you are actually modifying the dataframe `df`. \n",
        "\n",
        "Like numpy arrays and torch tensors, \n",
        "pandas data frames can be sliced. For example, we can\n",
        "display the first 3 rows of the data frame (3 records) below."
      ]
    },
    {
      "cell_type": "code",
      "metadata": {
        "id": "9evSLsSa1pp9",
        "scrolled": false,
        "colab": {
          "base_uri": "https://localhost:8080/",
          "height": 142
        },
        "outputId": "cca8d3a6-798e-4f79-cea5-8fd319f85180"
      },
      "source": [
        "df[:3] # show the first 3 records"
      ],
      "execution_count": null,
      "outputs": [
        {
          "output_type": "execute_result",
          "data": {
            "text/html": [
              "<div>\n",
              "<style scoped>\n",
              "    .dataframe tbody tr th:only-of-type {\n",
              "        vertical-align: middle;\n",
              "    }\n",
              "\n",
              "    .dataframe tbody tr th {\n",
              "        vertical-align: top;\n",
              "    }\n",
              "\n",
              "    .dataframe thead th {\n",
              "        text-align: right;\n",
              "    }\n",
              "</style>\n",
              "<table border=\"1\" class=\"dataframe\">\n",
              "  <thead>\n",
              "    <tr style=\"text-align: right;\">\n",
              "      <th></th>\n",
              "      <th>age</th>\n",
              "      <th>work</th>\n",
              "      <th>fnlwgt</th>\n",
              "      <th>edu</th>\n",
              "      <th>yredu</th>\n",
              "      <th>marriage</th>\n",
              "      <th>occupation</th>\n",
              "      <th>relationship</th>\n",
              "      <th>race</th>\n",
              "      <th>sex</th>\n",
              "      <th>capgain</th>\n",
              "      <th>caploss</th>\n",
              "      <th>workhr</th>\n",
              "      <th>country</th>\n",
              "    </tr>\n",
              "  </thead>\n",
              "  <tbody>\n",
              "    <tr>\n",
              "      <th>0</th>\n",
              "      <td>39</td>\n",
              "      <td>State-gov</td>\n",
              "      <td>77516</td>\n",
              "      <td>Bachelors</td>\n",
              "      <td>13</td>\n",
              "      <td>Never-married</td>\n",
              "      <td>Adm-clerical</td>\n",
              "      <td>Not-in-family</td>\n",
              "      <td>White</td>\n",
              "      <td>Male</td>\n",
              "      <td>2174</td>\n",
              "      <td>0</td>\n",
              "      <td>40</td>\n",
              "      <td>United-States</td>\n",
              "    </tr>\n",
              "    <tr>\n",
              "      <th>1</th>\n",
              "      <td>50</td>\n",
              "      <td>Self-emp-not-inc</td>\n",
              "      <td>83311</td>\n",
              "      <td>Bachelors</td>\n",
              "      <td>13</td>\n",
              "      <td>Married-civ-spouse</td>\n",
              "      <td>Exec-managerial</td>\n",
              "      <td>Husband</td>\n",
              "      <td>White</td>\n",
              "      <td>Male</td>\n",
              "      <td>0</td>\n",
              "      <td>0</td>\n",
              "      <td>13</td>\n",
              "      <td>United-States</td>\n",
              "    </tr>\n",
              "    <tr>\n",
              "      <th>2</th>\n",
              "      <td>38</td>\n",
              "      <td>Private</td>\n",
              "      <td>215646</td>\n",
              "      <td>HS-grad</td>\n",
              "      <td>9</td>\n",
              "      <td>Divorced</td>\n",
              "      <td>Handlers-cleaners</td>\n",
              "      <td>Not-in-family</td>\n",
              "      <td>White</td>\n",
              "      <td>Male</td>\n",
              "      <td>0</td>\n",
              "      <td>0</td>\n",
              "      <td>40</td>\n",
              "      <td>United-States</td>\n",
              "    </tr>\n",
              "  </tbody>\n",
              "</table>\n",
              "</div>"
            ],
            "text/plain": [
              "   age               work  fnlwgt  ... caploss  workhr         country\n",
              "0   39          State-gov   77516  ...       0      40   United-States\n",
              "1   50   Self-emp-not-inc   83311  ...       0      13   United-States\n",
              "2   38            Private  215646  ...       0      40   United-States\n",
              "\n",
              "[3 rows x 14 columns]"
            ]
          },
          "metadata": {
            "tags": []
          },
          "execution_count": 5
        }
      ]
    },
    {
      "cell_type": "markdown",
      "metadata": {
        "id": "gBOojI6W1pqA"
      },
      "source": [
        "Alternatively, we can slice based on column names, \n",
        "for example `df[\"race\"]`, `df[\"hr\"]`, or even index multiple columns \n",
        "like below."
      ]
    },
    {
      "cell_type": "code",
      "metadata": {
        "id": "4v6pp73A1pqB",
        "colab": {
          "base_uri": "https://localhost:8080/",
          "height": 142
        },
        "outputId": "5df27431-227c-4f98-e94e-430daa8c3647"
      },
      "source": [
        "subdf = df[[\"age\", \"yredu\", \"capgain\", \"caploss\", \"workhr\"]]\n",
        "subdf[:3] # show the first 3 records"
      ],
      "execution_count": null,
      "outputs": [
        {
          "output_type": "execute_result",
          "data": {
            "text/html": [
              "<div>\n",
              "<style scoped>\n",
              "    .dataframe tbody tr th:only-of-type {\n",
              "        vertical-align: middle;\n",
              "    }\n",
              "\n",
              "    .dataframe tbody tr th {\n",
              "        vertical-align: top;\n",
              "    }\n",
              "\n",
              "    .dataframe thead th {\n",
              "        text-align: right;\n",
              "    }\n",
              "</style>\n",
              "<table border=\"1\" class=\"dataframe\">\n",
              "  <thead>\n",
              "    <tr style=\"text-align: right;\">\n",
              "      <th></th>\n",
              "      <th>age</th>\n",
              "      <th>yredu</th>\n",
              "      <th>capgain</th>\n",
              "      <th>caploss</th>\n",
              "      <th>workhr</th>\n",
              "    </tr>\n",
              "  </thead>\n",
              "  <tbody>\n",
              "    <tr>\n",
              "      <th>0</th>\n",
              "      <td>39</td>\n",
              "      <td>13</td>\n",
              "      <td>2174</td>\n",
              "      <td>0</td>\n",
              "      <td>40</td>\n",
              "    </tr>\n",
              "    <tr>\n",
              "      <th>1</th>\n",
              "      <td>50</td>\n",
              "      <td>13</td>\n",
              "      <td>0</td>\n",
              "      <td>0</td>\n",
              "      <td>13</td>\n",
              "    </tr>\n",
              "    <tr>\n",
              "      <th>2</th>\n",
              "      <td>38</td>\n",
              "      <td>9</td>\n",
              "      <td>0</td>\n",
              "      <td>0</td>\n",
              "      <td>40</td>\n",
              "    </tr>\n",
              "  </tbody>\n",
              "</table>\n",
              "</div>"
            ],
            "text/plain": [
              "   age  yredu  capgain  caploss  workhr\n",
              "0   39     13     2174        0      40\n",
              "1   50     13        0        0      13\n",
              "2   38      9        0        0      40"
            ]
          },
          "metadata": {
            "tags": []
          },
          "execution_count": 6
        }
      ]
    },
    {
      "cell_type": "markdown",
      "metadata": {
        "id": "2Nru2P0E1pqD"
      },
      "source": [
        "Numpy works nicely with pandas, like below:"
      ]
    },
    {
      "cell_type": "code",
      "metadata": {
        "id": "JXrS6tjp1pqE",
        "colab": {
          "base_uri": "https://localhost:8080/"
        },
        "outputId": "3e7df5d3-39c0-45d3-d390-ddfb921be526"
      },
      "source": [
        "np.sum(subdf[\"caploss\"])"
      ],
      "execution_count": null,
      "outputs": [
        {
          "output_type": "execute_result",
          "data": {
            "text/plain": [
              "2842700"
            ]
          },
          "metadata": {
            "tags": []
          },
          "execution_count": 7
        }
      ]
    },
    {
      "cell_type": "markdown",
      "metadata": {
        "id": "Mv5mbxDM1pqH"
      },
      "source": [
        "Just like numpy arrays, you can modify\n",
        "entire columns of data rather than one scalar element at a time.\n",
        "For example, the code  \n",
        "\n",
        "`df[\"age\"] = df[\"age\"] + 1` \n",
        "\n",
        "would increment everyone's age by 1."
      ]
    },
    {
      "cell_type": "code",
      "metadata": {
        "id": "k5rlWD7-1pqH",
        "colab": {
          "base_uri": "https://localhost:8080/"
        },
        "outputId": "b7c187f4-72f9-4cf3-ba76-e4ba350a24e4"
      },
      "source": [
        "print(\"AGE\")\n",
        "print(\"max: %d\" % np.max(subdf[\"age\"]))\n",
        "print(\"min: %d\" % np.min(subdf[\"age\"]))\n",
        "print(\"avg: %.2f\" % np.average(subdf[\"age\"]))\n",
        "print(\" \")\n",
        "print(\"YREDU\")\n",
        "print(\"max: %d\" % np.max(subdf[\"yredu\"]))\n",
        "print(\"min: %d\" %np.min(subdf[\"yredu\"]))\n",
        "print(\"avg: %.2f\" % np.average(subdf[\"yredu\"]))\n",
        "print(\" \")\n",
        "print(\"CAPGAIN\")\n",
        "print(\"max: %d\" % np.max(subdf[\"capgain\"]))\n",
        "print(\"min: %d\" %np.min(subdf[\"capgain\"]))\n",
        "print(\"avg: %.2f\" % np.average(subdf[\"capgain\"]))\n",
        "print(\" \")\n",
        "print(\"CAPLOSS\")\n",
        "print(\"max: %d\" % np.max(subdf[\"caploss\"]))\n",
        "print(\"min: %d\" %np.min(subdf[\"caploss\"]))\n",
        "print(\"avg: %.2f\" % np.average(subdf[\"caploss\"]))\n",
        "print(\" \")\n",
        "print(\"WORKHR\")\n",
        "print(\"max: %d\" % np.max(subdf[\"workhr\"]))\n",
        "print(\"min: %d\" %np.min(subdf[\"workhr\"]))\n",
        "print(\"avg: %.2f\" % np.average(subdf[\"workhr\"]))"
      ],
      "execution_count": null,
      "outputs": [
        {
          "output_type": "stream",
          "text": [
            "AGE\n",
            "max: 90\n",
            "min: 17\n",
            "avg: 38.58\n",
            " \n",
            "YREDU\n",
            "max: 16\n",
            "min: 1\n",
            "avg: 10.08\n",
            " \n",
            "CAPGAIN\n",
            "max: 99999\n",
            "min: 0\n",
            "avg: 1077.65\n",
            " \n",
            "CAPLOSS\n",
            "max: 4356\n",
            "min: 0\n",
            "avg: 87.30\n",
            " \n",
            "WORKHR\n",
            "max: 99\n",
            "min: 1\n",
            "avg: 40.44\n"
          ],
          "name": "stdout"
        }
      ]
    },
    {
      "cell_type": "markdown",
      "metadata": {
        "id": "qbfMly4R1pqK"
      },
      "source": [
        "### Part (b) Categorical Features [1 pt]\n",
        "\n",
        "What percentage of people in our data set are male? Note that the data labels all have an unfortunate space in the beginning, e.g. \" Male\" instead of \"Male\".\n",
        "\n",
        "What percentage of people in our data set are female?"
      ]
    },
    {
      "cell_type": "code",
      "metadata": {
        "id": "DjAjcsB_1pqK",
        "colab": {
          "base_uri": "https://localhost:8080/"
        },
        "outputId": "a1a74f6a-b18a-48ea-8140-a2329d961d71"
      },
      "source": [
        "# hint: you can do something like this in pandas\n",
        "x = sum(df[\"sex\"] == \" Male\")\n",
        "y = sum(df[\"sex\"] == \" Female\")\n",
        "\n",
        "percentage = (y) / (x+y) \n",
        "print(percentage)\n",
        "\n",
        "# 33.08 % of the people in the dataset are female"
      ],
      "execution_count": null,
      "outputs": [
        {
          "output_type": "stream",
          "text": [
            "0.33079450876815825\n"
          ],
          "name": "stdout"
        }
      ]
    },
    {
      "cell_type": "markdown",
      "metadata": {
        "id": "eGVw7pqL1pqN"
      },
      "source": [
        "### Part (c) [2 pt]\n",
        "\n",
        "Before proceeding, we will modify our data frame in a couple more ways:\n",
        "\n",
        "1. We will restrict ourselves to using a subset of the features (to simplify our autoencoder)\n",
        "2. We will remove any records (rows) already containing missing values, and store them in a second dataframe. We will only use records without missing values to train our autoencoder.\n",
        "\n",
        "Both of these steps are done for you, below.\n",
        "\n",
        "How many records contained missing features? What percentage of records were removed?"
      ]
    },
    {
      "cell_type": "code",
      "metadata": {
        "id": "z6ewPUdv1pqO"
      },
      "source": [
        "contcols = [\"age\", \"yredu\", \"capgain\", \"caploss\", \"workhr\"]\n",
        "catcols = [\"work\", \"marriage\", \"occupation\", \"edu\", \"relationship\", \"sex\"]\n",
        "features = contcols + catcols\n",
        "df = df[features]"
      ],
      "execution_count": null,
      "outputs": []
    },
    {
      "cell_type": "code",
      "metadata": {
        "id": "fjdVll5a1pqQ"
      },
      "source": [
        "missing = pd.concat([df[c] == \" ?\" for c in catcols], axis=1).any(axis=1)\n",
        "df_with_missing = df[missing]\n",
        "df_not_missing = df[~missing]"
      ],
      "execution_count": null,
      "outputs": []
    },
    {
      "cell_type": "markdown",
      "metadata": {
        "id": "XuEpndTQ1pqU"
      },
      "source": [
        "### Part (d) One-Hot Encoding [1 pt]\n",
        "\n",
        "What are all the possible values of the feature \"work\" in `df_not_missing`? You may find the Python function `set` useful."
      ]
    },
    {
      "cell_type": "code",
      "metadata": {
        "id": "iKFh4owE1pqV",
        "colab": {
          "base_uri": "https://localhost:8080/"
        },
        "outputId": "ddbed4ea-c099-4793-fd2e-9d2b8594407a"
      },
      "source": [
        "set(df_not_missing)"
      ],
      "execution_count": null,
      "outputs": [
        {
          "output_type": "execute_result",
          "data": {
            "text/plain": [
              "{'age',\n",
              " 'capgain',\n",
              " 'caploss',\n",
              " 'edu',\n",
              " 'marriage',\n",
              " 'occupation',\n",
              " 'relationship',\n",
              " 'sex',\n",
              " 'work',\n",
              " 'workhr',\n",
              " 'yredu'}"
            ]
          },
          "metadata": {
            "tags": []
          },
          "execution_count": 12
        }
      ]
    },
    {
      "cell_type": "markdown",
      "metadata": {
        "id": "COv3HaKr1pqY"
      },
      "source": [
        "We will be using a one-hot encoding to represent each of the categorical variables.\n",
        "Our autoencoder will be trained using these one-hot encodings.\n",
        "\n",
        "We will use the pandas function `get_dummies` to produce one-hot encodings\n",
        "for all of the categorical variables in `df_not_missing`. "
      ]
    },
    {
      "cell_type": "code",
      "metadata": {
        "id": "eKlSYmJg1pqZ"
      },
      "source": [
        "data = pd.get_dummies(df_not_missing)"
      ],
      "execution_count": null,
      "outputs": []
    },
    {
      "cell_type": "code",
      "metadata": {
        "id": "3y7nTZ7H1pqb",
        "scrolled": true,
        "colab": {
          "base_uri": "https://localhost:8080/",
          "height": 230
        },
        "outputId": "12dadf2c-1421-4413-bb17-354cff277294"
      },
      "source": [
        "data[:3]"
      ],
      "execution_count": null,
      "outputs": [
        {
          "output_type": "execute_result",
          "data": {
            "text/html": [
              "<div>\n",
              "<style scoped>\n",
              "    .dataframe tbody tr th:only-of-type {\n",
              "        vertical-align: middle;\n",
              "    }\n",
              "\n",
              "    .dataframe tbody tr th {\n",
              "        vertical-align: top;\n",
              "    }\n",
              "\n",
              "    .dataframe thead th {\n",
              "        text-align: right;\n",
              "    }\n",
              "</style>\n",
              "<table border=\"1\" class=\"dataframe\">\n",
              "  <thead>\n",
              "    <tr style=\"text-align: right;\">\n",
              "      <th></th>\n",
              "      <th>age</th>\n",
              "      <th>yredu</th>\n",
              "      <th>capgain</th>\n",
              "      <th>caploss</th>\n",
              "      <th>workhr</th>\n",
              "      <th>work_ Federal-gov</th>\n",
              "      <th>work_ Local-gov</th>\n",
              "      <th>work_ Private</th>\n",
              "      <th>work_ Self-emp-inc</th>\n",
              "      <th>work_ Self-emp-not-inc</th>\n",
              "      <th>work_ State-gov</th>\n",
              "      <th>work_ Without-pay</th>\n",
              "      <th>marriage_ Divorced</th>\n",
              "      <th>marriage_ Married-AF-spouse</th>\n",
              "      <th>marriage_ Married-civ-spouse</th>\n",
              "      <th>marriage_ Married-spouse-absent</th>\n",
              "      <th>marriage_ Never-married</th>\n",
              "      <th>marriage_ Separated</th>\n",
              "      <th>marriage_ Widowed</th>\n",
              "      <th>occupation_ Adm-clerical</th>\n",
              "      <th>occupation_ Armed-Forces</th>\n",
              "      <th>occupation_ Craft-repair</th>\n",
              "      <th>occupation_ Exec-managerial</th>\n",
              "      <th>occupation_ Farming-fishing</th>\n",
              "      <th>occupation_ Handlers-cleaners</th>\n",
              "      <th>occupation_ Machine-op-inspct</th>\n",
              "      <th>occupation_ Other-service</th>\n",
              "      <th>occupation_ Priv-house-serv</th>\n",
              "      <th>occupation_ Prof-specialty</th>\n",
              "      <th>occupation_ Protective-serv</th>\n",
              "      <th>occupation_ Sales</th>\n",
              "      <th>occupation_ Tech-support</th>\n",
              "      <th>occupation_ Transport-moving</th>\n",
              "      <th>edu_ 10th</th>\n",
              "      <th>edu_ 11th</th>\n",
              "      <th>edu_ 12th</th>\n",
              "      <th>edu_ 1st-4th</th>\n",
              "      <th>edu_ 5th-6th</th>\n",
              "      <th>edu_ 7th-8th</th>\n",
              "      <th>edu_ 9th</th>\n",
              "      <th>edu_ Assoc-acdm</th>\n",
              "      <th>edu_ Assoc-voc</th>\n",
              "      <th>edu_ Bachelors</th>\n",
              "      <th>edu_ Doctorate</th>\n",
              "      <th>edu_ HS-grad</th>\n",
              "      <th>edu_ Masters</th>\n",
              "      <th>edu_ Preschool</th>\n",
              "      <th>edu_ Prof-school</th>\n",
              "      <th>edu_ Some-college</th>\n",
              "      <th>relationship_ Husband</th>\n",
              "      <th>relationship_ Not-in-family</th>\n",
              "      <th>relationship_ Other-relative</th>\n",
              "      <th>relationship_ Own-child</th>\n",
              "      <th>relationship_ Unmarried</th>\n",
              "      <th>relationship_ Wife</th>\n",
              "      <th>sex_ Female</th>\n",
              "      <th>sex_ Male</th>\n",
              "    </tr>\n",
              "  </thead>\n",
              "  <tbody>\n",
              "    <tr>\n",
              "      <th>0</th>\n",
              "      <td>39</td>\n",
              "      <td>13</td>\n",
              "      <td>2174</td>\n",
              "      <td>0</td>\n",
              "      <td>40</td>\n",
              "      <td>0</td>\n",
              "      <td>0</td>\n",
              "      <td>0</td>\n",
              "      <td>0</td>\n",
              "      <td>0</td>\n",
              "      <td>1</td>\n",
              "      <td>0</td>\n",
              "      <td>0</td>\n",
              "      <td>0</td>\n",
              "      <td>0</td>\n",
              "      <td>0</td>\n",
              "      <td>1</td>\n",
              "      <td>0</td>\n",
              "      <td>0</td>\n",
              "      <td>1</td>\n",
              "      <td>0</td>\n",
              "      <td>0</td>\n",
              "      <td>0</td>\n",
              "      <td>0</td>\n",
              "      <td>0</td>\n",
              "      <td>0</td>\n",
              "      <td>0</td>\n",
              "      <td>0</td>\n",
              "      <td>0</td>\n",
              "      <td>0</td>\n",
              "      <td>0</td>\n",
              "      <td>0</td>\n",
              "      <td>0</td>\n",
              "      <td>0</td>\n",
              "      <td>0</td>\n",
              "      <td>0</td>\n",
              "      <td>0</td>\n",
              "      <td>0</td>\n",
              "      <td>0</td>\n",
              "      <td>0</td>\n",
              "      <td>0</td>\n",
              "      <td>0</td>\n",
              "      <td>1</td>\n",
              "      <td>0</td>\n",
              "      <td>0</td>\n",
              "      <td>0</td>\n",
              "      <td>0</td>\n",
              "      <td>0</td>\n",
              "      <td>0</td>\n",
              "      <td>0</td>\n",
              "      <td>1</td>\n",
              "      <td>0</td>\n",
              "      <td>0</td>\n",
              "      <td>0</td>\n",
              "      <td>0</td>\n",
              "      <td>0</td>\n",
              "      <td>1</td>\n",
              "    </tr>\n",
              "    <tr>\n",
              "      <th>1</th>\n",
              "      <td>50</td>\n",
              "      <td>13</td>\n",
              "      <td>0</td>\n",
              "      <td>0</td>\n",
              "      <td>13</td>\n",
              "      <td>0</td>\n",
              "      <td>0</td>\n",
              "      <td>0</td>\n",
              "      <td>0</td>\n",
              "      <td>1</td>\n",
              "      <td>0</td>\n",
              "      <td>0</td>\n",
              "      <td>0</td>\n",
              "      <td>0</td>\n",
              "      <td>1</td>\n",
              "      <td>0</td>\n",
              "      <td>0</td>\n",
              "      <td>0</td>\n",
              "      <td>0</td>\n",
              "      <td>0</td>\n",
              "      <td>0</td>\n",
              "      <td>0</td>\n",
              "      <td>1</td>\n",
              "      <td>0</td>\n",
              "      <td>0</td>\n",
              "      <td>0</td>\n",
              "      <td>0</td>\n",
              "      <td>0</td>\n",
              "      <td>0</td>\n",
              "      <td>0</td>\n",
              "      <td>0</td>\n",
              "      <td>0</td>\n",
              "      <td>0</td>\n",
              "      <td>0</td>\n",
              "      <td>0</td>\n",
              "      <td>0</td>\n",
              "      <td>0</td>\n",
              "      <td>0</td>\n",
              "      <td>0</td>\n",
              "      <td>0</td>\n",
              "      <td>0</td>\n",
              "      <td>0</td>\n",
              "      <td>1</td>\n",
              "      <td>0</td>\n",
              "      <td>0</td>\n",
              "      <td>0</td>\n",
              "      <td>0</td>\n",
              "      <td>0</td>\n",
              "      <td>0</td>\n",
              "      <td>1</td>\n",
              "      <td>0</td>\n",
              "      <td>0</td>\n",
              "      <td>0</td>\n",
              "      <td>0</td>\n",
              "      <td>0</td>\n",
              "      <td>0</td>\n",
              "      <td>1</td>\n",
              "    </tr>\n",
              "    <tr>\n",
              "      <th>2</th>\n",
              "      <td>38</td>\n",
              "      <td>9</td>\n",
              "      <td>0</td>\n",
              "      <td>0</td>\n",
              "      <td>40</td>\n",
              "      <td>0</td>\n",
              "      <td>0</td>\n",
              "      <td>1</td>\n",
              "      <td>0</td>\n",
              "      <td>0</td>\n",
              "      <td>0</td>\n",
              "      <td>0</td>\n",
              "      <td>1</td>\n",
              "      <td>0</td>\n",
              "      <td>0</td>\n",
              "      <td>0</td>\n",
              "      <td>0</td>\n",
              "      <td>0</td>\n",
              "      <td>0</td>\n",
              "      <td>0</td>\n",
              "      <td>0</td>\n",
              "      <td>0</td>\n",
              "      <td>0</td>\n",
              "      <td>0</td>\n",
              "      <td>1</td>\n",
              "      <td>0</td>\n",
              "      <td>0</td>\n",
              "      <td>0</td>\n",
              "      <td>0</td>\n",
              "      <td>0</td>\n",
              "      <td>0</td>\n",
              "      <td>0</td>\n",
              "      <td>0</td>\n",
              "      <td>0</td>\n",
              "      <td>0</td>\n",
              "      <td>0</td>\n",
              "      <td>0</td>\n",
              "      <td>0</td>\n",
              "      <td>0</td>\n",
              "      <td>0</td>\n",
              "      <td>0</td>\n",
              "      <td>0</td>\n",
              "      <td>0</td>\n",
              "      <td>0</td>\n",
              "      <td>1</td>\n",
              "      <td>0</td>\n",
              "      <td>0</td>\n",
              "      <td>0</td>\n",
              "      <td>0</td>\n",
              "      <td>0</td>\n",
              "      <td>1</td>\n",
              "      <td>0</td>\n",
              "      <td>0</td>\n",
              "      <td>0</td>\n",
              "      <td>0</td>\n",
              "      <td>0</td>\n",
              "      <td>1</td>\n",
              "    </tr>\n",
              "  </tbody>\n",
              "</table>\n",
              "</div>"
            ],
            "text/plain": [
              "   age  yredu  capgain  ...  relationship_ Wife  sex_ Female  sex_ Male\n",
              "0   39     13     2174  ...                   0            0          1\n",
              "1   50     13        0  ...                   0            0          1\n",
              "2   38      9        0  ...                   0            0          1\n",
              "\n",
              "[3 rows x 57 columns]"
            ]
          },
          "metadata": {
            "tags": []
          },
          "execution_count": 14
        }
      ]
    },
    {
      "cell_type": "markdown",
      "metadata": {
        "id": "HwjDg1uM1pqe"
      },
      "source": [
        "### Part (e) One-Hot Encoding [2 pt]\n",
        "\n",
        "The dataframe `data` contains the cleaned and normalized data that we will use to train our denoising autoencoder.\n",
        "\n",
        "How many **columns** (features) are in the dataframe `data`?\n",
        "\n",
        "Briefly explain where that number come from."
      ]
    },
    {
      "cell_type": "code",
      "metadata": {
        "id": "yjZ5N0Tl1pqf",
        "colab": {
          "base_uri": "https://localhost:8080/"
        },
        "outputId": "92f8853c-9b94-4407-da10-86a11e36488e"
      },
      "source": [
        "len(data.columns)"
      ],
      "execution_count": null,
      "outputs": [
        {
          "output_type": "execute_result",
          "data": {
            "text/plain": [
              "57"
            ]
          },
          "metadata": {
            "tags": []
          },
          "execution_count": 15
        }
      ]
    },
    {
      "cell_type": "markdown",
      "metadata": {
        "id": "OEJ0Ci3l1pqh"
      },
      "source": [
        "### Part (f) One-Hot Conversion [3 pt]\n",
        "\n",
        "We will convert the pandas data frame `data` into numpy, so that\n",
        "it can be further converted into a PyTorch tensor.\n",
        "However, in doing so, we lose the column label information that\n",
        "a panda data frame automatically stores.\n",
        "\n",
        "Complete the function `get_categorical_value` that will return\n",
        "the named value of a feature given a one-hot embedding.\n",
        "You may find the global variables `cat_index` and `cat_values`\n",
        "useful. (Display them and figure out what they are first.)\n",
        "\n",
        "We will need this function in the next part of the lab\n",
        "to interpret our autoencoder outputs. So, the input\n",
        "to our function `get_categorical_values` might not \n",
        "actually be \"one-hot\" -- the input may instead \n",
        "contain real-valued predictions from our neural network."
      ]
    },
    {
      "cell_type": "code",
      "metadata": {
        "id": "ZmovX6gu1pqi"
      },
      "source": [
        "datanp = data.values.astype(np.float32)"
      ],
      "execution_count": null,
      "outputs": []
    },
    {
      "cell_type": "code",
      "metadata": {
        "id": "YRIa5MBd1pql"
      },
      "source": [
        "cat_index = {}  # Mapping of feature -> start index of feature in a record\n",
        "cat_values = {} # Mapping of feature -> list of categorical values the feature can take\n",
        "\n",
        "# build up the cat_index and cat_values dictionary\n",
        "for i, header in enumerate(data.keys()):\n",
        "    if \"_\" in header: # categorical header\n",
        "        feature, value = header.split()\n",
        "        feature = feature[:-1] # remove the last char; it is always an underscore\n",
        "        if feature not in cat_index:\n",
        "            cat_index[feature] = i\n",
        "            cat_values[feature] = [value]\n",
        "        else:\n",
        "            cat_values[feature].append(value)\n",
        "\n",
        "def get_onehot(record, feature):\n",
        "    \"\"\"\n",
        "    Return the portion of `record` that is the one-hot encoding\n",
        "    of `feature`. For example, since the feature \"work\" is stored\n",
        "    in the indices [5:12] in each record, calling `get_range(record, \"work\")`\n",
        "    is equivalent to accessing `record[5:12]`.\n",
        "    \n",
        "    Args:\n",
        "        - record: a numpy array representing one record, formatted\n",
        "                  the same way as a row in `data.np`\n",
        "        - feature: a string, should be an element of `catcols`\n",
        "    \"\"\"\n",
        "    start_index = cat_index[feature]\n",
        "    stop_index = cat_index[feature] + len(cat_values[feature])\n",
        "    return record[start_index:stop_index]\n",
        "\n",
        "def get_categorical_value(onehot, feature):\n",
        "    \"\"\"\n",
        "    Return the categorical value name of a feature given\n",
        "    a one-hot vector representing the feature.\n",
        "    \n",
        "    Args:\n",
        "        - onehot: a numpy array one-hot representation of the feature\n",
        "        - feature: a string, should be an element of `catcols`\n",
        "        \n",
        "    Examples:\n",
        "    \n",
        "    >>> get_categorical_value(np.array([0., 0., 0., 0., 0., 1., 0.]), \"work\")\n",
        "    'State-gov'\n",
        "    >>> get_categorical_value(np.array([0.1, 0., 1.1, 0.2, 0., 1., 0.]), \"work\")\n",
        "    'Private'\n",
        "    \"\"\"\n",
        "\n",
        "    ind = np.argmax(onehot)\n",
        "    values = cat_values[feature]\n",
        "    return values[ind]"
      ],
      "execution_count": null,
      "outputs": []
    },
    {
      "cell_type": "code",
      "metadata": {
        "id": "T_XXxZdh1pqv"
      },
      "source": [
        "# more useful code, used during training, that depends on the function\n",
        "# you write above\n",
        "\n",
        "def get_feature(record, feature):\n",
        "    \"\"\"\n",
        "    Return the categorical feature value of a record\n",
        "    \"\"\"\n",
        "    onehot = get_onehot(record, feature)\n",
        "    return get_categorical_value(onehot, feature)\n",
        "\n",
        "def get_features(record):\n",
        "    \"\"\"\n",
        "    Return a dictionary of all categorical feature values of a record\n",
        "    \"\"\"\n",
        "    return { f: get_feature(record, f) for f in catcols }"
      ],
      "execution_count": null,
      "outputs": []
    },
    {
      "cell_type": "markdown",
      "metadata": {
        "id": "1_5ZZR_J1pqy"
      },
      "source": [
        "### Part (g) Train/Test Split [3 pt]\n",
        "\n",
        "Randomly split the data into approximately 70% training, 15% validation and 15% test.\n",
        "\n",
        "Report the number of items in your training, validation, and test set."
      ]
    },
    {
      "cell_type": "code",
      "metadata": {
        "id": "TE_fTJJf1pqz",
        "colab": {
          "base_uri": "https://localhost:8080/"
        },
        "outputId": "b6966cc5-7ee7-4752-a574-87197c1fa132"
      },
      "source": [
        "# set the numpy seed for reproducibility\n",
        "# https://docs.scipy.org/doc/numpy/reference/generated/numpy.random.seed.html\n",
        "np.random.seed(50)\n",
        "np.random.shuffle(datanp)\n",
        "\n",
        "train_index = int(datanp.shape[0] * 0.7)\n",
        "val_index = int(datanp.shape[0] * 0.85)\n",
        "\n",
        "train_set = datanp[:train_index]\n",
        "val_set = datanp[train_index:val_index]\n",
        "test_set = datanp[val_index:]\n",
        "\n",
        "print(\"# Train Set: \" + str(train_set.shape[0]))\n",
        "print(\"# Test Set: \" + str(val_set.shape[0]))\n",
        "print(\"# Val Set: \" + str(test_set.shape[0]))"
      ],
      "execution_count": null,
      "outputs": [
        {
          "output_type": "stream",
          "text": [
            "# Train Set: 21502\n",
            "# Test Set: 4608\n",
            "# Val Set: 4608\n"
          ],
          "name": "stdout"
        }
      ]
    },
    {
      "cell_type": "markdown",
      "metadata": {
        "id": "h9wJAKOI1pq3"
      },
      "source": [
        "## Part 2. Model Setup [5 pt]\n",
        "\n",
        "### Part (a) [4 pt]\n",
        "\n",
        "Design a fully-connected autoencoder by modifying the `encoder` and `decoder`\n",
        "below.\n",
        "\n",
        "The input to this autoencoder will be the features of the `data`, with\n",
        "one categorical feature recorded as \"missing\". The output of the autoencoder\n",
        "should be the reconstruction of the same features, but with the missing\n",
        "value filled in.\n",
        "\n",
        "**Note**: Do not reduce the dimensionality of the input too much!\n",
        "The output of your embedding is expected to contain information \n",
        "about ~11 features."
      ]
    },
    {
      "cell_type": "code",
      "metadata": {
        "id": "f3F--tdn1pq3"
      },
      "source": [
        "from torch import nn\n",
        "\n",
        "class AutoEncoder(nn.Module):\n",
        "    def __init__(self):\n",
        "        super(AutoEncoder, self).__init__()\n",
        "        self.name = \"autoencoder\"\n",
        "        self.encoder = nn.Sequential(\n",
        "            nn.Linear(57, 57) # TODO -- FILL OUT THE CODE HERE!\n",
        "        )\n",
        "        self.decoder = nn.Sequential(\n",
        "            nn.Linear(57, 57), # TODO -- FILL OUT THE CODE HERE!\n",
        "            nn.Sigmoid() # get to the range (0, 1)\n",
        "        )\n",
        "\n",
        "    def forward(self, x):\n",
        "        x = self.encoder(x)\n",
        "        x = self.decoder(x)\n",
        "        return x"
      ],
      "execution_count": null,
      "outputs": []
    },
    {
      "cell_type": "markdown",
      "metadata": {
        "id": "kuEzTSAv1pq6"
      },
      "source": [
        "### Part (b) [1 pt]\n",
        "\n",
        "Explain why there is a sigmoid activation in the last step of the decoder.\n",
        "\n",
        "(**Note**: the values inside the data frame `data` and the training code in Part 3 might be helpful.)"
      ]
    },
    {
      "cell_type": "markdown",
      "metadata": {
        "id": "N9h3zhU3BtRr"
      },
      "source": [
        "We use a sigmoid activation as it allows us to normalize the output to values between 0 and 1, which will match the format of our input"
      ]
    },
    {
      "cell_type": "markdown",
      "metadata": {
        "id": "jYwqFWVl1pq8"
      },
      "source": [
        "## Part 3. Training [18] \n",
        "\n",
        "### Part (a) [6 pt]\n",
        "\n",
        "We will train our autoencoder in the following way:\n",
        "\n",
        "- In each iteration, we will hide one of the categorical features using the `zero_out_random_features` function\n",
        "- We will pass the data with one missing feature through the autoencoder, and obtain a reconstruction\n",
        "- We will check how close the reconstruction is compared to the original data -- including the value of the missing feature\n",
        "\n",
        "Complete the code to train the autoencoder, and plot the training and validation loss every few iterations.\n",
        "You may also want to plot training and validation \"accuracy\" every few iterations, as we will define in\n",
        "part (b). You may also want to checkpoint your model every few iterations or epochs.\n",
        "\n",
        "Use `nn.MSELoss()` as your loss function. (Side note: you might recognize that this loss function is not\n",
        "ideal for this problem, but we will use it anyway.)"
      ]
    },
    {
      "cell_type": "code",
      "metadata": {
        "id": "IDQA_-dS1pq9"
      },
      "source": [
        "def get_model_name(name, learning_rate, epoch):\n",
        "    \"\"\" Generate a name for the model consisting of all the hyperparameter values\n",
        "\n",
        "    Args:\n",
        "        config: Configuration object containing the hyperparameters\n",
        "    Returns:\n",
        "        path: A string with the hyperparameter name and value concatenated\n",
        "    \"\"\"\n",
        "    path = \"model_{0}_lr{1}_epoch{2}\".format(name,\n",
        "                                                   learning_rate,\n",
        "                                                   epoch)\n",
        "    return path\n",
        "\n",
        "def plot_training_curve(path):\n",
        "    \"\"\" Plots the training curve for a model run, given the csv files\n",
        "    containing the train/validation accuracy/loss.\n",
        "\n",
        "    Args:\n",
        "        path: The base path of the csv files produced during training\n",
        "    \"\"\"\n",
        "    import matplotlib.pyplot as plt\n",
        "    train_acc = np.loadtxt(\"{}_train_acc.csv\".format(path))\n",
        "    val_acc = np.loadtxt(\"{}_val_acc.csv\".format(path))\n",
        "    train_loss = np.loadtxt(\"{}_train_loss.csv\".format(path))\n",
        "    val_loss = np.loadtxt(\"{}_val_loss.csv\".format(path))\n",
        "    plt.title(\"Train vs Validation Accuracy\")\n",
        "    n = len(train_acc) # number of epochs\n",
        "    plt.plot(range(1,n+1), train_acc, label=\"Train\")\n",
        "    plt.plot(range(1,n+1), val_acc, label=\"Validation\")\n",
        "    plt.xlabel(\"Epoch\")\n",
        "    plt.ylabel(\"Accuracy\")\n",
        "    plt.legend(loc='best')\n",
        "    plt.show()\n",
        "\n",
        "def get_loss(model, data_loader, criterion):\n",
        "    total_loss = 0.0\n",
        "    for data in data_loader:\n",
        "        datam = zero_out_random_feature(data.clone()) # zero out one categorical feature\n",
        "        recon = model(datam)\n",
        "        loss = criterion(recon, data)\n",
        "        total_loss += loss.item()\n",
        "    loss = float(total_loss) / (len(data_loader))\n",
        "    return loss\n",
        "\n",
        "def zero_out_feature(records, feature):\n",
        "    \"\"\" Set the feature missing in records, by setting the appropriate\n",
        "    columns of records to 0\n",
        "    \"\"\"\n",
        "    start_index = cat_index[feature]\n",
        "    stop_index = cat_index[feature] + len(cat_values[feature])\n",
        "    records[:, start_index:stop_index] = 0\n",
        "    return records\n",
        "\n",
        "def zero_out_random_feature(records):\n",
        "    \"\"\" Set one random feature missing in records, by setting the \n",
        "    appropriate columns of records to 0\n",
        "    \"\"\"\n",
        "    return zero_out_feature(records, random.choice(catcols))\n",
        "\n",
        "def train(model, train_loader, val_loader, num_epochs=5, learning_rate=1e-4):\n",
        "    \"\"\" Training loop. You should update this.\"\"\"\n",
        "    torch.manual_seed(42)\n",
        "    criterion = nn.MSELoss()\n",
        "    optimizer = torch.optim.Adam(model.parameters(), lr=learning_rate)\n",
        "\n",
        "    train_acc = np.zeros(num_epochs)\n",
        "    train_loss = np.zeros(num_epochs)\n",
        "    val_acc = np.zeros(num_epochs)\n",
        "    val_loss = np.zeros(num_epochs)\n",
        "\n",
        "    for epoch in range(num_epochs):\n",
        "        total_train_loss = 0.0\n",
        "        for data in train_loader:\n",
        "            datam = zero_out_random_feature(data.clone()) # zero out one categorical feature\n",
        "            recon = model(datam)\n",
        "            loss = criterion(recon, data)\n",
        "            loss.backward()\n",
        "            optimizer.step()\n",
        "            optimizer.zero_grad()\n",
        "            total_train_loss += loss.item()\n",
        "\n",
        "        train_acc[epoch] = get_accuracy(model, train_loader)\n",
        "        train_loss[epoch] = float(total_train_loss) / (len(train_loader))\n",
        "        val_acc[epoch] = get_accuracy(model, val_loader)\n",
        "        val_loss[epoch] = get_loss(model, val_loader, criterion)\n",
        "\n",
        "        print((\"Epoch {}: Train err: {}, Train loss: {} |\"+\n",
        "               \"Validation err: {}, Validation loss: {}\").format(\n",
        "                   epoch + 1,\n",
        "                   train_acc[epoch],\n",
        "                   train_loss[epoch],\n",
        "                   val_acc[epoch],\n",
        "                   val_loss[epoch]))\n",
        "        # Save the current model (checkpoint) to a file\n",
        "        model_path = get_model_name(model.name, learning_rate, epoch)\n",
        "        torch.save(model.state_dict(), model_path)\n",
        "    \n",
        "    print('Finished Training')\n",
        "    # Write the train/test loss/err into CSV file for plotting later\n",
        "    epochs = np.arange(1, num_epochs + 1)\n",
        "    np.savetxt(\"{}_train_acc.csv\".format(model_path), train_acc)\n",
        "    np.savetxt(\"{}_train_loss.csv\".format(model_path), train_loss)\n",
        "    np.savetxt(\"{}_val_acc.csv\".format(model_path), val_acc)\n",
        "    np.savetxt(\"{}_val_loss.csv\".format(model_path), val_loss)\n",
        "    plot_training_curve(model_path)"
      ],
      "execution_count": null,
      "outputs": []
    },
    {
      "cell_type": "markdown",
      "metadata": {
        "id": "WKk01pwx1pq_"
      },
      "source": [
        "### Part (b) [3 pt]\n",
        "\n",
        "While plotting training and validation loss is valuable, loss values are harder to compare\n",
        "than accuracy percentages. It would be nice to have a measure of \"accuracy\" in this problem.\n",
        "\n",
        "Since we will only be imputing missing categorical values, we will define an accuracy measure.\n",
        "For each record and for each categorical feature, we determine whether\n",
        "the model can predict the categorical feature given all the other features of the record.\n",
        "\n",
        "A function `get_accuracy` is written for you. It is up to you to figure out how to\n",
        "use the function. **You don't need to submit anything in this part.**\n",
        "To earn the marks, correctly plot the training and validation accuracy every few \n",
        "iterations as part of your training curve."
      ]
    },
    {
      "cell_type": "code",
      "metadata": {
        "id": "bHWLfCzM1pq_"
      },
      "source": [
        "def get_accuracy(model, data_loader):\n",
        "    \"\"\"Return the \"accuracy\" of the autoencoder model across a data set.\n",
        "    That is, for each record and for each categorical feature, \n",
        "    we determine whether the model can successfully predict the value\n",
        "    of the categorical feature given all the other features of the \n",
        "    record. The returned \"accuracy\" measure is the percentage of times \n",
        "    that our model is successful.\n",
        "        \n",
        "    Args:\n",
        "       - model: the autoencoder model, an instance of nn.Module\n",
        "       - data_loader: an instance of torch.utils.data.DataLoader\n",
        "\n",
        "    Example (to illustrate how get_accuracy is intended to be called.\n",
        "             Depending on your variable naming this code might require\n",
        "             modification.)\n",
        "\n",
        "        >>> model = AutoEncoder()\n",
        "        >>> vdl = torch.utils.data.DataLoader(data_valid, batch_size=256, shuffle=True)\n",
        "        >>> get_accuracy(model, vdl)\n",
        "    \"\"\"\n",
        "    total = 0\n",
        "    acc = 0\n",
        "    for col in catcols:\n",
        "        for item in data_loader: # minibatches\n",
        "            inp = item.detach().numpy()\n",
        "            out = model(zero_out_feature(item.clone(), col)).detach().numpy()\n",
        "            for i in range(out.shape[0]): # record in minibatch\n",
        "                acc += int(get_feature(out[i], col) == get_feature(inp[i], col))\n",
        "                total += 1\n",
        "    return acc / total"
      ],
      "execution_count": null,
      "outputs": []
    },
    {
      "cell_type": "markdown",
      "metadata": {
        "id": "SxCTlXoV1prB"
      },
      "source": [
        "### Part (c) [4 pt]\n",
        "\n",
        "Run your updated training code, using reasonable initial hyperparameters.\n",
        "\n",
        "Include your training curve in your submission."
      ]
    },
    {
      "cell_type": "code",
      "metadata": {
        "id": "nj5b71l-1prC"
      },
      "source": [
        "batch_size=64\n",
        "train_loader = torch.utils.data.DataLoader(train_set, batch_size=batch_size, num_workers=1)\n",
        "val_loader = torch.utils.data.DataLoader(val_set, batch_size=batch_size, num_workers=1)\n",
        "test_loader = torch.utils.data.DataLoader(test_set, batch_size=batch_size, num_workers=1)"
      ],
      "execution_count": null,
      "outputs": []
    },
    {
      "cell_type": "code",
      "metadata": {
        "id": "rnT1Td2hHUxP",
        "colab": {
          "base_uri": "https://localhost:8080/",
          "height": 822
        },
        "outputId": "75511521-fbb5-4357-ec27-b0f8daeb2a53"
      },
      "source": [
        "autoencoder = AutoEncoder()\n",
        "train(autoencoder, train_loader, val_loader, num_epochs=30, learning_rate=0.0001)"
      ],
      "execution_count": null,
      "outputs": [
        {
          "output_type": "stream",
          "text": [
            "Epoch 1: Train err: 0.4189687780981614, Train loss: 1019046.1291147867 |Validation err: 0.419921875, Validation loss: 1060491.9759080675\n",
            "Epoch 2: Train err: 0.43608346510402135, Train loss: 1019045.9415537516 |Validation err: 0.43797019675925924, Validation loss: 1060491.9601135254\n",
            "Epoch 3: Train err: 0.4473614857532633, Train loss: 1019010.4902452742 |Validation err: 0.4478804976851852, Validation loss: 1060450.169696384\n",
            "Epoch 4: Train err: 0.4574380677766409, Train loss: 1019003.3001207624 |Validation err: 0.45677806712962965, Validation loss: 1060450.1680704753\n",
            "Epoch 5: Train err: 0.46765417170495766, Train loss: 1019003.2962246849 |Validation err: 0.46824363425925924, Validation loss: 1060450.1640692817\n",
            "Epoch 6: Train err: 0.4755294081170744, Train loss: 1019003.2928633917 |Validation err: 0.4774305555555556, Validation loss: 1060450.1612481012\n",
            "Epoch 7: Train err: 0.49210926115400117, Train loss: 1019003.2893102737 |Validation err: 0.49406828703703703, Validation loss: 1060450.1512993707\n",
            "Epoch 8: Train err: 0.5034802964065358, Train loss: 1019003.2832765125 |Validation err: 0.5064742476851852, Validation loss: 1060450.150076972\n",
            "Epoch 9: Train err: 0.5123399373701671, Train loss: 1019003.2827780588 |Validation err: 0.5146846064814815, Validation loss: 1060450.14571974\n",
            "Epoch 10: Train err: 0.5189672278547732, Train loss: 1019003.2772572836 |Validation err: 0.5235098379629629, Validation loss: 1060450.1441938612\n",
            "Epoch 11: Train err: 0.5253619818311475, Train loss: 1019003.2738095238 |Validation err: 0.5283203125, Validation loss: 1060450.1376190186\n",
            "Epoch 12: Train err: 0.5305320435308344, Train loss: 1019003.2708987282 |Validation err: 0.5331669560185185, Validation loss: 1060450.140024821\n",
            "Epoch 13: Train err: 0.5352602858648808, Train loss: 1019003.2660638718 |Validation err: 0.5367115162037037, Validation loss: 1060450.1337754992\n",
            "Epoch 14: Train err: 0.5397172356059902, Train loss: 1019003.2633666992 |Validation err: 0.5408709490740741, Validation loss: 1060450.1274227565\n",
            "Epoch 15: Train err: 0.5442516975165101, Train loss: 1019003.2610698881 |Validation err: 0.5451388888888888, Validation loss: 1060450.1297403972\n",
            "Epoch 16: Train err: 0.5481428084209221, Train loss: 1019003.257009597 |Validation err: 0.5490089699074074, Validation loss: 1060450.1236419678\n",
            "Epoch 17: Train err: 0.5525765045112082, Train loss: 1019003.2554917109 |Validation err: 0.5541449652777778, Validation loss: 1060450.1196102565\n",
            "Epoch 18: Train err: 0.5544367965770626, Train loss: 1019003.2536308651 |Validation err: 0.5558449074074074, Validation loss: 1060450.1193067762\n",
            "Epoch 19: Train err: 0.5598238923510991, Train loss: 1019003.2526375906 |Validation err: 0.5620298032407407, Validation loss: 1060450.1182284886\n",
            "Epoch 20: Train err: 0.5630949059002264, Train loss: 1019003.2517024449 |Validation err: 0.5650318287037037, Validation loss: 1060450.1177690295\n",
            "Epoch 21: Train err: 0.568109943261092, Train loss: 1019003.2316923595 |Validation err: 0.5688657407407407, Validation loss: 1060449.9937608507\n",
            "Epoch 22: Train err: 0.5723343564939696, Train loss: 1019003.1229175386 |Validation err: 0.5723017939814815, Validation loss: 1060449.9921858045\n",
            "Epoch 23: Train err: 0.5733962732148947, Train loss: 1019003.120623634 |Validation err: 0.5739655671296297, Validation loss: 1060449.9905582005\n",
            "Epoch 24: Train err: 0.5795042321644498, Train loss: 1019003.1188790457 |Validation err: 0.5777633101851852, Validation loss: 1060449.9897732204\n",
            "Epoch 25: Train err: 0.581209499891483, Train loss: 1019003.1153964088 |Validation err: 0.5804759837962963, Validation loss: 1060449.9810740154\n",
            "Epoch 26: Train err: 0.580690168356432, Train loss: 1019003.1132710775 |Validation err: 0.5792462384259259, Validation loss: 1060449.9807603625\n",
            "Epoch 27: Train err: 0.5826667286764022, Train loss: 1019003.1128663563 |Validation err: 0.5815972222222222, Validation loss: 1060449.976489597\n",
            "Epoch 28: Train err: 0.5841084550274394, Train loss: 1019003.1112772623 |Validation err: 0.5828631365740741, Validation loss: 1060449.9785630968\n",
            "Epoch 29: Train err: 0.5844417573559049, Train loss: 1019003.1107126871 |Validation err: 0.5836950231481481, Validation loss: 1060449.9747755262\n",
            "Epoch 30: Train err: 0.5864803274114035, Train loss: 1019003.1107083275 |Validation err: 0.5866608796296297, Validation loss: 1060449.97315979\n",
            "Finished Training\n"
          ],
          "name": "stdout"
        },
        {
          "output_type": "display_data",
          "data": {
            "image/png": "[encoded data removed]",
            "text/plain": [
              "<Figure size 432x288 with 1 Axes>"
            ]
          },
          "metadata": {
            "tags": [],
            "needs_background": "light"
          }
        }
      ]
    },
    {
      "cell_type": "markdown",
      "metadata": {
        "id": "h9xTwIf51prF"
      },
      "source": [
        "### Part (d) [5 pt]\n",
        "\n",
        "Tune your hyperparameters, training at least 4 different models (4 sets of hyperparameters).\n",
        "\n",
        "Do not include all your training curves. Instead, explain what hyperparameters\n",
        "you tried, what their effect was, and what your thought process was as you \n",
        "chose the next set of hyperparameters to try."
      ]
    },
    {
      "cell_type": "code",
      "metadata": {
        "id": "PhTKt9iL1prG",
        "colab": {
          "base_uri": "https://localhost:8080/",
          "height": 992
        },
        "outputId": "e7abd173-96ac-4c29-ab17-321f043e552e"
      },
      "source": [
        "autoencoder = AutoEncoder()\n",
        "train(autoencoder, train_loader, val_loader, num_epochs=40, learning_rate=0.001)"
      ],
      "execution_count": null,
      "outputs": [
        {
          "output_type": "stream",
          "text": [
            "Epoch 1: Train err: 0.5175797600223235, Train loss: 1019004.1378144764 |Validation err: 0.5205801504629629, Validation loss: 1060450.128797743\n",
            "Epoch 2: Train err: 0.5566768982730289, Train loss: 1019003.2597082229 |Validation err: 0.5604021990740741, Validation loss: 1060450.1026034886\n",
            "Epoch 3: Train err: 0.5885886584193718, Train loss: 1019003.2448047457 |Validation err: 0.5905671296296297, Validation loss: 1060450.088148329\n",
            "Epoch 4: Train err: 0.5977660992775866, Train loss: 1019003.2325628372 |Validation err: 0.5973307291666666, Validation loss: 1060450.0825330946\n",
            "Epoch 5: Train err: 0.6058506185471119, Train loss: 1019003.226432437 |Validation err: 0.6040581597222222, Validation loss: 1060450.0784657795\n",
            "Epoch 6: Train err: 0.6096022075465848, Train loss: 1019003.2237345377 |Validation err: 0.6094473379629629, Validation loss: 1060450.0774315728\n",
            "Epoch 7: Train err: 0.6095091929432921, Train loss: 1019003.2217072987 |Validation err: 0.6070963541666666, Validation loss: 1060450.076602512\n",
            "Epoch 8: Train err: 0.6147567668123896, Train loss: 1019003.2038283575 |Validation err: 0.6104239004629629, Validation loss: 1060449.9516821967\n",
            "Epoch 9: Train err: 0.6105090999286888, Train loss: 1019003.0837467739 |Validation err: 0.6081090856481481, Validation loss: 1060449.9510735406\n",
            "Epoch 10: Train err: 0.6166015564443618, Train loss: 1019003.0808933803 |Validation err: 0.6144024884259259, Validation loss: 1060449.950088501\n",
            "Epoch 11: Train err: 0.617415434223173, Train loss: 1019003.0809224447 |Validation err: 0.6161747685185185, Validation loss: 1060449.9510531956\n",
            "Epoch 12: Train err: 0.6225002325365082, Train loss: 1019003.0808149065 |Validation err: 0.6218532986111112, Validation loss: 1060449.9488898383\n",
            "Epoch 13: Train err: 0.6175084488264657, Train loss: 1019003.0793289911 |Validation err: 0.6155598958333334, Validation loss: 1060449.9486762153\n",
            "Epoch 14: Train err: 0.6265618702136235, Train loss: 1019003.0795891171 |Validation err: 0.6265552662037037, Validation loss: 1060449.9496086969\n",
            "Epoch 15: Train err: 0.6241434905280129, Train loss: 1019003.0791473389 |Validation err: 0.6211299189814815, Validation loss: 1060449.949669732\n",
            "Epoch 16: Train err: 0.6293600595293461, Train loss: 1019003.0792556036 |Validation err: 0.6267722800925926, Validation loss: 1060449.949081421\n",
            "Epoch 17: Train err: 0.6220506619539268, Train loss: 1019003.0791357132 |Validation err: 0.6214192708333334, Validation loss: 1060449.9489864772\n",
            "Epoch 18: Train err: 0.6280578550832481, Train loss: 1019003.0788436163 |Validation err: 0.6276041666666666, Validation loss: 1060449.9490119086\n",
            "Epoch 19: Train err: 0.6080132080736675, Train loss: 1019003.079531715 |Validation err: 0.6047092013888888, Validation loss: 1060449.9498121473\n",
            "Epoch 20: Train err: 0.6286624500046507, Train loss: 1019003.0797068278 |Validation err: 0.6251446759259259, Validation loss: 1060449.949081421\n",
            "Epoch 21: Train err: 0.628313645242303, Train loss: 1019003.0793725876 |Validation err: 0.6268446180555556, Validation loss: 1060449.948671129\n",
            "Epoch 22: Train err: 0.6334759557250488, Train loss: 1019003.0800432478 |Validation err: 0.6320529513888888, Validation loss: 1060449.9490712483\n",
            "Epoch 23: Train err: 0.6290112547669984, Train loss: 1019003.0799059187 |Validation err: 0.6278211805555556, Validation loss: 1060449.9487287733\n",
            "Epoch 24: Train err: 0.630770781012619, Train loss: 1019003.0787731352 |Validation err: 0.6282913773148148, Validation loss: 1060449.948296441\n",
            "Epoch 25: Train err: 0.6251046414287043, Train loss: 1019003.0790528797 |Validation err: 0.6226490162037037, Validation loss: 1060449.947977702\n",
            "Epoch 26: Train err: 0.6295615911698137, Train loss: 1019003.0796276274 |Validation err: 0.6283637152777778, Validation loss: 1060449.9482286242\n",
            "Epoch 27: Train err: 0.6283368988931263, Train loss: 1019003.0788225447 |Validation err: 0.6266999421296297, Validation loss: 1060449.9488932292\n",
            "Epoch 28: Train err: 0.6229963104207361, Train loss: 1019003.0786336263 |Validation err: 0.6202618634259259, Validation loss: 1060449.9486779107\n",
            "Epoch 29: Train err: 0.6292127864074659, Train loss: 1019003.0788232712 |Validation err: 0.6268084490740741, Validation loss: 1060449.9482913548\n",
            "Epoch 30: Train err: 0.6117260409884352, Train loss: 1019003.0799749466 |Validation err: 0.6090494791666666, Validation loss: 1060449.9510582818\n",
            "Epoch 31: Train err: 0.6215933401544043, Train loss: 1019003.0815095447 |Validation err: 0.6218894675925926, Validation loss: 1060449.9549340142\n",
            "Epoch 32: Train err: 0.6186711313676247, Train loss: 1019003.0819869268 |Validation err: 0.6174045138888888, Validation loss: 1060449.951115926\n",
            "Epoch 33: Train err: 0.6264611043933898, Train loss: 1019003.0843287876 |Validation err: 0.6268084490740741, Validation loss: 1060449.9553087023\n",
            "Epoch 34: Train err: 0.6177487365516386, Train loss: 1019003.0820159912 |Validation err: 0.6160662615740741, Validation loss: 1060449.9530147975\n",
            "Epoch 35: Train err: 0.6227870275633275, Train loss: 1019003.0790703183 |Validation err: 0.6224681712962963, Validation loss: 1060449.9509090846\n",
            "Epoch 36: Train err: 0.6253371779369361, Train loss: 1019003.0799662272 |Validation err: 0.6236979166666666, Validation loss: 1060449.9497867161\n",
            "Epoch 37: Train err: 0.6233683688339069, Train loss: 1019003.0803302584 |Validation err: 0.6203342013888888, Validation loss: 1060449.9500749377\n",
            "Epoch 38: Train err: 0.6204694136979506, Train loss: 1019003.0798506964 |Validation err: 0.6191767939814815, Validation loss: 1060449.9498816596\n",
            "Epoch 39: Train err: 0.6281043623848944, Train loss: 1019003.0806223551 |Validation err: 0.6241319444444444, Validation loss: 1060449.9498986138\n",
            "Epoch 40: Train err: 0.6227715251294453, Train loss: 1019003.0793217251 |Validation err: 0.6202980324074074, Validation loss: 1060449.9496290418\n",
            "Finished Training\n"
          ],
          "name": "stdout"
        },
        {
          "output_type": "display_data",
          "data": {
            "image/png": "[encoded data removed]",
            "text/plain": [
              "<Figure size 432x288 with 1 Axes>"
            ]
          },
          "metadata": {
            "tags": [],
            "needs_background": "light"
          }
        }
      ]
    },
    {
      "cell_type": "markdown",
      "metadata": {
        "id": "wze3Ss9KTZUG"
      },
      "source": [
        "The following four models were tried with tuned hyperparameters:\n",
        "\n",
        "\n",
        "\n",
        "1. **train(autoencoder, train_loader, val_loader, num_epochs=30, learning_rate=1e-3), bs=64** :\n",
        "The learning rate was increased to try to converge the training rate faster. This did not occur, so changing the batch size and number of epochs was tried instead.\n",
        "2.**train(autoencoder, train_loader, val_loader, num_epochs=40, learning_rate=1e-3), bs=64** :\n",
        "A slight improvement in the accuracy was found when increasing the number of epochs. This was tried after with other changes to see if the two together had better improvements.\n",
        "3. **train(autoencoder, train_loader, val_loader, num_epochs=30, learning_rate=1e-3), bs=128** :\n",
        "Doubling the batch size saw little to no improvements, the results were relatively the same.\n",
        "4. **train(autoencoder, train_loader, val_loader, num_epochs=30, learning_rate=1e-2), bs=64** :\n",
        "Learning rate was increased again, even more, but no improvement in the training results were found.\n",
        "\n",
        "After analysizing all four of the changes, the following model, the second one with increased epochs was found to have the best results, so this was chosen."
      ]
    },
    {
      "cell_type": "markdown",
      "metadata": {
        "id": "ymCsZH291prI"
      },
      "source": [
        "## Part 4. Testing [12 pt]\n",
        "\n",
        "### Part (a) [2 pt]\n",
        "\n",
        "Compute and report the test accuracy."
      ]
    },
    {
      "cell_type": "code",
      "metadata": {
        "id": "0OkSbup91prJ",
        "colab": {
          "base_uri": "https://localhost:8080/"
        },
        "outputId": "6577774c-8fae-461f-a2f9-1b0bef83220c"
      },
      "source": [
        "model = get_model_name(\"autoencoder\", learning_rate=0.001, epoch=32)\n",
        "state = torch.load(model)\n",
        "autoencoder.load_state_dict(state)\n",
        "test_acc = get_accuracy(autoencoder, test_loader)\n",
        "print(test_acc)"
      ],
      "execution_count": null,
      "outputs": [
        {
          "output_type": "stream",
          "text": [
            "0.6253616898148148\n"
          ],
          "name": "stdout"
        }
      ]
    },
    {
      "cell_type": "markdown",
      "metadata": {
        "id": "UEe9yt6L1prM"
      },
      "source": [
        "### Part (b) [4 pt]\n",
        "\n",
        "Based on the test accuracy alone, it is difficult to assess whether our model\n",
        "is actually performing well. We don't know whether a high accuracy is due to\n",
        "the simplicity of the problem, or if a poor accuracy is a result of the inherent\n",
        "difficulty of the problem.\n",
        "\n",
        "It is therefore very important to be able to compare our model to at least one\n",
        "alternative. In particular, we consider a simple **baseline**\n",
        "model that is not very computationally expensive. Our neural network\n",
        "should at least outperform this baseline model. If our network is not much\n",
        "better than the baseline, then it is not doing well.\n",
        "\n",
        "For our data imputation problem, consider the following baseline model:\n",
        "to predict a missing feature, the baseline model will look at the **most common value** of the feature in the training set. \n",
        "\n",
        "For example, if the feature \"marriage\" is missing, then this model's prediction will be the most common value for \"marriage\" in the training set, which happens to be \"Married-civ-spouse\".\n",
        "\n",
        "What would be the test accuracy of this baseline model?\n"
      ]
    },
    {
      "cell_type": "code",
      "metadata": {
        "id": "p45VHp011prN",
        "colab": {
          "base_uri": "https://localhost:8080/"
        },
        "outputId": "3fcc8117-1495-4340-d8b0-a27846904abd"
      },
      "source": [
        "most_common = get_features(train_set.sum(axis = 0))\n",
        "\n",
        "print('The most common values of each feature in train_set is: \\n', most_common)\n",
        "\n",
        "correct = 0.0\n",
        "for record in test_set:\n",
        "    test_values = get_features(record)\n",
        "    for feature in most_common:\n",
        "        if most_common[feature] == test_values[feature]:\n",
        "            correct += 1\n",
        "\n",
        "accuracy = correct / (len(test_set) * len(catcols))\n",
        "print(\"The accuracy of this model is\", round(accuracy * 100, 2) , \"%\")\n",
        "\n",
        "# The test accuracy of this baseline model is "
      ],
      "execution_count": null,
      "outputs": [
        {
          "output_type": "stream",
          "text": [
            "The most common values of each feature in train_set is: \n",
            " {'work': 'Private', 'marriage': 'Married-civ-spouse', 'occupation': 'Prof-specialty', 'edu': 'HS-grad', 'relationship': 'Husband', 'sex': 'Male'}\n",
            "The accuracy of this model is 45.69 %\n"
          ],
          "name": "stdout"
        }
      ]
    },
    {
      "cell_type": "markdown",
      "metadata": {
        "id": "QlHu0wxh1prP"
      },
      "source": [
        "### Part (c) [1 pt]\n",
        "\n",
        "How does your test accuracy from part (a) compared to your basline test accuracy in part (b)?"
      ]
    },
    {
      "cell_type": "markdown",
      "metadata": {
        "id": "a0CviSkWVhMr"
      },
      "source": [
        "The test accuracy was **62.5%** compared with the baseline accuracy of **45.7%**."
      ]
    },
    {
      "cell_type": "markdown",
      "metadata": {
        "id": "DfQPgu1Q1prS"
      },
      "source": [
        "### Part (d) [1 pt]\n",
        "\n",
        "Look at the first item in your test data. \n",
        "Do you think it is reasonable for a human\n",
        "to be able to guess this person's education level\n",
        "based on their other features? Explain."
      ]
    },
    {
      "cell_type": "markdown",
      "metadata": {
        "id": "kgw_-HANVxvc"
      },
      "source": [
        "I think it would be quite difficult to guess the person's education level without the other features. Yes, we could make an educated guess, but quite often there may not be a correlation. For example, someone may have received PhD in Quantum Physics, but decided to become a hairdresser instead. If we are given that this person is a hairdresser, we are unlikely to guess that he/she is a PhD graduate."
      ]
    },
    {
      "cell_type": "markdown",
      "metadata": {
        "id": "p_d5uuAY1prZ"
      },
      "source": [
        "### Part (e) [2 pt]\n",
        "\n",
        "What is your model's prediction of this person's education\n",
        "level, given their other features?\n"
      ]
    },
    {
      "cell_type": "code",
      "metadata": {
        "id": "kBY5gKXR1pra",
        "colab": {
          "base_uri": "https://localhost:8080/"
        },
        "outputId": "bcfd8024-31a3-4417-d5ad-b2665819f57d"
      },
      "source": [
        "out = autoencoder(zero_out_feature(torch.tensor(test_set[0]).view(1,57), \"edu\")).detach().numpy()\n",
        "print(get_feature(out[0],\"edu\"))"
      ],
      "execution_count": null,
      "outputs": [
        {
          "output_type": "stream",
          "text": [
            "Some-college\n"
          ],
          "name": "stdout"
        }
      ]
    },
    {
      "cell_type": "markdown",
      "metadata": {
        "id": "W0exByItWfLA"
      },
      "source": [
        "The model predicts some college education"
      ]
    },
    {
      "cell_type": "markdown",
      "metadata": {
        "id": "fdLNA0ce1prd"
      },
      "source": [
        "### Part (f) [2 pt]\n",
        "\n",
        "What is the baseline model's prediction\n",
        "of this person's education level?"
      ]
    },
    {
      "cell_type": "markdown",
      "metadata": {
        "id": "O5s1rcDyWkUX"
      },
      "source": [
        "The baseline model predicts that the person is a high school graduate."
      ]
    }
  ]
}